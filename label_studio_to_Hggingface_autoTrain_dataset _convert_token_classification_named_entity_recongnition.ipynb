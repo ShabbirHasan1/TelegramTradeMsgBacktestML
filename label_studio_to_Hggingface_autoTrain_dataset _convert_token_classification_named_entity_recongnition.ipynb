{
 "cells": [
  {
   "cell_type": "markdown",
   "id": "1a27b20c",
   "metadata": {
    "toc": true
   },
   "source": [
    "<h1>Table of Contents<span class=\"tocSkip\"></span></h1>\n",
    "<div class=\"toc\"><ul class=\"toc-item\"><li><span><a href=\"#Convert-Label-Studio-CSV-to-Huggingface-autoTrain-Token-Classification-Training-File\" data-toc-modified-id=\"Convert-Label-Studio-CSV-to-Huggingface-autoTrain-Token-Classification-Training-File-1\"><span class=\"toc-item-num\">1&nbsp;&nbsp;</span>Convert Label-Studio CSV to Huggingface autoTrain Token Classification Training File</a></span></li><li><span><a href=\"#Define-Predict-Function-Using-Trained-Model-From-AutoTrain-Huggingface-Returns-Dictionary-With-Data\" data-toc-modified-id=\"Define-Predict-Function-Using-Trained-Model-From-AutoTrain-Huggingface-Returns-Dictionary-With-Data-2\"><span class=\"toc-item-num\">2&nbsp;&nbsp;</span>Define Predict Function Using Trained Model From AutoTrain Huggingface Returns Dictionary With Data</a></span></li><li><span><a href=\"#Make-list_of_predictions-using-HuggingFace-autoTrain-model\" data-toc-modified-id=\"Make-list_of_predictions-using-HuggingFace-autoTrain-model-3\"><span class=\"toc-item-num\">3&nbsp;&nbsp;</span>Make list_of_predictions using HuggingFace autoTrain model</a></span></li><li><span><a href=\"#Interactively-Curate-True-and-Falsified-Predictions-and-store-to-joblib-file\" data-toc-modified-id=\"Interactively-Curate-True-and-Falsified-Predictions-and-store-to-joblib-file-4\"><span class=\"toc-item-num\">4&nbsp;&nbsp;</span>Interactively Curate True and Falsified Predictions and store to joblib file</a></span></li><li><span><a href=\"#Backtest-agaist-real-data\" data-toc-modified-id=\"Backtest-agaist-real-data-5\"><span class=\"toc-item-num\">5&nbsp;&nbsp;</span>Backtest agaist real data</a></span></li><li><span><a href=\"#Listen-to-Telegram-Channel-for-messages-and-predict-tokens\" data-toc-modified-id=\"Listen-to-Telegram-Channel-for-messages-and-predict-tokens-6\"><span class=\"toc-item-num\">6&nbsp;&nbsp;</span>Listen to Telegram Channel for messages and predict tokens</a></span></li><li><span><a href=\"#Supplimentry-Functions\" data-toc-modified-id=\"Supplimentry-Functions-7\"><span class=\"toc-item-num\">7&nbsp;&nbsp;</span>Supplimentry Functions</a></span></li></ul></div>"
   ]
  },
  {
   "cell_type": "markdown",
   "id": "b4285e2b",
   "metadata": {},
   "source": [
    "Tested on   \n",
    "python3.8  \n",
    "pandas-1.5.0  "
   ]
  },
  {
   "cell_type": "markdown",
   "id": "cb5dce30",
   "metadata": {},
   "source": [
    "TODO:  \n",
    "1 : make pytohn api for web interaction    \n",
    "2 : test against other groups data than ratnakar  \n",
    "3 : "
   ]
  },
  {
   "cell_type": "markdown",
   "id": "d65e9a72",
   "metadata": {},
   "source": [
    "# Convert Label-Studio CSV to Huggingface autoTrain Token Classification Training File"
   ]
  },
  {
   "cell_type": "code",
   "execution_count": null,
   "id": "50c202bc",
   "metadata": {
    "ExecuteTime": {
     "end_time": "2022-09-30T17:04:09.336702Z",
     "start_time": "2022-09-30T17:04:08.792421Z"
    }
   },
   "outputs": [],
   "source": [
    "import pandas as pd\n",
    "import ast\n",
    "from tqdm import  tqdm\n",
    "import math\n",
    "import re\n",
    "import numpy as np\n",
    "import ipywidgets as widgets\n",
    "from functools import partial\n",
    "from IPython.display import clear_output\n",
    "import joblib\n",
    "import telegramAuth"
   ]
  },
  {
   "cell_type": "markdown",
   "id": "1ef80bc1",
   "metadata": {},
   "source": [
    "##### Load Local saved Label-studio CSV export file"
   ]
  },
  {
   "cell_type": "code",
   "execution_count": null,
   "id": "7b6fdc49",
   "metadata": {
    "ExecuteTime": {
     "end_time": "2022-09-30T17:04:09.360366Z",
     "start_time": "2022-09-30T17:04:09.357127Z"
    }
   },
   "outputs": [],
   "source": [
    "# pip install joblib"
   ]
  },
  {
   "cell_type": "code",
   "execution_count": null,
   "id": "8d11e862",
   "metadata": {
    "ExecuteTime": {
     "end_time": "2022-09-30T17:04:09.643532Z",
     "start_time": "2022-09-30T17:04:09.585447Z"
    },
    "scrolled": false
   },
   "outputs": [
    {
     "data": {
      "text/html": [
       "<div>\n",
       "<style scoped>\n",
       "    .dataframe tbody tr th:only-of-type {\n",
       "        vertical-align: middle;\n",
       "    }\n",
       "\n",
       "    .dataframe tbody tr th {\n",
       "        vertical-align: top;\n",
       "    }\n",
       "\n",
       "    .dataframe thead th {\n",
       "        text-align: right;\n",
       "    }\n",
       "</style>\n",
       "<table border=\"1\" class=\"dataframe\">\n",
       "  <thead>\n",
       "    <tr style=\"text-align: right;\">\n",
       "      <th></th>\n",
       "      <th>text</th>\n",
       "      <th>id</th>\n",
       "      <th>label</th>\n",
       "      <th>annotator</th>\n",
       "      <th>annotation_id</th>\n",
       "      <th>created_at</th>\n",
       "      <th>updated_at</th>\n",
       "      <th>lead_time</th>\n",
       "    </tr>\n",
       "  </thead>\n",
       "  <tbody>\n",
       "    <tr>\n",
       "      <th>0</th>\n",
       "      <td>INTRADAY : BUY M&amp;MFIN CMP 189.25 SL 187 TARGET...</td>\n",
       "      <td>1137</td>\n",
       "      <td>[{\"start\": 0, \"end\": 8, \"text\": \"INTRADAY\", \"l...</td>\n",
       "      <td>1</td>\n",
       "      <td>1143</td>\n",
       "      <td>2022-09-15T20:34:16.930865Z</td>\n",
       "      <td>2022-09-15T20:34:16.930928Z</td>\n",
       "      <td>16.611</td>\n",
       "    </tr>\n",
       "    <tr>\n",
       "      <th>1</th>\n",
       "      <td>WATCHOUT.. TOKYOPLAST... GOING UP.... TOUCHED ...</td>\n",
       "      <td>1136</td>\n",
       "      <td>[{\"start\": 11, \"end\": 21, \"text\": \"TOKYOPLAST\"...</td>\n",
       "      <td>1</td>\n",
       "      <td>1142</td>\n",
       "      <td>2022-09-15T20:33:58.815115Z</td>\n",
       "      <td>2022-09-15T20:33:58.815174Z</td>\n",
       "      <td>8.208</td>\n",
       "    </tr>\n",
       "    <tr>\n",
       "      <th>2</th>\n",
       "      <td>WATCHOUT... ABOVE 95 IT TOUCHED 101.70.. NEAR ...</td>\n",
       "      <td>1135</td>\n",
       "      <td>[{\"start\": 18, \"end\": 20, \"text\": \"95\", \"label...</td>\n",
       "      <td>1</td>\n",
       "      <td>1141</td>\n",
       "      <td>2022-09-15T20:33:41.581882Z</td>\n",
       "      <td>2022-09-15T20:33:41.581940Z</td>\n",
       "      <td>19.453</td>\n",
       "    </tr>\n",
       "    <tr>\n",
       "      <th>3</th>\n",
       "      <td>INTRADAY : BUY JYOTHYLAB CMP 161 SL 158 TARGET...</td>\n",
       "      <td>1134</td>\n",
       "      <td>[{\"start\": 0, \"end\": 8, \"text\": \"INTRADAY\", \"l...</td>\n",
       "      <td>1</td>\n",
       "      <td>1140</td>\n",
       "      <td>2022-09-15T20:33:20.613625Z</td>\n",
       "      <td>2022-09-15T20:33:20.613684Z</td>\n",
       "      <td>23.483</td>\n",
       "    </tr>\n",
       "    <tr>\n",
       "      <th>4</th>\n",
       "      <td>JYOTHYLAB IS VERY GOOD FOR DELIVERY ALSO  STRI...</td>\n",
       "      <td>1133</td>\n",
       "      <td>[{\"start\": 0, \"end\": 9, \"text\": \"JYOTHYLAB\", \"...</td>\n",
       "      <td>1</td>\n",
       "      <td>1139</td>\n",
       "      <td>2022-09-15T20:32:55.622748Z</td>\n",
       "      <td>2022-09-15T20:32:55.622787Z</td>\n",
       "      <td>16.428</td>\n",
       "    </tr>\n",
       "  </tbody>\n",
       "</table>\n",
       "</div>"
      ],
      "text/plain": [
       "                                                text    id  \\\n",
       "0  INTRADAY : BUY M&MFIN CMP 189.25 SL 187 TARGET...  1137   \n",
       "1  WATCHOUT.. TOKYOPLAST... GOING UP.... TOUCHED ...  1136   \n",
       "2  WATCHOUT... ABOVE 95 IT TOUCHED 101.70.. NEAR ...  1135   \n",
       "3  INTRADAY : BUY JYOTHYLAB CMP 161 SL 158 TARGET...  1134   \n",
       "4  JYOTHYLAB IS VERY GOOD FOR DELIVERY ALSO  STRI...  1133   \n",
       "\n",
       "                                               label  annotator  \\\n",
       "0  [{\"start\": 0, \"end\": 8, \"text\": \"INTRADAY\", \"l...          1   \n",
       "1  [{\"start\": 11, \"end\": 21, \"text\": \"TOKYOPLAST\"...          1   \n",
       "2  [{\"start\": 18, \"end\": 20, \"text\": \"95\", \"label...          1   \n",
       "3  [{\"start\": 0, \"end\": 8, \"text\": \"INTRADAY\", \"l...          1   \n",
       "4  [{\"start\": 0, \"end\": 9, \"text\": \"JYOTHYLAB\", \"...          1   \n",
       "\n",
       "   annotation_id                   created_at                   updated_at  \\\n",
       "0           1143  2022-09-15T20:34:16.930865Z  2022-09-15T20:34:16.930928Z   \n",
       "1           1142  2022-09-15T20:33:58.815115Z  2022-09-15T20:33:58.815174Z   \n",
       "2           1141  2022-09-15T20:33:41.581882Z  2022-09-15T20:33:41.581940Z   \n",
       "3           1140  2022-09-15T20:33:20.613625Z  2022-09-15T20:33:20.613684Z   \n",
       "4           1139  2022-09-15T20:32:55.622748Z  2022-09-15T20:32:55.622787Z   \n",
       "\n",
       "   lead_time  \n",
       "0     16.611  \n",
       "1      8.208  \n",
       "2     19.453  \n",
       "3     23.483  \n",
       "4     16.428  "
      ]
     },
     "execution_count": 3,
     "metadata": {},
     "output_type": "execute_result"
    }
   ],
   "source": [
    "csv_import = pd.read_csv('./project-1-at-2022-09-19-18-31-ecd4d830.csv')\n",
    "csv_import.head()"
   ]
  },
  {
   "cell_type": "code",
   "execution_count": null,
   "id": "67807cb4",
   "metadata": {
    "ExecuteTime": {
     "end_time": "2022-09-30T17:04:09.789087Z",
     "start_time": "2022-09-30T17:04:09.785224Z"
    }
   },
   "outputs": [],
   "source": [
    "# convert_label_studio_to_hngFace_autoTrain_dataset(csv_import)"
   ]
  },
  {
   "cell_type": "code",
   "execution_count": null,
   "id": "390189a8",
   "metadata": {
    "ExecuteTime": {
     "end_time": "2022-09-30T17:04:10.019056Z",
     "start_time": "2022-09-30T17:04:09.993865Z"
    }
   },
   "outputs": [],
   "source": [
    "def NEW_LOGIC_convert_label_studio_to_hngFace_autoTrain_dataset(csv_import) -> list:\n",
    "    '''Converts export file from Label-Studio to HuggingFace autoTrain trainable dataset\n",
    "    Example : \n",
    "    \n",
    "    *****   INPUT of this function  **** (file : ../project-1-at-2022-09-13-06-14-0f0c0db3.csv))\n",
    "    text\tid\tannotator\tannotation_id\tcreated_at\tupdated_at\tlead_time\tlabel\n",
    "    KEEP   JAGSNPHARM ON RADAR... \t1001\t1\t1007\t2022-09-13T05:51:47.578986Z\t2022-09-13T05:51:47.579052Z\t4.298\t[{\"start\": 7, \"end\": 17, \"text\": \"JAGSNPHARM\", \"labels\": [\"symbol\"]}]\n",
    "    INTRADAY : BUY JAGSNPHARM ABOVE 306 SL 302 TARGET 312 - 316 - 320 \t1000\t1\t1006\t2022-09-13T05:51:41.795524Z\t2022-09-13T05:51:41.795587Z\t6.055\t[{\"start\": 15, \"end\": 25, \"text\": \"JAGSNPHARM\", \"labels\": [\"symbol\"]}, {\"start\": 32, \"end\": 35, \"text\": \"306\", \"labels\": [\"enter\"]}, {\"start\": 39, \"end\": 42, \"text\": \"302\", \"labels\": [\"sl\"]}, {\"start\": 50, \"end\": 53, \"text\": \"312\", \"labels\": [\"exit\"]}]\n",
    "    SUPER DUPER FUNDAMENTALS IN JAGSNPHARM... \t999\t1\t1005\t2022-09-13T05:51:34.283369Z\t2022-09-13T05:51:34.283431Z\t2.903\t[{\"start\": 28, \"end\": 38, \"text\": \"JAGSNPHARM\", \"labels\": [\"symbol\"]}]\n",
    "    \n",
    "    *****   OUTPUT of this function  **** (file : ./dataset_for_huggingface_autoTrain_label_vlassification.csv)\n",
    "    text\tlabel\n",
    "    ['KEEP   ', 'JAGSNPHARM', ' ON RADAR... ']\t['NANA', 'symbol', 'NANA']\n",
    "    ['INTRADAY : BUY ', 'JAGSNPHARM', ' ABOVE ', '306', ' SL ', '302', ' TARGET ', '312', ' - 316 - 320 ']\t['NANA', 'symbol', 'NANA', 'enter', 'NANA', 'sl', 'NANA', 'exit', 'NANA']\n",
    "    ['JAGSNPHARM', '... ']\t['symbol', 'NANA']\n",
    "    '''\n",
    "    \n",
    "    final_dataset = []\n",
    "    for indx in csv_import.index:\n",
    "        this_label = csv_import.label[indx]\n",
    "        this_test_str = ''\n",
    "\n",
    "    #     print(f'{indx=}')\n",
    "    #     print(f'{this_label=}')\n",
    "\n",
    "    #     print(f'{type(this_test_str)=}')\n",
    "    #     print(f'{type(this_label)=}')\n",
    "\n",
    "        if(type(this_test_str) != type(this_label)):\n",
    "            if(np.isnan(this_label)):\n",
    "                final_dataset.append({'text':'','label':'NANA'})\n",
    "                continue\n",
    "\n",
    "        this_literal_list = ast.literal_eval(this_label)\n",
    "\n",
    "        start_pos_of_label__list = []\n",
    "        for ipdata in this_literal_list:\n",
    "            start_pos_of_label__list.append(ipdata['start'])\n",
    "        start_pos_of_label__list\n",
    "        start_pos_of_label__array = np.array(start_pos_of_label__list)\n",
    "        sort_index = np.argsort(start_pos_of_label__array)\n",
    "    #     print(start_pos_of_label__array)\n",
    "    #     print(sort_index)\n",
    "\n",
    "        this_text = csv_import.text[indx]\n",
    "\n",
    "        final_label_text = []\n",
    "        final_label_annotation = []\n",
    "        init_labeling = True\n",
    "        last_end_position = 0\n",
    "        for i in sort_index:\n",
    "        #     print(this_literal_list[i])\n",
    "            this_label_type = this_literal_list[i]['labels'][0]\n",
    "        #     print(f'{this_label_type=}')\n",
    "            this_label_start_position = this_literal_list[i]['start']\n",
    "            this_label_end_position = this_literal_list[i]['end']\n",
    "        #     print(f'{this_label_start_position=}')\n",
    "        #     print(f'{this_label_end_position=}')\n",
    "        #     print(f'{this_text=}')\n",
    "        #     print(f'{this_text[this_label_start_position:this_label_end_position]=}')\n",
    "        #     print()\n",
    "\n",
    "            if(init_labeling & this_label_start_position!=0):\n",
    "                final_label_text.append(this_text[0:this_label_start_position])\n",
    "                final_label_annotation.append('NANA')\n",
    "\n",
    "            final_label_text.append(this_text[this_label_start_position:this_label_end_position])\n",
    "            final_label_annotation.append(this_label_type)\n",
    "\n",
    "            if((i)<sort_index[-1]):\n",
    "                next_word_start_position = this_literal_list[i+1]['start']\n",
    "                if(this_label_end_position!=next_word_start_position):\n",
    "                    final_label_text.append(this_text[this_label_end_position:next_word_start_position])\n",
    "                    final_label_annotation.append('NANA')\n",
    "\n",
    "\n",
    "            last_end_position=this_label_end_position\n",
    "        #     print('==debug==')\n",
    "        #     print(f'{i=}')\n",
    "        #     print(f'{sort_index[-1]=}')\n",
    "        #     print(f'{this_label_end_position=}')\n",
    "        #     print(f'{len(this_text)=}')\n",
    "        #     print(f'{((i==sort_index[-1]) and this_label_end_position<len(this_text))=}')\n",
    "        #     print('==debug==')\n",
    "\n",
    "            if((i==sort_index[-1]) and this_label_end_position<len(this_text)):\n",
    "                final_label_text.append(this_text[this_label_end_position:])\n",
    "                final_label_annotation.append('NANA')\n",
    "\n",
    "\n",
    "            init_labeling = False\n",
    "        #     break\n",
    "\n",
    "        # print('--------------------')\n",
    "    #     display(f'{final_label_text=}')\n",
    "    #     display(f'{final_label_annotation=}')\n",
    "\n",
    "        final_dataset.append({'text':final_label_text,'label':final_label_annotation})\n",
    "    return final_dataset"
   ]
  },
  {
   "cell_type": "code",
   "execution_count": null,
   "id": "4027a47d",
   "metadata": {
    "ExecuteTime": {
     "end_time": "2022-09-30T17:04:10.162935Z",
     "start_time": "2022-09-30T17:04:10.159251Z"
    }
   },
   "outputs": [],
   "source": [
    "# this_dataset_df = pd.DataFrame(NEW_LOGIC_convert_label_studio_to_hngFace_autoTrain_dataset(csv_import))\n",
    "# this_dataset_df.to_csv('./dataset_for_huggingface_autoTrain_label_vlassification_NEW_LOGIC.csv',index=False)\n",
    "# this_dataset_df"
   ]
  },
  {
   "cell_type": "code",
   "execution_count": null,
   "id": "26263a32",
   "metadata": {
    "ExecuteTime": {
     "end_time": "2022-09-30T17:04:10.365297Z",
     "start_time": "2022-09-30T17:04:10.360154Z"
    }
   },
   "outputs": [],
   "source": [
    "# 192.168.227.62 - - [19/Sep/2022 18:09:36] \"GET /api/jobs/65320ac73a4847a2b5a7f8ddbd45b821 HTTP/1.1\" 200 -\n",
    "# 2022-09-19 18:09:37 sparsify.blueprints.jobs INFO     getting job 65320ac73a4847a2b5a7f8ddbd45b821\n",
    "# 2022-09-19 18:09:37 sparsify.blueprints.jobs INFO     retrieved job {'job': {'created': '2022-09-19T18:09:22.636614', 'worker_args': {'model_id': '5f276c2809654a24adb8d4ed4c3da3d7', 'profile_id': '4cbcefb9e2fe4a3fa7903604f72ea5a3', 'batch_size': 10, 'core_count': 8, 'pruning_estimations': True, 'quantized_estimations': False, 'iterations_per_check': 10, 'warmup_iterations_per_check': 5}, 'modified': '2022-09-19T18:09:36.205104', 'type_': 'CreatePerfProfileJobWorker', 'error': None, 'project_id': 'e1852305571c4f138149d12312acc30d', 'job_id': '65320ac73a4847a2b5a7f8ddbd45b821', 'progress': None, 'status': 'started'}}\n",
    "# 192.168.227.62 - - [19/Sep/2022 18:09:37] \"GET /api/jobs/65320ac73a4847a2b5a7f8ddbd45b821 HTTP/1.1\" 200 -\n",
    "# 2022-09-19 18:09:37 sparsify.workers.manager WARNING  Job 65320ac73a4847a2b5a7f8ddbd45b821 errored out Invalid input shape, cannot create a random input shape from: (None,)\n",
    "# 2022-09-19 18:09:37 sparsify.blueprints.jobs INFO     getting job 65320ac73a4847a2b5a7f8ddbd45b821\n",
    "# 2022-09-19 18:09:37 sparsify.blueprints.jobs INFO     retrieved job {'job': {'created': '2022-09-19T18:09:22.636614', 'worker_args': {'model_id': '5f276c2809654a24adb8d4ed4c3da3d7', 'profile_id': '4cbcefb9e2fe4a3fa7903604f72ea5a3', 'batch_size': 10, 'core_count': 8, 'pruning_estimations': True, 'quantized_estimations': False, 'iterations_per_check': 10, 'warmup_iterations_per_check': 5}, 'modified': '2022-09-19T18:09:37.427305', 'type_': 'CreatePerfProfileJobWorker', 'error': 'Invalid input shape, cannot create a random input shape from: (None,)', 'project_id': 'e1852305571c4f138149d12312acc30d', 'job_id': '65320ac73a4847a2b5a7f8ddbd45b821', 'progress': None, 'status': 'canceled'}}\n",
    "# 192.168.227.62 - - [19/Sep/2022 18:09:37] \"GET /api/jobs/65320ac73a4847a2b5a7f8ddbd45b821 HTTP/1.1\" 200 -\n"
   ]
  },
  {
   "cell_type": "markdown",
   "id": "f6b8df03",
   "metadata": {},
   "source": [
    "# Define Predict Function Using Trained Model From AutoTrain Huggingface Returns Dictionary With Data"
   ]
  },
  {
   "cell_type": "code",
   "execution_count": null,
   "id": "3c608242",
   "metadata": {
    "ExecuteTime": {
     "end_time": "2022-09-30T17:04:11.403944Z",
     "start_time": "2022-09-30T17:04:11.400271Z"
    }
   },
   "outputs": [],
   "source": [
    "# pip install torch torchvision torchaudio --extra-index-url https://download.pytorch.org/whl/cpu"
   ]
  },
  {
   "cell_type": "code",
   "execution_count": null,
   "id": "8c1b053a",
   "metadata": {
    "ExecuteTime": {
     "end_time": "2022-09-30T17:04:31.063445Z",
     "start_time": "2022-09-30T17:04:11.590720Z"
    }
   },
   "outputs": [],
   "source": [
    "###### LOAD PRETRAINED MODEL FROM HUGGINGFACE autoTrain #################\n",
    "from transformers import AutoModelForTokenClassification, AutoTokenizer\n",
    "model = AutoModelForTokenClassification.from_pretrained(\"hemangjoshi37a/autotrain-ratnakar_1000_sample_curated-1474454086\", use_auth_token=True)\n",
    "tokenizer = AutoTokenizer.from_pretrained(\"hemangjoshi37a/autotrain-ratnakar_1000_sample_curated-1474454086\", use_auth_token=True)"
   ]
  },
  {
   "cell_type": "code",
   "execution_count": null,
   "id": "ec679ebe",
   "metadata": {
    "ExecuteTime": {
     "end_time": "2022-09-30T17:04:31.124863Z",
     "start_time": "2022-09-30T17:04:31.120835Z"
    }
   },
   "outputs": [],
   "source": [
    "# #### EXPORT HUGGINFFACE MODEL TO ONNX TYPE MODEL FOR SPARSE LEARNING #####\n",
    "# base_model=model\n",
    "\n",
    "# from transformers.models.distilbert import DistilBertConfig, DistilBertOnnxConfig\n",
    "\n",
    "# DistilBertOnnxConfig(base_model.config)\n",
    "\n",
    "# from pathlib import Path\n",
    "# from transformers.onnx import export\n",
    "# from transformers import AutoTokenizer, AutoModel\n",
    "\n",
    "# onnx_path = Path(\"./autotrain-ratnakar_1000_sample_curated-1474454086\")\n",
    "# # model_ckpt = \"distilbert-base-uncased\"\n",
    "# # base_model = AutoModel.from_pretrained(model_ckpt)\n",
    "# # tokenizer = AutoTokenizer.from_pretrained(model_ckpt)\n",
    "\n",
    "# onnx_inputs, onnx_outputs = export(tokenizer, base_model, DistilBertOnnxConfig(base_model.config), DistilBertOnnxConfig(base_model.config).default_onnx_opset, onnx_path)\n",
    "\n",
    "# from transformers import AutoConfig\n",
    "\n",
    "# config = AutoConfig.from_pretrained('hemangjoshi37a/autotrain-ratnakar_1000_sample_curated-1474454086')\n",
    "\n",
    "# tokenizer.save_pretrained('./model_files/')\n",
    "# config.save_pretrained('./model_files/')"
   ]
  },
  {
   "cell_type": "code",
   "execution_count": null,
   "id": "be6d3166",
   "metadata": {},
   "outputs": [],
   "source": []
  },
  {
   "cell_type": "code",
   "execution_count": null,
   "id": "b2461f02",
   "metadata": {
    "ExecuteTime": {
     "end_time": "2022-09-30T17:04:31.275672Z",
     "start_time": "2022-09-30T17:04:31.269951Z"
    }
   },
   "outputs": [],
   "source": [
    "class_number_to_name_dict = {0 : '',\n",
    "                            1 : 'btst',\n",
    "                            2 : 'delivery',\n",
    "                            3 : 'enter',\n",
    "                            4 : 'momentum',\n",
    "                            5 : 'exit',\n",
    "                            6 : 'exit2',\n",
    "                            7 : 'exit3',\n",
    "                            8 : 'intraday',\n",
    "                            9 : 'sl',\n",
    "                            10 : 'symbol',\n",
    "                            11 : 'touched'}\n",
    "# class_number_to_name_dict"
   ]
  },
  {
   "cell_type": "code",
   "execution_count": null,
   "id": "1ebb89ba",
   "metadata": {
    "ExecuteTime": {
     "end_time": "2022-09-30T17:04:31.362461Z",
     "start_time": "2022-09-30T17:04:31.344872Z"
    }
   },
   "outputs": [],
   "source": [
    "def get_class_map_from_message_NEW(input_message:str) -> dict:\n",
    "    ########### PREDICT TEXT AND CLASSIFY WORDS ##########\n",
    "    ip1 = tokenizer(input_message,return_tensors='pt')\n",
    "    op1 = model(**ip1)\n",
    "\n",
    "    current_word = ''\n",
    "    sentence = []\n",
    "    sentence_class= []\n",
    "    sentence_class_name= []\n",
    "    list_of_decoded_words = tokenizer.batch_decode(ip1['input_ids'][0])\n",
    "    last_word_contained_hash = False\n",
    "    last_classification_numner = 0\n",
    "    last_decoded_word = ''\n",
    "\n",
    "    for onet in range(len(ip1['input_ids'][0])):\n",
    "        this_token = ip1['input_ids'][0][onet]\n",
    "        this_classification = op1.logits[0][onet].tolist()\n",
    "        this_decoded_word = list_of_decoded_words[onet]\n",
    "        this_classification_number = np.argmax(this_classification)\n",
    "\n",
    "        if(this_decoded_word=='[CLS]' or this_decoded_word=='[SEP]'):\n",
    "            continue\n",
    "\n",
    "#         print(f'{this_decoded_word=}')\n",
    "# #         print(f'{this_classification=}')\n",
    "#         print(f'{this_classification_number=}')\n",
    "\n",
    "        this_word_contains_hash= '#' in this_decoded_word\n",
    "\n",
    "        if('#' in this_decoded_word):\n",
    "            hash_replaced_word = this_decoded_word.replace('#','')\n",
    "#             print(f'''{hash_replaced_word=}''')\n",
    "            current_word = current_word+hash_replaced_word\n",
    "#             print(f'{current_word=}')\n",
    "            last_word_contained_hash=True\n",
    "\n",
    "        elif((this_classification_number==last_classification_numner) and ((this_decoded_word=='.') or (last_decoded_word=='.'))):\n",
    "            last_classification_numner = this_classification_number\n",
    "            current_word = current_word+this_decoded_word\n",
    "                \n",
    "        else:\n",
    "#             print('========== insidious ===============')\n",
    "            sentence.append(current_word)\n",
    "            sentence_class.append(last_classification_numner)\n",
    "            sentence_class_name.append(class_number_to_name_dict[last_classification_numner])\n",
    "#             print(f'{current_word=}')\n",
    "#             print(f'{sentence=}')\n",
    "#             print(f'{last_classification_numner=}')\n",
    "#             print(f'{sentence_class=}')\n",
    "#             print(f'{current_word=}')\n",
    "            current_word=this_decoded_word\n",
    "            last_classification_numner = this_classification_number\n",
    "            \n",
    "            last_word_contained_hash=False\n",
    "        last_decoded_word = this_decoded_word\n",
    "\n",
    "\n",
    "#         print('======================================')\n",
    "\n",
    "    sentence.append(current_word)\n",
    "    sentence_class.append(last_classification_numner)\n",
    "    sentence_class_name.append(class_number_to_name_dict[last_classification_numner])\n",
    "    resultsdf = pd.DataFrame({'sentence':sentence,\n",
    "                        'sentence_class':sentence_class,\n",
    "                        'sentence_class_name':sentence_class_name,\n",
    "                       })\n",
    "    \n",
    "#     display(resultsdf)\n",
    "    return resultsdf"
   ]
  },
  {
   "cell_type": "code",
   "execution_count": null,
   "id": "250e571b",
   "metadata": {
    "ExecuteTime": {
     "end_time": "2022-09-30T17:04:33.993201Z",
     "start_time": "2022-09-30T17:04:31.432385Z"
    },
    "scrolled": false
   },
   "outputs": [
    {
     "data": {
      "text/html": [
       "<div>\n",
       "<style scoped>\n",
       "    .dataframe tbody tr th:only-of-type {\n",
       "        vertical-align: middle;\n",
       "    }\n",
       "\n",
       "    .dataframe tbody tr th {\n",
       "        vertical-align: top;\n",
       "    }\n",
       "\n",
       "    .dataframe thead th {\n",
       "        text-align: right;\n",
       "    }\n",
       "</style>\n",
       "<table border=\"1\" class=\"dataframe\">\n",
       "  <thead>\n",
       "    <tr style=\"text-align: right;\">\n",
       "      <th></th>\n",
       "      <th>sentence</th>\n",
       "      <th>sentence_class</th>\n",
       "      <th>sentence_class_name</th>\n",
       "    </tr>\n",
       "  </thead>\n",
       "  <tbody>\n",
       "    <tr>\n",
       "      <th>0</th>\n",
       "      <td></td>\n",
       "      <td>0</td>\n",
       "      <td></td>\n",
       "    </tr>\n",
       "    <tr>\n",
       "      <th>1</th>\n",
       "      <td>DELIVERY</td>\n",
       "      <td>2</td>\n",
       "      <td>delivery</td>\n",
       "    </tr>\n",
       "    <tr>\n",
       "      <th>2</th>\n",
       "      <td>BUY</td>\n",
       "      <td>0</td>\n",
       "      <td></td>\n",
       "    </tr>\n",
       "    <tr>\n",
       "      <th>3</th>\n",
       "      <td>TI</td>\n",
       "      <td>10</td>\n",
       "      <td>symbol</td>\n",
       "    </tr>\n",
       "    <tr>\n",
       "      <th>4</th>\n",
       "      <td>CMP</td>\n",
       "      <td>0</td>\n",
       "      <td></td>\n",
       "    </tr>\n",
       "    <tr>\n",
       "      <th>5</th>\n",
       "      <td>93.20</td>\n",
       "      <td>3</td>\n",
       "      <td>enter</td>\n",
       "    </tr>\n",
       "    <tr>\n",
       "      <th>6</th>\n",
       "      <td>SL</td>\n",
       "      <td>0</td>\n",
       "      <td></td>\n",
       "    </tr>\n",
       "    <tr>\n",
       "      <th>7</th>\n",
       "      <td>70</td>\n",
       "      <td>9</td>\n",
       "      <td>sl</td>\n",
       "    </tr>\n",
       "    <tr>\n",
       "      <th>8</th>\n",
       "      <td>TARGET</td>\n",
       "      <td>0</td>\n",
       "      <td></td>\n",
       "    </tr>\n",
       "    <tr>\n",
       "      <th>9</th>\n",
       "      <td>145</td>\n",
       "      <td>5</td>\n",
       "      <td>exit</td>\n",
       "    </tr>\n",
       "  </tbody>\n",
       "</table>\n",
       "</div>"
      ],
      "text/plain": [
       "   sentence  sentence_class sentence_class_name\n",
       "0                         0                    \n",
       "1  DELIVERY               2            delivery\n",
       "2       BUY               0                    \n",
       "3        TI              10              symbol\n",
       "4       CMP               0                    \n",
       "5     93.20               3               enter\n",
       "6        SL               0                    \n",
       "7        70               9                  sl\n",
       "8    TARGET               0                    \n",
       "9       145               5                exit"
      ]
     },
     "execution_count": 13,
     "metadata": {},
     "output_type": "execute_result"
    }
   ],
   "source": [
    "get_class_map_from_message_NEW('''DELIVERY\n",
    "\n",
    "BUY TI CMP 93.20\n",
    "\n",
    "SL 70 TARGET 145''')"
   ]
  },
  {
   "cell_type": "code",
   "execution_count": null,
   "id": "f85b72ec",
   "metadata": {},
   "outputs": [],
   "source": []
  },
  {
   "cell_type": "code",
   "execution_count": null,
   "id": "858e4b01",
   "metadata": {
    "ExecuteTime": {
     "end_time": "2022-09-30T17:04:34.073066Z",
     "start_time": "2022-09-30T17:04:34.069477Z"
    }
   },
   "outputs": [],
   "source": [
    "# pip install --upgrade openpyxl"
   ]
  },
  {
   "cell_type": "code",
   "execution_count": null,
   "id": "7c4edfb0",
   "metadata": {
    "ExecuteTime": {
     "end_time": "2022-09-30T17:16:01.023266Z",
     "start_time": "2022-09-30T17:16:01.018947Z"
    }
   },
   "outputs": [],
   "source": [
    "# messagesdf = pd.read_excel('./time_message_list_df2.xlsx')\n",
    "# del messagesdf['symbol']\n",
    "# messagesdf['something'] = ''\n",
    "# messagesdf['prediction'] = ''\n",
    "# messagesdf['isPredAccurate'] = ''\n",
    "# messagesdf['symbol'] = ''\n",
    "# messagesdf['enter'] = ''\n",
    "# messagesdf['sl'] = ''\n",
    "# messagesdf['exit'] = ''\n",
    "# messagesdf['insttkn'] = ''\n",
    "# messagesdf"
   ]
  },
  {
   "cell_type": "code",
   "execution_count": null,
   "id": "202eaeaa",
   "metadata": {},
   "outputs": [],
   "source": []
  },
  {
   "cell_type": "code",
   "execution_count": null,
   "id": "044c7cd0",
   "metadata": {},
   "outputs": [],
   "source": []
  },
  {
   "cell_type": "code",
   "execution_count": null,
   "id": "99619b2c",
   "metadata": {},
   "outputs": [],
   "source": []
  },
  {
   "cell_type": "markdown",
   "id": "db3ee5da",
   "metadata": {},
   "source": [
    "# Make list_of_predictions using HuggingFace autoTrain model"
   ]
  },
  {
   "cell_type": "code",
   "execution_count": null,
   "id": "c7f495fd",
   "metadata": {
    "ExecuteTime": {
     "end_time": "2022-09-30T16:32:55.895831Z",
     "start_time": "2022-09-30T16:32:51.233667Z"
    }
   },
   "outputs": [],
   "source": [
    "list_of_predictions = joblib.load('./list_of_predictions.p')\n",
    "# list_len = len(list_of_predictions)\n",
    "# # len_of_messagedf = len(messagedf.index)\n",
    "# print(f'{list_len=}')\n",
    "# # print(f'{len_of_messagedf=}')"
   ]
  },
  {
   "cell_type": "code",
   "execution_count": null,
   "id": "912b2a3c",
   "metadata": {
    "ExecuteTime": {
     "end_time": "2022-09-30T16:33:20.297987Z",
     "start_time": "2022-09-30T16:33:20.292856Z"
    }
   },
   "outputs": [],
   "source": [
    "# list_of_predictions = []\n",
    "# for one_message in tqdm(messagesdf.message):\n",
    "# #     print(one_message)\n",
    "#     this_pred = get_class_map_from_message_NEW(one_message)\n",
    "#     list_of_predictions.append(this_pred)\n",
    "# #     print(list_of_predictions)\n",
    "# #     break"
   ]
  },
  {
   "cell_type": "code",
   "execution_count": null,
   "id": "b516ae47",
   "metadata": {
    "ExecuteTime": {
     "end_time": "2022-09-30T16:33:43.893591Z",
     "start_time": "2022-09-30T16:33:43.890149Z"
    }
   },
   "outputs": [],
   "source": [
    "# joblib.dump(list_of_predictions,'./list_of_predictions.p')"
   ]
  },
  {
   "cell_type": "code",
   "execution_count": null,
   "id": "55add442",
   "metadata": {
    "ExecuteTime": {
     "end_time": "2022-09-30T16:47:56.803434Z",
     "start_time": "2022-09-30T16:47:56.799933Z"
    }
   },
   "outputs": [],
   "source": [
    "# pd.read_pickle('./curated_predictions.p')"
   ]
  },
  {
   "cell_type": "markdown",
   "id": "6afdae1e",
   "metadata": {},
   "source": [
    "# Interactively Curate True and Falsified Predictions and store to joblib file"
   ]
  },
  {
   "cell_type": "code",
   "execution_count": null,
   "id": "0cbe5206",
   "metadata": {
    "ExecuteTime": {
     "end_time": "2022-09-30T17:44:14.576605Z",
     "start_time": "2022-09-30T17:44:14.469413Z"
    }
   },
   "outputs": [
    {
     "data": {
      "text/html": [
       "<div>\n",
       "<style scoped>\n",
       "    .dataframe tbody tr th:only-of-type {\n",
       "        vertical-align: middle;\n",
       "    }\n",
       "\n",
       "    .dataframe tbody tr th {\n",
       "        vertical-align: top;\n",
       "    }\n",
       "\n",
       "    .dataframe thead th {\n",
       "        text-align: right;\n",
       "    }\n",
       "</style>\n",
       "<table border=\"1\" class=\"dataframe\">\n",
       "  <thead>\n",
       "    <tr style=\"text-align: right;\">\n",
       "      <th></th>\n",
       "      <th>time</th>\n",
       "      <th>message</th>\n",
       "      <th>prediction</th>\n",
       "      <th>isPredAccurate</th>\n",
       "    </tr>\n",
       "  </thead>\n",
       "  <tbody>\n",
       "    <tr>\n",
       "      <th>0</th>\n",
       "      <td>2022-09-08 06:50:40</td>\n",
       "      <td>FRIENDS..\\n\\nANYTIME MOMENTUM CAN COME IN DCMN...</td>\n",
       "      <td>['' 'FRIENDS..ANYTIME' 'MOMENTUM' 'CAN' 'COME'...</td>\n",
       "      <td>True</td>\n",
       "    </tr>\n",
       "    <tr>\n",
       "      <th>1</th>\n",
       "      <td>2022-09-08 06:42:16</td>\n",
       "      <td>KEEP DCMNVL ON RADAR\\n\\nAND WAIT TILL THERE IS...</td>\n",
       "      <td>['' 'KEEP' 'DCMNVL' 'ON' 'RADAR' 'AND' 'WAIT' ...</td>\n",
       "      <td>True</td>\n",
       "    </tr>\n",
       "    <tr>\n",
       "      <th>2</th>\n",
       "      <td>2022-09-08 06:35:28</td>\n",
       "      <td>DCMNVL... DCM Nouvelle Ltd\\n\\nHUGE MOMENTUM AB...</td>\n",
       "      <td>['' 'DCMNVL' '...DCM' 'Nouvelle' 'Ltd' 'HUGE' ...</td>\n",
       "      <td>True</td>\n",
       "    </tr>\n",
       "    <tr>\n",
       "      <th>3</th>\n",
       "      <td>2022-09-08 06:33:50</td>\n",
       "      <td>SUPER DUPER FUNDAMENTALS</td>\n",
       "      <td>['' 'SUPER' 'DUPER' 'FUNDAMENTALS']</td>\n",
       "      <td>True</td>\n",
       "    </tr>\n",
       "    <tr>\n",
       "      <th>4</th>\n",
       "      <td>2022-09-08 06:32:47</td>\n",
       "      <td>DELIVERY\\n\\nBUY DCMNVL CMP 202.70 SL 175 TARGE...</td>\n",
       "      <td>['' 'DELIVERY' 'BUY' 'DCMNVL' 'CMP' '202.70' '...</td>\n",
       "      <td>False</td>\n",
       "    </tr>\n",
       "    <tr>\n",
       "      <th>...</th>\n",
       "      <td>...</td>\n",
       "      <td>...</td>\n",
       "      <td>...</td>\n",
       "      <td>...</td>\n",
       "    </tr>\n",
       "    <tr>\n",
       "      <th>11719</th>\n",
       "      <td>2019-04-04 04:17:21</td>\n",
       "      <td>INTRADAY : BUY GUJGASLTD ABOVE 153 SL 150  TAR...</td>\n",
       "      <td>NaN</td>\n",
       "      <td>NaN</td>\n",
       "    </tr>\n",
       "    <tr>\n",
       "      <th>11720</th>\n",
       "      <td>2019-04-04 04:12:08</td>\n",
       "      <td>DELIVERY : BUY BOMDYEING CMP 144.85 SL 134 TAR...</td>\n",
       "      <td>NaN</td>\n",
       "      <td>NaN</td>\n",
       "    </tr>\n",
       "    <tr>\n",
       "      <th>11721</th>\n",
       "      <td>2019-04-03 09:58:55</td>\n",
       "      <td>BTST : MMTC CMP 29.25</td>\n",
       "      <td>NaN</td>\n",
       "      <td>NaN</td>\n",
       "    </tr>\n",
       "    <tr>\n",
       "      <th>11722</th>\n",
       "      <td>2019-04-03 09:55:59</td>\n",
       "      <td>BTST : EMKAY CMP 110</td>\n",
       "      <td>NaN</td>\n",
       "      <td>NaN</td>\n",
       "    </tr>\n",
       "    <tr>\n",
       "      <th>11723</th>\n",
       "      <td>2019-04-03 08:07:28</td>\n",
       "      <td>None</td>\n",
       "      <td>NaN</td>\n",
       "      <td>NaN</td>\n",
       "    </tr>\n",
       "  </tbody>\n",
       "</table>\n",
       "<p>11724 rows × 4 columns</p>\n",
       "</div>"
      ],
      "text/plain": [
       "                     time                                            message  \\\n",
       "0     2022-09-08 06:50:40  FRIENDS..\\n\\nANYTIME MOMENTUM CAN COME IN DCMN...   \n",
       "1     2022-09-08 06:42:16  KEEP DCMNVL ON RADAR\\n\\nAND WAIT TILL THERE IS...   \n",
       "2     2022-09-08 06:35:28  DCMNVL... DCM Nouvelle Ltd\\n\\nHUGE MOMENTUM AB...   \n",
       "3     2022-09-08 06:33:50                          SUPER DUPER FUNDAMENTALS    \n",
       "4     2022-09-08 06:32:47  DELIVERY\\n\\nBUY DCMNVL CMP 202.70 SL 175 TARGE...   \n",
       "...                   ...                                                ...   \n",
       "11719 2019-04-04 04:17:21  INTRADAY : BUY GUJGASLTD ABOVE 153 SL 150  TAR...   \n",
       "11720 2019-04-04 04:12:08  DELIVERY : BUY BOMDYEING CMP 144.85 SL 134 TAR...   \n",
       "11721 2019-04-03 09:58:55                             BTST : MMTC CMP 29.25    \n",
       "11722 2019-04-03 09:55:59                              BTST : EMKAY CMP 110    \n",
       "11723 2019-04-03 08:07:28                                              None    \n",
       "\n",
       "                                              prediction isPredAccurate  \n",
       "0      ['' 'FRIENDS..ANYTIME' 'MOMENTUM' 'CAN' 'COME'...           True  \n",
       "1      ['' 'KEEP' 'DCMNVL' 'ON' 'RADAR' 'AND' 'WAIT' ...           True  \n",
       "2      ['' 'DCMNVL' '...DCM' 'Nouvelle' 'Ltd' 'HUGE' ...           True  \n",
       "3                    ['' 'SUPER' 'DUPER' 'FUNDAMENTALS']           True  \n",
       "4      ['' 'DELIVERY' 'BUY' 'DCMNVL' 'CMP' '202.70' '...          False  \n",
       "...                                                  ...            ...  \n",
       "11719                                                NaN            NaN  \n",
       "11720                                                NaN            NaN  \n",
       "11721                                                NaN            NaN  \n",
       "11722                                                NaN            NaN  \n",
       "11723                                                NaN            NaN  \n",
       "\n",
       "[11724 rows x 4 columns]"
      ]
     },
     "execution_count": 56,
     "metadata": {},
     "output_type": "execute_result"
    }
   ],
   "source": [
    "##### Load messagedf using joblib #######\n",
    "# messagesdf = joblib.load('./messagesdf.p')\n",
    "messagesdf = pd.read_csv('./messagesdf.csv',parse_dates=['time'])\n",
    "messagesdf['time'] = messagesdf['time'].dt.tz_localize(None)\n",
    "# joblib.dump(messagesdf,'./curated_predictions.p')\n",
    "sample_number =  pd.read_csv('./sample_number.csv')['sample_number'][0]\n",
    "# joblib.dump(pd.DataFrame({'sample_number':sample_number},index=[0]),'./sample_number.p')\n",
    "messagesdf"
   ]
  },
  {
   "cell_type": "code",
   "execution_count": null,
   "id": "918d72e2",
   "metadata": {
    "ExecuteTime": {
     "end_time": "2022-09-30T17:44:17.727614Z",
     "start_time": "2022-09-30T17:44:17.716889Z"
    }
   },
   "outputs": [],
   "source": [
    "#### Sample Number Selector Carousal Widget ###\n",
    "def carousel_box_color(i,sample_number) -> str:\n",
    "    if(i==sample_number):\n",
    "        return 'danger'\n",
    "    else:\n",
    "        return 'warning'\n",
    "def carousel_on_sample_number_click(widget_data):\n",
    "    global sample_number\n",
    "    clear_output(wait=True)\n",
    "#     print(widget_data)\n",
    "#     print(int(widget_data.description))\n",
    "    sample_number = int(widget_data.description)\n",
    "#     print(f'{sample_number=}')\n",
    "    display_annotations()\n",
    "    display_common_widget()\n",
    "    sample_number+=1\n",
    "    \n",
    "def carousal_number_range(sample_number) -> range:\n",
    "    if(sample_number>40):\n",
    "        return range(sample_number-20,sample_number+20)\n",
    "    else:\n",
    "        return range(50)\n",
    "\n",
    "def display_sample_number_selector_carousal(sample_number):\n",
    "    item_layout = widgets.Layout(height='25px', min_width='60px')\n",
    "    items = [widgets.Button(layout=item_layout, description=str(i), button_style=carousel_box_color(i,sample_number)) for i in carousal_number_range(sample_number)]\n",
    "    box_layout = widgets.Layout(overflow='scroll hidden',\n",
    "                        border='3px solid black',\n",
    "                        width='700px',\n",
    "                        height='',\n",
    "                        flex_flow='row',\n",
    "                        display='flex')\n",
    "    sample_number_selector_carousel = widgets.Box(children=items, layout=box_layout,)\n",
    "    for each_item in  items:\n",
    "        each_item.on_click(partial(carousel_on_sample_number_click))\n",
    "    display(sample_number_selector_carousel)\n",
    "\n",
    "# display_sample_number_selector_carousal(sample_number)"
   ]
  },
  {
   "cell_type": "code",
   "execution_count": null,
   "id": "f7c985f2",
   "metadata": {
    "ExecuteTime": {
     "end_time": "2022-09-30T17:44:18.877405Z",
     "start_time": "2022-09-30T17:44:18.860570Z"
    }
   },
   "outputs": [],
   "source": [
    "####### Fx for displaying widget and predicted annotations #########\n",
    "def display_annotations():\n",
    "    global messagesdf\n",
    "    print(messagesdf.message[sample_number])\n",
    "    \n",
    "#     this_predictions=list_of_predictions[sample_number]\n",
    "    this_predictions = get_class_map_from_message_NEW(messagesdf.message[sample_number])\n",
    "    ## inserting value in cell [index(messagesdf_index),prediction(coumn_name)]\n",
    "    messagesdf.iloc[sample_number,2]=this_predictions\n",
    "    messagesdf.to_csv('./messagesdf.csv',index=False)\n",
    "    pd.DataFrame({'sample_number':sample_number},index=[0]).to_csv('./sample_number.csv',index=False)\n",
    "    display(this_predictions)\n",
    "\n",
    "def display_common_widget():\n",
    "    print(f'----- {sample_number} -----')\n",
    "    display(widgets.HBox([previous_button,false_pred_button,true_pred_button, next_button]))\n",
    "    if(sample_number<=5):\n",
    "        display(messagesdf.head(9))\n",
    "    if(sample_number>5):\n",
    "        display(messagesdf[sample_number-4:sample_number+5])\n",
    "    display_sample_number_selector_carousal(sample_number)\n",
    "\n",
    "####### Define onClick functions for buttons #########\n",
    "def true_prediction_onclick(ipip):\n",
    "    global sample_number,messagesdf\n",
    "    clear_output(wait=True)\n",
    "    messagesdf.iloc[sample_number,3]=True\n",
    "    sample_number+=1\n",
    "    ## inserting value in cell [index(messagesdf_index),isPredAccurate(coumn_name)]\n",
    "    display_annotations()\n",
    "    display_common_widget()\n",
    "    \n",
    "def false_prediction_onclick(ipip):\n",
    "    global sample_number,messagesdf\n",
    "    clear_output(wait=True)\n",
    "    messagesdf.iloc[sample_number,3]=False\n",
    "    sample_number+=1\n",
    "    ## inserting value in cell [index(messagesdf_index),isPredAccurate(coumn_name)]\n",
    "    display_annotations()\n",
    "    display_common_widget()\n",
    "    \n",
    "def previous_button_onclick(ipip):\n",
    "    global sample_number\n",
    "    sample_number-=1\n",
    "    clear_output(wait=True)\n",
    "    display_annotations()\n",
    "    display_common_widget()\n",
    "\n",
    "def next_button_onclick(ipip):\n",
    "    global sample_number\n",
    "    sample_number+=1\n",
    "    clear_output(wait=True)\n",
    "    display_annotations()\n",
    "    display_common_widget()"
   ]
  },
  {
   "cell_type": "code",
   "execution_count": null,
   "id": "2f6c5385",
   "metadata": {
    "ExecuteTime": {
     "end_time": "2022-09-30T17:39:44.616865Z",
     "start_time": "2022-09-30T17:39:43.820705Z"
    }
   },
   "outputs": [
    {
     "name": "stdout",
     "output_type": "stream",
     "text": [
      "TREJHARA.. ROCKING.. GIVEN ABOVE 71 ... GOING STRONG AT 75.90\n",
      "\n",
      "KEEP ON BOOKING / TRAILING ACCORDINGLY \n"
     ]
    },
    {
     "data": {
      "text/html": [
       "<div>\n",
       "<style scoped>\n",
       "    .dataframe tbody tr th:only-of-type {\n",
       "        vertical-align: middle;\n",
       "    }\n",
       "\n",
       "    .dataframe tbody tr th {\n",
       "        vertical-align: top;\n",
       "    }\n",
       "\n",
       "    .dataframe thead th {\n",
       "        text-align: right;\n",
       "    }\n",
       "</style>\n",
       "<table border=\"1\" class=\"dataframe\">\n",
       "  <thead>\n",
       "    <tr style=\"text-align: right;\">\n",
       "      <th></th>\n",
       "      <th>sentence</th>\n",
       "      <th>sentence_class</th>\n",
       "      <th>sentence_class_name</th>\n",
       "    </tr>\n",
       "  </thead>\n",
       "  <tbody>\n",
       "    <tr>\n",
       "      <th>0</th>\n",
       "      <td></td>\n",
       "      <td>0</td>\n",
       "      <td></td>\n",
       "    </tr>\n",
       "    <tr>\n",
       "      <th>1</th>\n",
       "      <td>TREJHARA</td>\n",
       "      <td>10</td>\n",
       "      <td>symbol</td>\n",
       "    </tr>\n",
       "    <tr>\n",
       "      <th>2</th>\n",
       "      <td>..ROCKING..GIVEN</td>\n",
       "      <td>0</td>\n",
       "      <td></td>\n",
       "    </tr>\n",
       "    <tr>\n",
       "      <th>3</th>\n",
       "      <td>ABOVE</td>\n",
       "      <td>0</td>\n",
       "      <td></td>\n",
       "    </tr>\n",
       "    <tr>\n",
       "      <th>4</th>\n",
       "      <td>71</td>\n",
       "      <td>3</td>\n",
       "      <td>enter</td>\n",
       "    </tr>\n",
       "    <tr>\n",
       "      <th>5</th>\n",
       "      <td>...GOING</td>\n",
       "      <td>0</td>\n",
       "      <td></td>\n",
       "    </tr>\n",
       "    <tr>\n",
       "      <th>6</th>\n",
       "      <td>STRONG</td>\n",
       "      <td>0</td>\n",
       "      <td></td>\n",
       "    </tr>\n",
       "    <tr>\n",
       "      <th>7</th>\n",
       "      <td>AT</td>\n",
       "      <td>0</td>\n",
       "      <td></td>\n",
       "    </tr>\n",
       "    <tr>\n",
       "      <th>8</th>\n",
       "      <td>75.90</td>\n",
       "      <td>5</td>\n",
       "      <td>exit</td>\n",
       "    </tr>\n",
       "    <tr>\n",
       "      <th>9</th>\n",
       "      <td>KEEP</td>\n",
       "      <td>0</td>\n",
       "      <td></td>\n",
       "    </tr>\n",
       "    <tr>\n",
       "      <th>10</th>\n",
       "      <td>ON</td>\n",
       "      <td>0</td>\n",
       "      <td></td>\n",
       "    </tr>\n",
       "    <tr>\n",
       "      <th>11</th>\n",
       "      <td>BOOKING</td>\n",
       "      <td>0</td>\n",
       "      <td></td>\n",
       "    </tr>\n",
       "    <tr>\n",
       "      <th>12</th>\n",
       "      <td>/</td>\n",
       "      <td>0</td>\n",
       "      <td></td>\n",
       "    </tr>\n",
       "    <tr>\n",
       "      <th>13</th>\n",
       "      <td>TRAILING</td>\n",
       "      <td>0</td>\n",
       "      <td></td>\n",
       "    </tr>\n",
       "    <tr>\n",
       "      <th>14</th>\n",
       "      <td>ACCORDINGLY</td>\n",
       "      <td>0</td>\n",
       "      <td></td>\n",
       "    </tr>\n",
       "  </tbody>\n",
       "</table>\n",
       "</div>"
      ],
      "text/plain": [
       "            sentence  sentence_class sentence_class_name\n",
       "0                                  0                    \n",
       "1           TREJHARA              10              symbol\n",
       "2   ..ROCKING..GIVEN               0                    \n",
       "3              ABOVE               0                    \n",
       "4                 71               3               enter\n",
       "5           ...GOING               0                    \n",
       "6             STRONG               0                    \n",
       "7                 AT               0                    \n",
       "8              75.90               5                exit\n",
       "9               KEEP               0                    \n",
       "10                ON               0                    \n",
       "11           BOOKING               0                    \n",
       "12                 /               0                    \n",
       "13          TRAILING               0                    \n",
       "14       ACCORDINGLY               0                    "
      ]
     },
     "metadata": {},
     "output_type": "display_data"
    },
    {
     "name": "stdout",
     "output_type": "stream",
     "text": [
      "----- 29 -----\n"
     ]
    },
    {
     "data": {
      "application/vnd.jupyter.widget-view+json": {
       "model_id": "e7c06e0185984487a0d2b6ff1cc4a1c0",
       "version_major": 2,
       "version_minor": 0
      },
      "text/plain": [
       "HBox(children=(Button(button_style='info', description='⏮️ Previous', style=ButtonStyle(), tooltip='Click me')…"
      ]
     },
     "metadata": {},
     "output_type": "display_data"
    },
    {
     "data": {
      "text/html": [
       "<div>\n",
       "<style scoped>\n",
       "    .dataframe tbody tr th:only-of-type {\n",
       "        vertical-align: middle;\n",
       "    }\n",
       "\n",
       "    .dataframe tbody tr th {\n",
       "        vertical-align: top;\n",
       "    }\n",
       "\n",
       "    .dataframe thead th {\n",
       "        text-align: right;\n",
       "    }\n",
       "</style>\n",
       "<table border=\"1\" class=\"dataframe\">\n",
       "  <thead>\n",
       "    <tr style=\"text-align: right;\">\n",
       "      <th></th>\n",
       "      <th>time</th>\n",
       "      <th>message</th>\n",
       "      <th>prediction</th>\n",
       "      <th>isPredAccurate</th>\n",
       "    </tr>\n",
       "  </thead>\n",
       "  <tbody>\n",
       "    <tr>\n",
       "      <th>25</th>\n",
       "      <td>2022-09-07 08:20:03</td>\n",
       "      <td>CONSOFINVT : ANOTHER FLAG BREAKOUT\\n\\nA MOVE A...</td>\n",
       "      <td>[, CONSOFINVT, :, ANOTHER, FLAG, BREAKOUT, A, ...</td>\n",
       "      <td>True</td>\n",
       "    </tr>\n",
       "    <tr>\n",
       "      <th>26</th>\n",
       "      <td>2022-09-07 08:15:49</td>\n",
       "      <td>WATCHOUT.. MAANALU... STARTED MOVING UP..... \\...</td>\n",
       "      <td>[, WATCHOUT.., MAANALU, ...STARTED, MOVING, UP...</td>\n",
       "      <td>True</td>\n",
       "    </tr>\n",
       "    <tr>\n",
       "      <th>27</th>\n",
       "      <td>2022-09-07 08:08:09</td>\n",
       "      <td>FRIENDS...\\n\\nFLAG BREAKOUT\\n\\nBUY OMINFRAL CM...</td>\n",
       "      <td>[, FRIENDS...FLAG, BREAKOUT, BUY, OMINFRAL, CM...</td>\n",
       "      <td>True</td>\n",
       "    </tr>\n",
       "    <tr>\n",
       "      <th>28</th>\n",
       "      <td>2022-09-07 07:59:33</td>\n",
       "      <td>TREJHARA... 71 TO 78+\\nBLISSGVS .. 82 TO 85+</td>\n",
       "      <td>[, TREJHARA, ..., 71, TO, 78, +, BLISSGVS, ..,...</td>\n",
       "      <td>True</td>\n",
       "    </tr>\n",
       "    <tr>\n",
       "      <th>29</th>\n",
       "      <td>2022-09-07 07:50:49</td>\n",
       "      <td>TREJHARA.. ROCKING.. GIVEN ABOVE 71 ... GOING ...</td>\n",
       "      <td>[, TREJHARA, ..ROCKING..GIVEN, ABOVE, 71, ...G...</td>\n",
       "      <td>NaN</td>\n",
       "    </tr>\n",
       "    <tr>\n",
       "      <th>30</th>\n",
       "      <td>2022-09-07 07:42:28</td>\n",
       "      <td>TREJHARA.. DID 71 TO 75</td>\n",
       "      <td>NaN</td>\n",
       "      <td>NaN</td>\n",
       "    </tr>\n",
       "    <tr>\n",
       "      <th>31</th>\n",
       "      <td>2022-09-07 07:29:03</td>\n",
       "      <td>FLAG PATTERN PRESENT IN MAANALU</td>\n",
       "      <td>NaN</td>\n",
       "      <td>NaN</td>\n",
       "    </tr>\n",
       "    <tr>\n",
       "      <th>32</th>\n",
       "      <td>2022-09-07 07:27:35</td>\n",
       "      <td>DON'T MISS MAANALU...</td>\n",
       "      <td>NaN</td>\n",
       "      <td>NaN</td>\n",
       "    </tr>\n",
       "    <tr>\n",
       "      <th>33</th>\n",
       "      <td>2022-09-07 07:25:59</td>\n",
       "      <td>OPEN-LOW AND PREVIOUS CLOSE ARE ALMOST SAME WH...</td>\n",
       "      <td>NaN</td>\n",
       "      <td>NaN</td>\n",
       "    </tr>\n",
       "  </tbody>\n",
       "</table>\n",
       "</div>"
      ],
      "text/plain": [
       "                  time                                            message  \\\n",
       "25 2022-09-07 08:20:03  CONSOFINVT : ANOTHER FLAG BREAKOUT\\n\\nA MOVE A...   \n",
       "26 2022-09-07 08:15:49  WATCHOUT.. MAANALU... STARTED MOVING UP..... \\...   \n",
       "27 2022-09-07 08:08:09  FRIENDS...\\n\\nFLAG BREAKOUT\\n\\nBUY OMINFRAL CM...   \n",
       "28 2022-09-07 07:59:33      TREJHARA... 71 TO 78+\\nBLISSGVS .. 82 TO 85+    \n",
       "29 2022-09-07 07:50:49  TREJHARA.. ROCKING.. GIVEN ABOVE 71 ... GOING ...   \n",
       "30 2022-09-07 07:42:28                           TREJHARA.. DID 71 TO 75    \n",
       "31 2022-09-07 07:29:03                   FLAG PATTERN PRESENT IN MAANALU    \n",
       "32 2022-09-07 07:27:35                             DON'T MISS MAANALU...    \n",
       "33 2022-09-07 07:25:59  OPEN-LOW AND PREVIOUS CLOSE ARE ALMOST SAME WH...   \n",
       "\n",
       "                                           prediction isPredAccurate  \n",
       "25  [, CONSOFINVT, :, ANOTHER, FLAG, BREAKOUT, A, ...           True  \n",
       "26  [, WATCHOUT.., MAANALU, ...STARTED, MOVING, UP...           True  \n",
       "27  [, FRIENDS...FLAG, BREAKOUT, BUY, OMINFRAL, CM...           True  \n",
       "28  [, TREJHARA, ..., 71, TO, 78, +, BLISSGVS, ..,...           True  \n",
       "29  [, TREJHARA, ..ROCKING..GIVEN, ABOVE, 71, ...G...            NaN  \n",
       "30                                                NaN            NaN  \n",
       "31                                                NaN            NaN  \n",
       "32                                                NaN            NaN  \n",
       "33                                                NaN            NaN  "
      ]
     },
     "metadata": {},
     "output_type": "display_data"
    },
    {
     "data": {
      "application/vnd.jupyter.widget-view+json": {
       "model_id": "9378d0a8882c44bdb7b44161217be3bb",
       "version_major": 2,
       "version_minor": 0
      },
      "text/plain": [
       "Box(children=(Button(button_style='warning', description='0', layout=Layout(height='25px', min_width='60px'), …"
      ]
     },
     "metadata": {},
     "output_type": "display_data"
    }
   ],
   "source": [
    "####### Define button instances ########\n",
    "true_pred_button = widgets.Button(\n",
    "    description='True Prediction',\n",
    "    disabled=False,\n",
    "    button_style='success',\n",
    "    tooltip='Click me',\n",
    "    icon='check'\n",
    ")\n",
    "true_pred_button.on_click(partial(true_prediction_onclick))\n",
    "\n",
    "false_pred_button = widgets.Button(\n",
    "    description='False Prediction',\n",
    "    disabled=False,\n",
    "    button_style='danger',\n",
    "    tooltip='Click me',\n",
    "    icon='close'\n",
    ")\n",
    "false_pred_button.on_click(partial(false_prediction_onclick))\n",
    "\n",
    "previous_button = widgets.Button(\n",
    "    description='⏮️ Previous',\n",
    "    disabled=False,\n",
    "    button_style='info', \n",
    "    tooltip='Click me',\n",
    ")\n",
    "previous_button.on_click(partial(previous_button_onclick))\n",
    "\n",
    "\n",
    "next_button = widgets.Button(\n",
    "    description='Next ⏭️',\n",
    "    disabled=False,\n",
    "    button_style='info',\n",
    "    tooltip='Click me',\n",
    ")\n",
    "next_button.on_click(partial(next_button_onclick))\n",
    "\n",
    "display_annotations()\n",
    "display_common_widget()"
   ]
  },
  {
   "cell_type": "markdown",
   "id": "69fa5582",
   "metadata": {},
   "source": [
    "# Backtest agaist real data"
   ]
  },
  {
   "cell_type": "code",
   "execution_count": null,
   "id": "faab7eab",
   "metadata": {
    "ExecuteTime": {
     "end_time": "2022-10-01T05:42:52.294488Z",
     "start_time": "2022-10-01T05:42:49.155634Z"
    }
   },
   "outputs": [
    {
     "name": "stdout",
     "output_type": "stream",
     "text": [
      "Incorrect `api_key` or `access_token`.\n"
     ]
    },
    {
     "data": {
      "text/plain": [
       "'Hemang Atulkumar Joshi'"
      ]
     },
     "metadata": {},
     "output_type": "display_data"
    },
    {
     "data": {
      "text/plain": [
       "'Hemang Atulkumar Joshi'"
      ]
     },
     "metadata": {},
     "output_type": "display_data"
    }
   ],
   "source": [
    "########### IMPORT LIBRARIES ##############\n",
    "import datetime\n",
    "# pd.set_option('plotting.backend', 'pandas_bokeh')\n",
    "# import pandas_bokeh\n",
    "# pandas_bokeh.output_notebook()\n",
    "from kiteconnect import  exceptions\n",
    "import login_new\n",
    "try:\n",
    "    kite = joblib.load('./kitefile.p')\n",
    "    display(kite.profile()['user_name'])\n",
    "except Exception as tknxcp:\n",
    "    print(tknxcp)\n",
    "    kite = login_new.login_haj_new()\n",
    "    display(kite.profile()['user_name'])"
   ]
  },
  {
   "cell_type": "code",
   "execution_count": null,
   "id": "148866dd",
   "metadata": {
    "ExecuteTime": {
     "end_time": "2022-09-30T18:32:30.968269Z",
     "start_time": "2022-09-30T18:32:30.961867Z"
    }
   },
   "outputs": [
    {
     "data": {
      "text/plain": [
       "0      True\n",
       "1      True\n",
       "2      True\n",
       "3      True\n",
       "4     False\n",
       "5      True\n",
       "6      True\n",
       "7     False\n",
       "8      True\n",
       "9      True\n",
       "10    False\n",
       "11     True\n",
       "12     True\n",
       "13    False\n",
       "14     True\n",
       "Name: isPredAccurate, dtype: object"
      ]
     },
     "execution_count": 74,
     "metadata": {},
     "output_type": "execute_result"
    }
   ],
   "source": [
    "droppedna.isPredAccurate"
   ]
  },
  {
   "cell_type": "code",
   "execution_count": null,
   "id": "441e6628",
   "metadata": {
    "ExecuteTime": {
     "end_time": "2022-09-30T18:32:31.422924Z",
     "start_time": "2022-09-30T18:32:31.400810Z"
    }
   },
   "outputs": [
    {
     "data": {
      "text/html": [
       "<div>\n",
       "<style scoped>\n",
       "    .dataframe tbody tr th:only-of-type {\n",
       "        vertical-align: middle;\n",
       "    }\n",
       "\n",
       "    .dataframe tbody tr th {\n",
       "        vertical-align: top;\n",
       "    }\n",
       "\n",
       "    .dataframe thead th {\n",
       "        text-align: right;\n",
       "    }\n",
       "</style>\n",
       "<table border=\"1\" class=\"dataframe\">\n",
       "  <thead>\n",
       "    <tr style=\"text-align: right;\">\n",
       "      <th></th>\n",
       "      <th>time</th>\n",
       "      <th>message</th>\n",
       "      <th>prediction</th>\n",
       "      <th>isPredAccurate</th>\n",
       "    </tr>\n",
       "  </thead>\n",
       "  <tbody>\n",
       "    <tr>\n",
       "      <th>0</th>\n",
       "      <td>2022-09-08 12:19:40</td>\n",
       "      <td>FRIENDS..\\n\\nANYTIME MOMENTUM CAN COME IN DCMN...</td>\n",
       "      <td>['' 'FRIENDS..ANYTIME' 'MOMENTUM' 'CAN' 'COME'...</td>\n",
       "      <td>True</td>\n",
       "    </tr>\n",
       "    <tr>\n",
       "      <th>1</th>\n",
       "      <td>2022-09-08 12:11:16</td>\n",
       "      <td>KEEP DCMNVL ON RADAR\\n\\nAND WAIT TILL THERE IS...</td>\n",
       "      <td>['' 'KEEP' 'DCMNVL' 'ON' 'RADAR' 'AND' 'WAIT' ...</td>\n",
       "      <td>True</td>\n",
       "    </tr>\n",
       "    <tr>\n",
       "      <th>2</th>\n",
       "      <td>2022-09-08 12:04:28</td>\n",
       "      <td>DCMNVL... DCM Nouvelle Ltd\\n\\nHUGE MOMENTUM AB...</td>\n",
       "      <td>['' 'DCMNVL' '...DCM' 'Nouvelle' 'Ltd' 'HUGE' ...</td>\n",
       "      <td>True</td>\n",
       "    </tr>\n",
       "    <tr>\n",
       "      <th>3</th>\n",
       "      <td>2022-09-08 12:02:50</td>\n",
       "      <td>SUPER DUPER FUNDAMENTALS</td>\n",
       "      <td>['' 'SUPER' 'DUPER' 'FUNDAMENTALS']</td>\n",
       "      <td>True</td>\n",
       "    </tr>\n",
       "    <tr>\n",
       "      <th>5</th>\n",
       "      <td>2022-09-08 12:00:19</td>\n",
       "      <td>FLAG BREAKOUT\\n\\nDCMNVL\\n\\nCMP 202.70</td>\n",
       "      <td>['' 'FLAG' 'BREAKOUT' 'DCMNVL' 'CMP' '202.70']</td>\n",
       "      <td>True</td>\n",
       "    </tr>\n",
       "    <tr>\n",
       "      <th>6</th>\n",
       "      <td>2022-09-08 11:48:19</td>\n",
       "      <td>CUP AND HANDLE PATTERN \\n\\nMULTIPLE TOPS\\n\\nRS...</td>\n",
       "      <td>['' 'CUP' 'AND' 'HANDLE' 'PATTERN' 'MULTIPLE' ...</td>\n",
       "      <td>True</td>\n",
       "    </tr>\n",
       "    <tr>\n",
       "      <th>8</th>\n",
       "      <td>2022-09-08 11:45:57</td>\n",
       "      <td>FRIENDS...\\n\\nZODIACLOTH ABOVE 100 - 100.50 SU...</td>\n",
       "      <td>['' 'FRIENDS...' 'ZODIACLOTH' 'ABOVE' '100' '-...</td>\n",
       "      <td>True</td>\n",
       "    </tr>\n",
       "    <tr>\n",
       "      <th>9</th>\n",
       "      <td>2022-09-08 11:26:29</td>\n",
       "      <td>INTRADAY\\n\\nBUY RAYMOND ABOVE 1020 SL 995 TARG...</td>\n",
       "      <td>['' 'INTRADAY' 'BUY' 'RAYMOND' 'ABOVE' '1020' ...</td>\n",
       "      <td>True</td>\n",
       "    </tr>\n",
       "    <tr>\n",
       "      <th>11</th>\n",
       "      <td>2022-09-08 11:13:26</td>\n",
       "      <td>ONLY HURDLE IS 48.50</td>\n",
       "      <td>['' 'ONLY' 'HURDLE' 'IS' '48.50']</td>\n",
       "      <td>True</td>\n",
       "    </tr>\n",
       "    <tr>\n",
       "      <th>12</th>\n",
       "      <td>2022-09-08 11:12:55</td>\n",
       "      <td>FLAG POLE LENGTH TARGET : 76+\\n\\nDON'T MISS....</td>\n",
       "      <td>['' 'FLAG' 'POLE' 'LENGTH' 'TARGET' ':' '76' '...</td>\n",
       "      <td>True</td>\n",
       "    </tr>\n",
       "    <tr>\n",
       "      <th>14</th>\n",
       "      <td>2022-09-08 10:58:10</td>\n",
       "      <td>CONFIRMATION IS 110 \\n\\nABOVE THAT.. HUGE UPMO...</td>\n",
       "      <td>['' 'CONFIRMATION' 'IS' '110' 'ABOVE' 'THAT..H...</td>\n",
       "      <td>True</td>\n",
       "    </tr>\n",
       "    <tr>\n",
       "      <th>15</th>\n",
       "      <td>2022-09-08 10:56:37</td>\n",
       "      <td>SUPER DUPER BREAKOUT ABOVE 110 \\n\\nDON'T MISS\\...</td>\n",
       "      <td>['' 'SUPER' 'DUPER' 'BREAKOUT' 'ABOVE' '110' '...</td>\n",
       "      <td>True</td>\n",
       "    </tr>\n",
       "    <tr>\n",
       "      <th>16</th>\n",
       "      <td>2022-09-08 10:55:25</td>\n",
       "      <td>INTRADAY\\n\\nBUY TRIGYN ABOVE 110 SL 108 TARGET...</td>\n",
       "      <td>[, INTRADAY, BUY, TRIGYN, ABOVE, 110, SL, 108,...</td>\n",
       "      <td>True</td>\n",
       "    </tr>\n",
       "    <tr>\n",
       "      <th>17</th>\n",
       "      <td>2022-09-08 07:29:20</td>\n",
       "      <td></td>\n",
       "      <td>[]</td>\n",
       "      <td>True</td>\n",
       "    </tr>\n",
       "    <tr>\n",
       "      <th>18</th>\n",
       "      <td>2022-09-07 15:14:30</td>\n",
       "      <td>BTST : HISARMETAL CMP 146</td>\n",
       "      <td>[, BTST, :, HISARMETAL, CMP, 146]</td>\n",
       "      <td>True</td>\n",
       "    </tr>\n",
       "    <tr>\n",
       "      <th>19</th>\n",
       "      <td>2022-09-07 14:53:22</td>\n",
       "      <td>BTST : FSL CMP 114</td>\n",
       "      <td>[, BTST, :, FSL, CMP, 114]</td>\n",
       "      <td>True</td>\n",
       "    </tr>\n",
       "    <tr>\n",
       "      <th>20</th>\n",
       "      <td>2022-09-07 14:31:13</td>\n",
       "      <td>BTST : GSS CMP 229.80 - 230</td>\n",
       "      <td>[, BTST, :, GSS, CMP, 229.80, -, 230]</td>\n",
       "      <td>True</td>\n",
       "    </tr>\n",
       "    <tr>\n",
       "      <th>21</th>\n",
       "      <td>2022-09-07 14:29:46</td>\n",
       "      <td>GSS : SUPER CANDIDATE FOR A SOLID UPMOVE... BT...</td>\n",
       "      <td>[, GSS, :, SUPER, CANDIDATE, FOR, A, SOLID, UP...</td>\n",
       "      <td>True</td>\n",
       "    </tr>\n",
       "    <tr>\n",
       "      <th>22</th>\n",
       "      <td>2022-09-07 14:28:43</td>\n",
       "      <td>FRIENDS...\\n\\nGSS\\n\\nLOOKS GOOD FOR BTST</td>\n",
       "      <td>[, FRIENDS..., GSS, LOOKS, GOOD, FOR, BTST]</td>\n",
       "      <td>True</td>\n",
       "    </tr>\n",
       "    <tr>\n",
       "      <th>23</th>\n",
       "      <td>2022-09-07 14:06:22</td>\n",
       "      <td>INTRADAY : BUY GRANULES CMP 313 SL 309 TARGET ...</td>\n",
       "      <td>[, INTRADAY, :, BUY, GRANULES, CMP, 313, SL, 3...</td>\n",
       "      <td>True</td>\n",
       "    </tr>\n",
       "    <tr>\n",
       "      <th>24</th>\n",
       "      <td>2022-09-07 13:51:24</td>\n",
       "      <td>AN UPMOVE ABOVE 152 CAN TARGET 20+ RS UPMOVE O...</td>\n",
       "      <td>[, AN, UPMOVE, ABOVE, 152, CAN, TARGET, 20, +,...</td>\n",
       "      <td>True</td>\n",
       "    </tr>\n",
       "    <tr>\n",
       "      <th>25</th>\n",
       "      <td>2022-09-07 13:49:03</td>\n",
       "      <td>CONSOFINVT : ANOTHER FLAG BREAKOUT\\n\\nA MOVE A...</td>\n",
       "      <td>[, CONSOFINVT, :, ANOTHER, FLAG, BREAKOUT, A, ...</td>\n",
       "      <td>True</td>\n",
       "    </tr>\n",
       "    <tr>\n",
       "      <th>26</th>\n",
       "      <td>2022-09-07 13:44:49</td>\n",
       "      <td>WATCHOUT.. MAANALU... STARTED MOVING UP..... \\...</td>\n",
       "      <td>[, WATCHOUT.., MAANALU, ...STARTED, MOVING, UP...</td>\n",
       "      <td>True</td>\n",
       "    </tr>\n",
       "    <tr>\n",
       "      <th>27</th>\n",
       "      <td>2022-09-07 13:37:09</td>\n",
       "      <td>FRIENDS...\\n\\nFLAG BREAKOUT\\n\\nBUY OMINFRAL CM...</td>\n",
       "      <td>[, FRIENDS...FLAG, BREAKOUT, BUY, OMINFRAL, CM...</td>\n",
       "      <td>True</td>\n",
       "    </tr>\n",
       "    <tr>\n",
       "      <th>28</th>\n",
       "      <td>2022-09-07 13:28:33</td>\n",
       "      <td>TREJHARA... 71 TO 78+\\nBLISSGVS .. 82 TO 85+</td>\n",
       "      <td>[, TREJHARA, ..., 71, TO, 78, +, BLISSGVS, ..,...</td>\n",
       "      <td>True</td>\n",
       "    </tr>\n",
       "  </tbody>\n",
       "</table>\n",
       "</div>"
      ],
      "text/plain": [
       "                  time                                            message  \\\n",
       "0  2022-09-08 12:19:40  FRIENDS..\\n\\nANYTIME MOMENTUM CAN COME IN DCMN...   \n",
       "1  2022-09-08 12:11:16  KEEP DCMNVL ON RADAR\\n\\nAND WAIT TILL THERE IS...   \n",
       "2  2022-09-08 12:04:28  DCMNVL... DCM Nouvelle Ltd\\n\\nHUGE MOMENTUM AB...   \n",
       "3  2022-09-08 12:02:50                          SUPER DUPER FUNDAMENTALS    \n",
       "5  2022-09-08 12:00:19             FLAG BREAKOUT\\n\\nDCMNVL\\n\\nCMP 202.70    \n",
       "6  2022-09-08 11:48:19  CUP AND HANDLE PATTERN \\n\\nMULTIPLE TOPS\\n\\nRS...   \n",
       "8  2022-09-08 11:45:57  FRIENDS...\\n\\nZODIACLOTH ABOVE 100 - 100.50 SU...   \n",
       "9  2022-09-08 11:26:29  INTRADAY\\n\\nBUY RAYMOND ABOVE 1020 SL 995 TARG...   \n",
       "11 2022-09-08 11:13:26                              ONLY HURDLE IS 48.50    \n",
       "12 2022-09-08 11:12:55   FLAG POLE LENGTH TARGET : 76+\\n\\nDON'T MISS....    \n",
       "14 2022-09-08 10:58:10  CONFIRMATION IS 110 \\n\\nABOVE THAT.. HUGE UPMO...   \n",
       "15 2022-09-08 10:56:37  SUPER DUPER BREAKOUT ABOVE 110 \\n\\nDON'T MISS\\...   \n",
       "16 2022-09-08 10:55:25  INTRADAY\\n\\nBUY TRIGYN ABOVE 110 SL 108 TARGET...   \n",
       "17 2022-09-08 07:29:20                                                      \n",
       "18 2022-09-07 15:14:30                         BTST : HISARMETAL CMP 146    \n",
       "19 2022-09-07 14:53:22                                BTST : FSL CMP 114    \n",
       "20 2022-09-07 14:31:13                       BTST : GSS CMP 229.80 - 230    \n",
       "21 2022-09-07 14:29:46  GSS : SUPER CANDIDATE FOR A SOLID UPMOVE... BT...   \n",
       "22 2022-09-07 14:28:43          FRIENDS...\\n\\nGSS\\n\\nLOOKS GOOD FOR BTST    \n",
       "23 2022-09-07 14:06:22  INTRADAY : BUY GRANULES CMP 313 SL 309 TARGET ...   \n",
       "24 2022-09-07 13:51:24  AN UPMOVE ABOVE 152 CAN TARGET 20+ RS UPMOVE O...   \n",
       "25 2022-09-07 13:49:03  CONSOFINVT : ANOTHER FLAG BREAKOUT\\n\\nA MOVE A...   \n",
       "26 2022-09-07 13:44:49  WATCHOUT.. MAANALU... STARTED MOVING UP..... \\...   \n",
       "27 2022-09-07 13:37:09  FRIENDS...\\n\\nFLAG BREAKOUT\\n\\nBUY OMINFRAL CM...   \n",
       "28 2022-09-07 13:28:33      TREJHARA... 71 TO 78+\\nBLISSGVS .. 82 TO 85+    \n",
       "\n",
       "                                           prediction isPredAccurate  \n",
       "0   ['' 'FRIENDS..ANYTIME' 'MOMENTUM' 'CAN' 'COME'...           True  \n",
       "1   ['' 'KEEP' 'DCMNVL' 'ON' 'RADAR' 'AND' 'WAIT' ...           True  \n",
       "2   ['' 'DCMNVL' '...DCM' 'Nouvelle' 'Ltd' 'HUGE' ...           True  \n",
       "3                 ['' 'SUPER' 'DUPER' 'FUNDAMENTALS']           True  \n",
       "5      ['' 'FLAG' 'BREAKOUT' 'DCMNVL' 'CMP' '202.70']           True  \n",
       "6   ['' 'CUP' 'AND' 'HANDLE' 'PATTERN' 'MULTIPLE' ...           True  \n",
       "8   ['' 'FRIENDS...' 'ZODIACLOTH' 'ABOVE' '100' '-...           True  \n",
       "9   ['' 'INTRADAY' 'BUY' 'RAYMOND' 'ABOVE' '1020' ...           True  \n",
       "11                  ['' 'ONLY' 'HURDLE' 'IS' '48.50']           True  \n",
       "12  ['' 'FLAG' 'POLE' 'LENGTH' 'TARGET' ':' '76' '...           True  \n",
       "14  ['' 'CONFIRMATION' 'IS' '110' 'ABOVE' 'THAT..H...           True  \n",
       "15  ['' 'SUPER' 'DUPER' 'BREAKOUT' 'ABOVE' '110' '...           True  \n",
       "16  [, INTRADAY, BUY, TRIGYN, ABOVE, 110, SL, 108,...           True  \n",
       "17                                                 []           True  \n",
       "18                  [, BTST, :, HISARMETAL, CMP, 146]           True  \n",
       "19                         [, BTST, :, FSL, CMP, 114]           True  \n",
       "20              [, BTST, :, GSS, CMP, 229.80, -, 230]           True  \n",
       "21  [, GSS, :, SUPER, CANDIDATE, FOR, A, SOLID, UP...           True  \n",
       "22        [, FRIENDS..., GSS, LOOKS, GOOD, FOR, BTST]           True  \n",
       "23  [, INTRADAY, :, BUY, GRANULES, CMP, 313, SL, 3...           True  \n",
       "24  [, AN, UPMOVE, ABOVE, 152, CAN, TARGET, 20, +,...           True  \n",
       "25  [, CONSOFINVT, :, ANOTHER, FLAG, BREAKOUT, A, ...           True  \n",
       "26  [, WATCHOUT.., MAANALU, ...STARTED, MOVING, UP...           True  \n",
       "27  [, FRIENDS...FLAG, BREAKOUT, BUY, OMINFRAL, CM...           True  \n",
       "28  [, TREJHARA, ..., 71, TO, 78, +, BLISSGVS, ..,...           True  "
      ]
     },
     "execution_count": 75,
     "metadata": {},
     "output_type": "execute_result"
    }
   ],
   "source": [
    "droppedna = messagesdf.dropna()\n",
    "true_predictions_df = droppedna.loc[droppedna.isPredAccurate]\n",
    "#### Time correct Time column\n",
    "true_predictions_df.time =  true_predictions_df.time + datetime.timedelta(minutes=29, hours=5)\n",
    "true_predictions_df"
   ]
  },
  {
   "cell_type": "code",
   "execution_count": null,
   "id": "63541627",
   "metadata": {
    "ExecuteTime": {
     "end_time": "2022-09-30T18:32:42.574737Z",
     "start_time": "2022-09-30T18:32:31.901503Z"
    },
    "scrolled": false
   },
   "outputs": [
    {
     "name": "stderr",
     "output_type": "stream",
     "text": [
      "8it [00:03,  2.23it/s]"
     ]
    },
    {
     "name": "stdout",
     "output_type": "stream",
     "text": [
      "Entry time = 2022-09-08 11:26:29\n",
      "this_symbol='RAYMOND'\n",
      "this_enter=1020.0\n",
      "this_sl=995.0\n",
      "this_exit=1045.0\n"
     ]
    },
    {
     "name": "stderr",
     "output_type": "stream",
     "text": [
      "13it [00:05,  2.21it/s]"
     ]
    },
    {
     "name": "stdout",
     "output_type": "stream",
     "text": [
      "Entry time = 2022-09-08 10:55:25\n",
      "this_symbol='TRIGYN'\n",
      "this_enter=110.0\n",
      "this_sl=108.0\n",
      "this_exit=116.0\n"
     ]
    },
    {
     "name": "stderr",
     "output_type": "stream",
     "text": [
      "19it [00:07,  3.12it/s]"
     ]
    },
    {
     "name": "stdout",
     "output_type": "stream",
     "text": [
      "Entry time = 2022-09-07 14:06:22\n",
      "this_symbol='GRANULES'\n",
      "this_enter=313.0\n",
      "this_sl=309.0\n",
      "this_exit=317.0\n"
     ]
    },
    {
     "name": "stderr",
     "output_type": "stream",
     "text": [
      "25it [00:10,  2.35it/s]\n"
     ]
    }
   ],
   "source": [
    "#### extracting onyl those rows data which has all 4 values in predictions\n",
    "#### 1:symbol, 2:enter, 3:sl, 4:exit\n",
    "timeOfPredToClassDataList = [] # list to create time based dataframe of classification\n",
    "for index,data in tqdm(true_predictions_df.iterrows()):\n",
    "#     print(index)\n",
    "    this_prediction = get_class_map_from_message_NEW(data.message)\n",
    "#     display(this_prediction)\n",
    "    check_if_all_val_available_in_prediction = set([2,3,5,9,10]).issubset(set(this_prediction.sentence_class.tolist())) or   set([8,3,5,9,10]).issubset(set(this_prediction.sentence_class.tolist())) \n",
    "#     print(check_if_all_val_available_in_prediction)\n",
    "    if(check_if_all_val_available_in_prediction):\n",
    "        this_symbol = this_prediction.loc[this_prediction['sentence_class_name'] == 'symbol']['sentence'].tolist()[0]\n",
    "        this_enter = float(this_prediction.loc[this_prediction['sentence_class_name'] == 'enter']['sentence'].tolist()[0])\n",
    "        this_sl = float(this_prediction.loc[this_prediction['sentence_class_name'] == 'sl']['sentence'].tolist()[0])\n",
    "        this_exit = float(this_prediction.loc[this_prediction['sentence_class_name'] == 'exit']['sentence'].tolist()[0])\n",
    "        print(f'''Entry time = {data['time']}''')\n",
    "        print(f'{this_symbol=}')\n",
    "        print(f'{this_enter=}')\n",
    "        print(f'{this_sl=}')\n",
    "        print(f'{this_exit=}')\n",
    "        try:\n",
    "            this_insttkn = kite.ltp(f'NSE:{this_symbol}')[f'NSE:{this_symbol}']['instrument_token']\n",
    "            timeOfPredToClassDataList.append({'time':data['time'],\n",
    "                                              'symbol':this_symbol,\n",
    "                                              'insttkn':this_insttkn,\n",
    "                                              'enter': this_enter,\n",
    "                                              'sl':this_sl,\n",
    "                                              'exit':this_exit\n",
    "                                             })\n",
    "        except KeyError as ke:\n",
    "            print(f'key error for : {this_symbol} : {ke}')"
   ]
  },
  {
   "cell_type": "code",
   "execution_count": null,
   "id": "f7c301b0",
   "metadata": {
    "ExecuteTime": {
     "end_time": "2022-09-30T18:32:43.060885Z",
     "start_time": "2022-09-30T18:32:43.043448Z"
    }
   },
   "outputs": [
    {
     "data": {
      "text/html": [
       "<div>\n",
       "<style scoped>\n",
       "    .dataframe tbody tr th:only-of-type {\n",
       "        vertical-align: middle;\n",
       "    }\n",
       "\n",
       "    .dataframe tbody tr th {\n",
       "        vertical-align: top;\n",
       "    }\n",
       "\n",
       "    .dataframe thead th {\n",
       "        text-align: right;\n",
       "    }\n",
       "</style>\n",
       "<table border=\"1\" class=\"dataframe\">\n",
       "  <thead>\n",
       "    <tr style=\"text-align: right;\">\n",
       "      <th></th>\n",
       "      <th>time</th>\n",
       "      <th>symbol</th>\n",
       "      <th>insttkn</th>\n",
       "      <th>enter</th>\n",
       "      <th>sl</th>\n",
       "      <th>exit</th>\n",
       "    </tr>\n",
       "  </thead>\n",
       "  <tbody>\n",
       "    <tr>\n",
       "      <th>0</th>\n",
       "      <td>2022-09-08 11:26:29</td>\n",
       "      <td>RAYMOND</td>\n",
       "      <td>731905</td>\n",
       "      <td>1020.0</td>\n",
       "      <td>995.0</td>\n",
       "      <td>1045.0</td>\n",
       "    </tr>\n",
       "    <tr>\n",
       "      <th>1</th>\n",
       "      <td>2022-09-08 10:55:25</td>\n",
       "      <td>TRIGYN</td>\n",
       "      <td>1389569</td>\n",
       "      <td>110.0</td>\n",
       "      <td>108.0</td>\n",
       "      <td>116.0</td>\n",
       "    </tr>\n",
       "    <tr>\n",
       "      <th>2</th>\n",
       "      <td>2022-09-07 14:06:22</td>\n",
       "      <td>GRANULES</td>\n",
       "      <td>3039233</td>\n",
       "      <td>313.0</td>\n",
       "      <td>309.0</td>\n",
       "      <td>317.0</td>\n",
       "    </tr>\n",
       "  </tbody>\n",
       "</table>\n",
       "</div>"
      ],
      "text/plain": [
       "                 time    symbol  insttkn   enter     sl    exit\n",
       "0 2022-09-08 11:26:29   RAYMOND   731905  1020.0  995.0  1045.0\n",
       "1 2022-09-08 10:55:25    TRIGYN  1389569   110.0  108.0   116.0\n",
       "2 2022-09-07 14:06:22  GRANULES  3039233   313.0  309.0   317.0"
      ]
     },
     "execution_count": 77,
     "metadata": {},
     "output_type": "execute_result"
    }
   ],
   "source": [
    "extracted_data_df = pd.DataFrame(timeOfPredToClassDataList)\n",
    "extracted_data_df"
   ]
  },
  {
   "cell_type": "code",
   "execution_count": null,
   "id": "b4ad66a0",
   "metadata": {
    "ExecuteTime": {
     "end_time": "2022-09-30T18:32:43.551456Z",
     "start_time": "2022-09-30T18:32:43.548387Z"
    }
   },
   "outputs": [],
   "source": [
    "# # extracted_data_df = extracted_data_df.loc[::-1, :] # reverse row order\n",
    "# extracted_data_df"
   ]
  },
  {
   "cell_type": "code",
   "execution_count": null,
   "id": "3d6e0e6c",
   "metadata": {
    "ExecuteTime": {
     "end_time": "2022-09-30T18:32:43.997300Z",
     "start_time": "2022-09-30T18:32:43.978579Z"
    }
   },
   "outputs": [
    {
     "data": {
      "text/html": [
       "<div>\n",
       "<style scoped>\n",
       "    .dataframe tbody tr th:only-of-type {\n",
       "        vertical-align: middle;\n",
       "    }\n",
       "\n",
       "    .dataframe tbody tr th {\n",
       "        vertical-align: top;\n",
       "    }\n",
       "\n",
       "    .dataframe thead th {\n",
       "        text-align: right;\n",
       "    }\n",
       "</style>\n",
       "<table border=\"1\" class=\"dataframe\">\n",
       "  <thead>\n",
       "    <tr style=\"text-align: right;\">\n",
       "      <th></th>\n",
       "      <th>time</th>\n",
       "      <th>symbol</th>\n",
       "      <th>insttkn</th>\n",
       "      <th>enter</th>\n",
       "      <th>sl</th>\n",
       "      <th>exit</th>\n",
       "      <th>exit_time_in_backtest</th>\n",
       "      <th>exit_type_in_backtest</th>\n",
       "      <th>exit_val_in_backtest</th>\n",
       "      <th>enter_val_in_backtest</th>\n",
       "      <th>enter_time_in_backtest</th>\n",
       "      <th>gained_percent</th>\n",
       "    </tr>\n",
       "  </thead>\n",
       "  <tbody>\n",
       "    <tr>\n",
       "      <th>0</th>\n",
       "      <td>2022-09-08 11:26:29</td>\n",
       "      <td>RAYMOND</td>\n",
       "      <td>731905</td>\n",
       "      <td>1020.0</td>\n",
       "      <td>995.0</td>\n",
       "      <td>1045.0</td>\n",
       "      <td>2022-10-01 00:02:43.980543</td>\n",
       "      <td>not_yet</td>\n",
       "      <td>0.0</td>\n",
       "      <td>0.0</td>\n",
       "      <td>0.0</td>\n",
       "      <td>0.0</td>\n",
       "    </tr>\n",
       "    <tr>\n",
       "      <th>1</th>\n",
       "      <td>2022-09-08 10:55:25</td>\n",
       "      <td>TRIGYN</td>\n",
       "      <td>1389569</td>\n",
       "      <td>110.0</td>\n",
       "      <td>108.0</td>\n",
       "      <td>116.0</td>\n",
       "      <td>2022-10-01 00:02:43.980543</td>\n",
       "      <td>not_yet</td>\n",
       "      <td>0.0</td>\n",
       "      <td>0.0</td>\n",
       "      <td>0.0</td>\n",
       "      <td>0.0</td>\n",
       "    </tr>\n",
       "    <tr>\n",
       "      <th>2</th>\n",
       "      <td>2022-09-07 14:06:22</td>\n",
       "      <td>GRANULES</td>\n",
       "      <td>3039233</td>\n",
       "      <td>313.0</td>\n",
       "      <td>309.0</td>\n",
       "      <td>317.0</td>\n",
       "      <td>2022-10-01 00:02:43.980543</td>\n",
       "      <td>not_yet</td>\n",
       "      <td>0.0</td>\n",
       "      <td>0.0</td>\n",
       "      <td>0.0</td>\n",
       "      <td>0.0</td>\n",
       "    </tr>\n",
       "  </tbody>\n",
       "</table>\n",
       "</div>"
      ],
      "text/plain": [
       "                 time    symbol  insttkn   enter     sl    exit  \\\n",
       "0 2022-09-08 11:26:29   RAYMOND   731905  1020.0  995.0  1045.0   \n",
       "1 2022-09-08 10:55:25    TRIGYN  1389569   110.0  108.0   116.0   \n",
       "2 2022-09-07 14:06:22  GRANULES  3039233   313.0  309.0   317.0   \n",
       "\n",
       "       exit_time_in_backtest exit_type_in_backtest  exit_val_in_backtest  \\\n",
       "0 2022-10-01 00:02:43.980543               not_yet                   0.0   \n",
       "1 2022-10-01 00:02:43.980543               not_yet                   0.0   \n",
       "2 2022-10-01 00:02:43.980543               not_yet                   0.0   \n",
       "\n",
       "   enter_val_in_backtest  enter_time_in_backtest  gained_percent  \n",
       "0                    0.0                     0.0             0.0  \n",
       "1                    0.0                     0.0             0.0  \n",
       "2                    0.0                     0.0             0.0  "
      ]
     },
     "execution_count": 79,
     "metadata": {},
     "output_type": "execute_result"
    }
   ],
   "source": [
    "extracted_data_df['exit_time_in_backtest'] = datetime.datetime.now()\n",
    "extracted_data_df['exit_type_in_backtest'] = 'not_yet'\n",
    "extracted_data_df['exit_val_in_backtest'] = 0.0\n",
    "extracted_data_df['enter_val_in_backtest'] = 0.0\n",
    "extracted_data_df['enter_time_in_backtest'] = 0.0\n",
    "extracted_data_df['gained_percent'] = 0.0\n",
    "extracted_data_df"
   ]
  },
  {
   "cell_type": "code",
   "execution_count": null,
   "id": "2e1dd6bd",
   "metadata": {
    "ExecuteTime": {
     "end_time": "2022-09-30T18:32:48.071423Z",
     "start_time": "2022-09-30T18:32:44.466205Z"
    },
    "scrolled": true
   },
   "outputs": [
    {
     "name": "stderr",
     "output_type": "stream",
     "text": [
      "3it [00:03,  1.19s/it]\n"
     ]
    },
    {
     "data": {
      "text/html": [
       "<div>\n",
       "<style scoped>\n",
       "    .dataframe tbody tr th:only-of-type {\n",
       "        vertical-align: middle;\n",
       "    }\n",
       "\n",
       "    .dataframe tbody tr th {\n",
       "        vertical-align: top;\n",
       "    }\n",
       "\n",
       "    .dataframe thead th {\n",
       "        text-align: right;\n",
       "    }\n",
       "</style>\n",
       "<table border=\"1\" class=\"dataframe\">\n",
       "  <thead>\n",
       "    <tr style=\"text-align: right;\">\n",
       "      <th></th>\n",
       "      <th>time</th>\n",
       "      <th>symbol</th>\n",
       "      <th>insttkn</th>\n",
       "      <th>enter</th>\n",
       "      <th>sl</th>\n",
       "      <th>exit</th>\n",
       "      <th>exit_time_in_backtest</th>\n",
       "      <th>exit_type_in_backtest</th>\n",
       "      <th>exit_val_in_backtest</th>\n",
       "      <th>enter_val_in_backtest</th>\n",
       "      <th>enter_time_in_backtest</th>\n",
       "      <th>gained_percent</th>\n",
       "    </tr>\n",
       "  </thead>\n",
       "  <tbody>\n",
       "    <tr>\n",
       "      <th>0</th>\n",
       "      <td>2022-09-08 11:26:29</td>\n",
       "      <td>RAYMOND</td>\n",
       "      <td>731905</td>\n",
       "      <td>1020.0</td>\n",
       "      <td>995.0</td>\n",
       "      <td>1045.0</td>\n",
       "      <td>2022-09-09 09:16:00</td>\n",
       "      <td>tgt</td>\n",
       "      <td>1045.85</td>\n",
       "      <td>1021.00</td>\n",
       "      <td>2022-09-08 11:27:00</td>\n",
       "      <td>2.345739</td>\n",
       "    </tr>\n",
       "    <tr>\n",
       "      <th>1</th>\n",
       "      <td>2022-09-08 10:55:25</td>\n",
       "      <td>TRIGYN</td>\n",
       "      <td>1389569</td>\n",
       "      <td>110.0</td>\n",
       "      <td>108.0</td>\n",
       "      <td>116.0</td>\n",
       "      <td>2022-09-08 13:34:00</td>\n",
       "      <td>sl</td>\n",
       "      <td>103.90</td>\n",
       "      <td>111.70</td>\n",
       "      <td>2022-09-08 11:07:00</td>\n",
       "      <td>-3.312444</td>\n",
       "    </tr>\n",
       "    <tr>\n",
       "      <th>2</th>\n",
       "      <td>2022-09-07 14:06:22</td>\n",
       "      <td>GRANULES</td>\n",
       "      <td>3039233</td>\n",
       "      <td>313.0</td>\n",
       "      <td>309.0</td>\n",
       "      <td>317.0</td>\n",
       "      <td>2022-09-08 09:48:00</td>\n",
       "      <td>sl</td>\n",
       "      <td>308.30</td>\n",
       "      <td>313.35</td>\n",
       "      <td>2022-09-07 14:07:00</td>\n",
       "      <td>-1.388224</td>\n",
       "    </tr>\n",
       "  </tbody>\n",
       "</table>\n",
       "</div>"
      ],
      "text/plain": [
       "                 time    symbol  insttkn   enter     sl    exit  \\\n",
       "0 2022-09-08 11:26:29   RAYMOND   731905  1020.0  995.0  1045.0   \n",
       "1 2022-09-08 10:55:25    TRIGYN  1389569   110.0  108.0   116.0   \n",
       "2 2022-09-07 14:06:22  GRANULES  3039233   313.0  309.0   317.0   \n",
       "\n",
       "  exit_time_in_backtest exit_type_in_backtest  exit_val_in_backtest  \\\n",
       "0   2022-09-09 09:16:00                   tgt               1045.85   \n",
       "1   2022-09-08 13:34:00                    sl                103.90   \n",
       "2   2022-09-08 09:48:00                    sl                308.30   \n",
       "\n",
       "   enter_val_in_backtest enter_time_in_backtest  gained_percent  \n",
       "0                1021.00    2022-09-08 11:27:00        2.345739  \n",
       "1                 111.70    2022-09-08 11:07:00       -3.312444  \n",
       "2                 313.35    2022-09-07 14:07:00       -1.388224  "
      ]
     },
     "execution_count": 80,
     "metadata": {},
     "output_type": "execute_result"
    }
   ],
   "source": [
    "##### Determine exit types (SL or TGT) if exited and plot gained_percent graph ####\n",
    "pd.options.mode.chained_assignment = None  # default='warn'\n",
    "\n",
    "nest = []\n",
    "nest_symbol_list = []\n",
    "for indx,data in  tqdm(extracted_data_df.iterrows()):\n",
    "    ### getting historical data ###\n",
    "    hist_raw_data = kite.historical_data(data['insttkn'],data['time'],data['time']+datetime.timedelta(days=60),'minute')\n",
    "    histdf = pd.DataFrame(hist_raw_data)\n",
    "    histdf.date=histdf.date.dt.tz_localize(None)\n",
    "#     print(data['symbol'])\n",
    "\n",
    "    histdf_from_message_date = histdf.loc[pd.to_datetime(histdf['date']).dt.date==data['time'].date()]\n",
    "    enterdf = histdf_from_message_date.loc[histdf_from_message_date['high']>data['enter']]\n",
    "\n",
    "    if(enterdf.empty!=True):\n",
    "        enter_price = enterdf.close.tolist()[0]\n",
    "        enter_time = enterdf.date.tolist()[0]\n",
    "#         print(f'{enter_price=}')\n",
    "#         print(f'{enter_time=}')\n",
    "        extracted_data_df['enter_val_in_backtest'][indx] = enter_price\n",
    "        extracted_data_df['enter_time_in_backtest'][indx] = enter_time\n",
    "\n",
    "        ##### determining when TGT and SL hit ####\n",
    "        final_exit_time = datetime.datetime.now()\n",
    "        tgt_exit_time = datetime.datetime.now()\n",
    "        sl_exit_time = datetime.datetime.now()\n",
    "        final_exit_type = 'not_exited_yet'\n",
    "        tgt_exit_val = 0.0\n",
    "        sl_exit_val = 0.0\n",
    "        final_exit_val = 0.0\n",
    "\n",
    "        try:\n",
    "            tgt_exit_df = histdf.loc[histdf.close>data['exit']]\n",
    "            tgt_exit_time = tgt_exit_df.iloc[0]['date']\n",
    "            tgt_exit_val = tgt_exit_df.close.iloc[-1]\n",
    "    #         print(f'{tgt_exit_time=}')\n",
    "    #         print(f'{tgt_exit_val=}')\n",
    "        except IndexError as ie:\n",
    "            pass\n",
    "\n",
    "        try:\n",
    "            sl_exit_df = histdf.loc[histdf.close<data['sl']]\n",
    "            sl_exit_time = sl_exit_df.iloc[0]['date']\n",
    "            sl_exit_val = sl_exit_df.close.iloc[-1]\n",
    "    #         print(f'{sl_exit_time=}')\n",
    "    #         print(f'{sl_exit_val=}')\n",
    "        except IndexError as ie:\n",
    "            pass\n",
    "\n",
    "        ##### determining if exited with TGT or SL by comparing what occured earlier ###\n",
    "        if(tgt_exit_time<sl_exit_time):\n",
    "            final_exit_time = tgt_exit_time\n",
    "            final_exit_type = 'tgt'\n",
    "            final_exit_val = tgt_exit_val\n",
    "        else:\n",
    "            final_exit_time = sl_exit_time\n",
    "            final_exit_type = 'sl'\n",
    "            final_exit_val = sl_exit_val\n",
    "\n",
    "        ### storing final values in extracted_data_df ###\n",
    "        extracted_data_df['exit_time_in_backtest'][indx] = final_exit_time\n",
    "        extracted_data_df['exit_type_in_backtest'][indx] = final_exit_type\n",
    "        extracted_data_df['exit_val_in_backtest'][indx] = final_exit_val\n",
    "\n",
    "    #     print(f'{final_exit_time=}')\n",
    "        final_histdf = histdf.loc[histdf.date<final_exit_time]\n",
    "\n",
    "        if(final_histdf.empty != True):\n",
    "            #### determining percent gained ###\n",
    "            final_histdf['percent_gain'] = 100*(final_histdf.close-enter_price)/enter_price\n",
    "\n",
    "            nest.append(final_histdf.percent_gain.tolist())\n",
    "            nest_symbol_list.append(data['symbol'])\n",
    "\n",
    "            final_percent_gained = final_histdf['percent_gain'].tolist()[-1]\n",
    "            extracted_data_df['gained_percent'][indx] = final_percent_gained\n",
    "        #     histdf[['date','percent_gain']].plot_bokeh(x='date')\n",
    "extracted_data_df"
   ]
  },
  {
   "cell_type": "code",
   "execution_count": null,
   "id": "80879045",
   "metadata": {},
   "outputs": [],
   "source": []
  },
  {
   "cell_type": "code",
   "execution_count": null,
   "id": "770e1c08",
   "metadata": {},
   "outputs": [],
   "source": []
  },
  {
   "cell_type": "code",
   "execution_count": null,
   "id": "ceb28808",
   "metadata": {
    "ExecuteTime": {
     "end_time": "2022-10-01T05:42:33.241717Z",
     "start_time": "2022-10-01T05:42:33.237127Z"
    }
   },
   "outputs": [],
   "source": [
    "import matplotlib as pyplot"
   ]
  },
  {
   "cell_type": "code",
   "execution_count": null,
   "id": "3c87683d",
   "metadata": {
    "ExecuteTime": {
     "end_time": "2022-10-01T05:46:08.235326Z",
     "start_time": "2022-10-01T05:46:06.662696Z"
    },
    "scrolled": false
   },
   "outputs": [
    {
     "name": "stdout",
     "output_type": "stream",
     "text": [
      "nifty_gained_percent_in_60days=-3.0223323233382438\n",
      "this_telegram_channel_gained_percent_by_all_trades=-2.354928606083183\n",
      "outperforming_nifty_by_percentage=-0.6674037172550609\n",
      "total_number_of_trades_done=6\n",
      "compounded_gains=-2.418131220097621\n"
     ]
    },
    {
     "data": {
      "text/plain": [
       "<AxesSubplot:>"
      ]
     },
     "execution_count": 98,
     "metadata": {},
     "output_type": "execute_result"
    },
    {
     "data": {
      "image/png": "[encoded data removed]",
      "text/plain": [
       "<Figure size 432x288 with 1 Axes>"
      ]
     },
     "metadata": {
      "needs_background": "light"
     },
     "output_type": "display_data"
    }
   ],
   "source": [
    "#### Compare gains to Nifty 50 ####\n",
    "nifty_raw = kite.historical_data(256265,extracted_data_df.time.iloc[-1],extracted_data_df.time.iloc[-1]+datetime.timedelta(days=60),'minute')\n",
    "nifty_df = pd.DataFrame(nifty_raw)\n",
    "nifty_gained_percent_in_60days =  100*(nifty_df.close.iloc[-1] - nifty_df.close[0])/nifty_df.close[0]\n",
    "print(f'{nifty_gained_percent_in_60days=}')\n",
    "\n",
    "this_telegram_channel_gained_percent_by_all_trades = extracted_data_df.gained_percent.sum()\n",
    "print(f'{this_telegram_channel_gained_percent_by_all_trades=}')\n",
    "outperforming_nifty_by_percentage = nifty_gained_percent_in_60days - this_telegram_channel_gained_percent_by_all_trades\n",
    "print(f'{outperforming_nifty_by_percentage=}')\n",
    "total_number_of_trades_done = 2*len(extracted_data_df.index)\n",
    "print(f'{total_number_of_trades_done=}')\n",
    "\n",
    "### Calculate compunded gains ####\n",
    "init_percent = 100.0\n",
    "list_map = []\n",
    "for one_percent in extracted_data_df.gained_percent.tolist()[::-1]:\n",
    "    init_percent = init_percent*((100+one_percent)/100)\n",
    "    list_map.append({'init_percent':init_percent,'one_percent':one_percent})\n",
    "#     print(one_percent)\n",
    "compounded_gains = init_percent-100\n",
    "print(f'{compounded_gains=}')\n",
    "## GAINED PERCENTAGE TRADE-WISE ###\n",
    "extracted_data_df['gained_percent'].plot.bar()"
   ]
  },
  {
   "cell_type": "code",
   "execution_count": null,
   "id": "cb0ad278",
   "metadata": {
    "ExecuteTime": {
     "end_time": "2022-10-01T05:43:18.706203Z",
     "start_time": "2022-10-01T05:43:18.677295Z"
    }
   },
   "outputs": [
    {
     "data": {
      "text/html": [
       "<div>\n",
       "<style scoped>\n",
       "    .dataframe tbody tr th:only-of-type {\n",
       "        vertical-align: middle;\n",
       "    }\n",
       "\n",
       "    .dataframe tbody tr th {\n",
       "        vertical-align: top;\n",
       "    }\n",
       "\n",
       "    .dataframe thead th {\n",
       "        text-align: right;\n",
       "    }\n",
       "</style>\n",
       "<table border=\"1\" class=\"dataframe\">\n",
       "  <thead>\n",
       "    <tr style=\"text-align: right;\">\n",
       "      <th></th>\n",
       "      <th>RAYMOND</th>\n",
       "      <th>TRIGYN</th>\n",
       "      <th>GRANULES</th>\n",
       "    </tr>\n",
       "  </thead>\n",
       "  <tbody>\n",
       "    <tr>\n",
       "      <th>0</th>\n",
       "      <td>0.000000</td>\n",
       "      <td>-2.864816</td>\n",
       "      <td>0.000000</td>\n",
       "    </tr>\n",
       "    <tr>\n",
       "      <th>1</th>\n",
       "      <td>0.000000</td>\n",
       "      <td>-2.103850</td>\n",
       "      <td>0.000000</td>\n",
       "    </tr>\n",
       "    <tr>\n",
       "      <th>2</th>\n",
       "      <td>0.190989</td>\n",
       "      <td>-2.417189</td>\n",
       "      <td>0.175523</td>\n",
       "    </tr>\n",
       "    <tr>\n",
       "      <th>3</th>\n",
       "      <td>0.190989</td>\n",
       "      <td>-2.596240</td>\n",
       "      <td>0.159566</td>\n",
       "    </tr>\n",
       "    <tr>\n",
       "      <th>4</th>\n",
       "      <td>0.190989</td>\n",
       "      <td>-2.148612</td>\n",
       "      <td>0.111696</td>\n",
       "    </tr>\n",
       "    <tr>\n",
       "      <th>...</th>\n",
       "      <td>...</td>\n",
       "      <td>...</td>\n",
       "      <td>...</td>\n",
       "    </tr>\n",
       "    <tr>\n",
       "      <th>239</th>\n",
       "      <td>0.190989</td>\n",
       "      <td>NaN</td>\n",
       "      <td>NaN</td>\n",
       "    </tr>\n",
       "    <tr>\n",
       "      <th>240</th>\n",
       "      <td>0.190989</td>\n",
       "      <td>NaN</td>\n",
       "      <td>NaN</td>\n",
       "    </tr>\n",
       "    <tr>\n",
       "      <th>241</th>\n",
       "      <td>0.190989</td>\n",
       "      <td>NaN</td>\n",
       "      <td>NaN</td>\n",
       "    </tr>\n",
       "    <tr>\n",
       "      <th>242</th>\n",
       "      <td>0.190989</td>\n",
       "      <td>NaN</td>\n",
       "      <td>NaN</td>\n",
       "    </tr>\n",
       "    <tr>\n",
       "      <th>243</th>\n",
       "      <td>2.345739</td>\n",
       "      <td>NaN</td>\n",
       "      <td>NaN</td>\n",
       "    </tr>\n",
       "  </tbody>\n",
       "</table>\n",
       "<p>244 rows × 3 columns</p>\n",
       "</div>"
      ],
      "text/plain": [
       "      RAYMOND    TRIGYN  GRANULES\n",
       "0    0.000000 -2.864816  0.000000\n",
       "1    0.000000 -2.103850  0.000000\n",
       "2    0.190989 -2.417189  0.175523\n",
       "3    0.190989 -2.596240  0.159566\n",
       "4    0.190989 -2.148612  0.111696\n",
       "..        ...       ...       ...\n",
       "239  0.190989       NaN       NaN\n",
       "240  0.190989       NaN       NaN\n",
       "241  0.190989       NaN       NaN\n",
       "242  0.190989       NaN       NaN\n",
       "243  2.345739       NaN       NaN\n",
       "\n",
       "[244 rows x 3 columns]"
      ]
     },
     "execution_count": 95,
     "metadata": {},
     "output_type": "execute_result"
    }
   ],
   "source": [
    "final_percent_gain_df = pd.DataFrame(nest, nest_symbol_list).T\n",
    "final_percent_gain_df"
   ]
  },
  {
   "cell_type": "code",
   "execution_count": null,
   "id": "68760fe1",
   "metadata": {
    "ExecuteTime": {
     "end_time": "2022-09-30T18:32:52.931739Z",
     "start_time": "2022-09-30T18:32:52.918803Z"
    },
    "scrolled": true
   },
   "outputs": [
    {
     "data": {
      "text/html": [
       "<div>\n",
       "<style scoped>\n",
       "    .dataframe tbody tr th:only-of-type {\n",
       "        vertical-align: middle;\n",
       "    }\n",
       "\n",
       "    .dataframe tbody tr th {\n",
       "        vertical-align: top;\n",
       "    }\n",
       "\n",
       "    .dataframe thead th {\n",
       "        text-align: right;\n",
       "    }\n",
       "</style>\n",
       "<table border=\"1\" class=\"dataframe\">\n",
       "  <thead>\n",
       "    <tr style=\"text-align: right;\">\n",
       "      <th></th>\n",
       "      <th>RAYMOND</th>\n",
       "      <th>TRIGYN</th>\n",
       "      <th>GRANULES</th>\n",
       "    </tr>\n",
       "  </thead>\n",
       "  <tbody>\n",
       "    <tr>\n",
       "      <th>0</th>\n",
       "      <td>0.000000</td>\n",
       "      <td>-2.864816</td>\n",
       "      <td>0.000000</td>\n",
       "    </tr>\n",
       "    <tr>\n",
       "      <th>1</th>\n",
       "      <td>0.000000</td>\n",
       "      <td>-2.103850</td>\n",
       "      <td>0.000000</td>\n",
       "    </tr>\n",
       "    <tr>\n",
       "      <th>2</th>\n",
       "      <td>0.190989</td>\n",
       "      <td>-2.417189</td>\n",
       "      <td>0.175523</td>\n",
       "    </tr>\n",
       "    <tr>\n",
       "      <th>3</th>\n",
       "      <td>0.190989</td>\n",
       "      <td>-2.596240</td>\n",
       "      <td>0.159566</td>\n",
       "    </tr>\n",
       "    <tr>\n",
       "      <th>4</th>\n",
       "      <td>0.190989</td>\n",
       "      <td>-2.148612</td>\n",
       "      <td>0.111696</td>\n",
       "    </tr>\n",
       "    <tr>\n",
       "      <th>...</th>\n",
       "      <td>...</td>\n",
       "      <td>...</td>\n",
       "      <td>...</td>\n",
       "    </tr>\n",
       "    <tr>\n",
       "      <th>239</th>\n",
       "      <td>0.190989</td>\n",
       "      <td>NaN</td>\n",
       "      <td>NaN</td>\n",
       "    </tr>\n",
       "    <tr>\n",
       "      <th>240</th>\n",
       "      <td>0.190989</td>\n",
       "      <td>NaN</td>\n",
       "      <td>NaN</td>\n",
       "    </tr>\n",
       "    <tr>\n",
       "      <th>241</th>\n",
       "      <td>0.190989</td>\n",
       "      <td>NaN</td>\n",
       "      <td>NaN</td>\n",
       "    </tr>\n",
       "    <tr>\n",
       "      <th>242</th>\n",
       "      <td>0.190989</td>\n",
       "      <td>NaN</td>\n",
       "      <td>NaN</td>\n",
       "    </tr>\n",
       "    <tr>\n",
       "      <th>243</th>\n",
       "      <td>2.345739</td>\n",
       "      <td>NaN</td>\n",
       "      <td>NaN</td>\n",
       "    </tr>\n",
       "  </tbody>\n",
       "</table>\n",
       "<p>244 rows × 3 columns</p>\n",
       "</div>"
      ],
      "text/plain": [
       "      RAYMOND    TRIGYN  GRANULES\n",
       "0    0.000000 -2.864816  0.000000\n",
       "1    0.000000 -2.103850  0.000000\n",
       "2    0.190989 -2.417189  0.175523\n",
       "3    0.190989 -2.596240  0.159566\n",
       "4    0.190989 -2.148612  0.111696\n",
       "..        ...       ...       ...\n",
       "239  0.190989       NaN       NaN\n",
       "240  0.190989       NaN       NaN\n",
       "241  0.190989       NaN       NaN\n",
       "242  0.190989       NaN       NaN\n",
       "243  2.345739       NaN       NaN\n",
       "\n",
       "[244 rows x 3 columns]"
      ]
     },
     "execution_count": 86,
     "metadata": {},
     "output_type": "execute_result"
    }
   ],
   "source": [
    "### add counter number at last in repeating column names\n",
    "new_column_name_list = []\n",
    "counter = 0\n",
    "for one_name in final_percent_gain_df.keys().tolist():\n",
    "    if(one_name not in new_column_name_list):\n",
    "        new_column_name_list.append(one_name)\n",
    "    else:\n",
    "        new_column_name_list.append(one_name+'_'+str(counter))\n",
    "        counter+=1\n",
    "        \n",
    "final_percent_gain_df.columns = new_column_name_list\n",
    "final_percent_gain_df"
   ]
  },
  {
   "cell_type": "code",
   "execution_count": null,
   "id": "1696231b",
   "metadata": {
    "ExecuteTime": {
     "end_time": "2022-09-30T18:34:17.964377Z",
     "start_time": "2022-09-30T18:34:17.753881Z"
    }
   },
   "outputs": [
    {
     "data": {
      "text/plain": [
       "<AxesSubplot:>"
      ]
     },
     "execution_count": 87,
     "metadata": {},
     "output_type": "execute_result"
    },
    {
     "data": {
      "image/png": "[encoded data removed]",
      "text/plain": [
       "<Figure size 432x288 with 1 Axes>"
      ]
     },
     "metadata": {
      "needs_background": "light"
     },
     "output_type": "display_data"
    }
   ],
   "source": [
    "final_percent_gain_df.plot()"
   ]
  },
  {
   "cell_type": "code",
   "execution_count": null,
   "id": "bf0c2ea1",
   "metadata": {},
   "outputs": [],
   "source": []
  },
  {
   "cell_type": "markdown",
   "id": "55894b53",
   "metadata": {},
   "source": [
    "# Listen to Telegram Channel for messages and predict tokens"
   ]
  },
  {
   "cell_type": "code",
   "execution_count": null,
   "id": "6989b2b1",
   "metadata": {
    "ExecuteTime": {
     "end_time": "2022-09-30T18:37:37.472051Z",
     "start_time": "2022-09-30T18:37:11.380243Z"
    }
   },
   "outputs": [
    {
     "name": "stdout",
     "output_type": "stream",
     "text": [
      "huggingface/tokenizers: The current process just got forked, after parallelism has already been used. Disabling parallelism to avoid deadlocks...\n",
      "To disable this warning, you can either:\n",
      "\t- Avoid using `tokenizers` before the fork if possible\n",
      "\t- Explicitly set the environment variable TOKENIZERS_PARALLELISM=(true | false)\n",
      "Enter the code: 92803\n"
     ]
    }
   ],
   "source": [
    "# Code from  https://python.plainenglish.io/telegram-channel-listener-with-python-8176ebe3c89b\n",
    "import configparser\n",
    "import json\n",
    "import re\n",
    "from telethon.errors import SessionPasswordNeededError\n",
    "from telethon import TelegramClient, events, sync\n",
    "from telethon.tl.functions.messages import (GetHistoryRequest)\n",
    "from telethon.tl.types import (PeerChannel)\n",
    "\n",
    "api_id = telegramAuth.api_id\n",
    "api_hash = telegramAuth.api_hash\n",
    "phone = telegramAuth.phone\n",
    "\n",
    "user_input_channel = 'https://t.me/testchannelnottaken'\n",
    "\n",
    "client = TelegramClient(phone, api_id, api_hash)\n",
    "\n",
    "await client.connect()\n",
    "\n",
    "if not await client.is_user_authorized():\n",
    "    await client.send_code_request(phone)\n",
    "    await client.sign_in(phone, input('Enter the code: '))\n",
    "else :\n",
    "    print('Autorised')\n",
    "\n",
    "# Listen to messages from target channel \n",
    "\n",
    "@client.on(events.NewMessage()) \n",
    "async def newMessageListener(event):\n",
    "    # Get message text \n",
    "    newMessage = event.message.message \n",
    "    classified_dict =  get_class_map_from_message_NEW(newMessage)\n",
    "    print(classified_dict)\n",
    "# #### GET FULL MESSAGE EVENT OBJECT in ASYNC MAnner #####\n",
    "# @client.on(events.NewMessage)\n",
    "# async def my_event_handler(event):\n",
    "#     print('{}'.format(event))"
   ]
  },
  {
   "cell_type": "code",
   "execution_count": null,
   "id": "5dfb22b5",
   "metadata": {
    "ExecuteTime": {
     "end_time": "2022-09-30T18:42:31.730583Z",
     "start_time": "2022-09-30T18:37:37.964922Z"
    }
   },
   "outputs": [
    {
     "name": "stdout",
     "output_type": "stream",
     "text": [
      "Now wating for new messages...\n",
      "   sentence  sentence_class sentence_class_name\n",
      "0                         0                    \n",
      "1  BINDAAST              10              symbol\n",
      "2       ...               0                    \n",
      "3      BTST               1                btst\n",
      "4      BTST               1                btst\n",
      "5         :               0                    \n",
      "6  PIONDIST              10              symbol\n",
      "7       CMP               0                    \n",
      "8    173.80               3               enter\n",
      "  sentence  sentence_class sentence_class_name\n",
      "0                        0                    \n",
      "1     BTST               1                btst\n",
      "2        :               0                    \n",
      "3  LIKHITA              10              symbol\n",
      "4      CMP               0                    \n",
      "5      374               3               enter\n"
     ]
    },
    {
     "ename": "CancelledError",
     "evalue": "",
     "output_type": "error",
     "traceback": [
      "\u001b[0;31m---------------------------------------------------------------------------\u001b[0m",
      "\u001b[0;31mCancelledError\u001b[0m                            Traceback (most recent call last)",
      "\u001b[0;32m/tmp/ipykernel_18814/1059184346.py\u001b[0m in \u001b[0;36m<module>\u001b[0;34m\u001b[0m\n\u001b[1;32m      2\u001b[0m \u001b[0;32masync\u001b[0m \u001b[0;32mwith\u001b[0m \u001b[0mclient\u001b[0m\u001b[0;34m:\u001b[0m\u001b[0;34m\u001b[0m\u001b[0;34m\u001b[0m\u001b[0m\n\u001b[1;32m      3\u001b[0m     \u001b[0mprint\u001b[0m\u001b[0;34m(\u001b[0m\u001b[0;34m'Now wating for new messages...'\u001b[0m\u001b[0;34m)\u001b[0m\u001b[0;34m\u001b[0m\u001b[0;34m\u001b[0m\u001b[0m\n\u001b[0;32m----> 4\u001b[0;31m     \u001b[0;32mawait\u001b[0m \u001b[0mclient\u001b[0m\u001b[0;34m.\u001b[0m\u001b[0mrun_until_disconnected\u001b[0m\u001b[0;34m(\u001b[0m\u001b[0;34m)\u001b[0m\u001b[0;34m\u001b[0m\u001b[0;34m\u001b[0m\u001b[0m\n\u001b[0m",
      "\u001b[0;32m~/anaconda3/lib/python3.8/site-packages/telethon/client/updates.py\u001b[0m in \u001b[0;36m_run_until_disconnected\u001b[0;34m(self)\u001b[0m\n\u001b[1;32m     29\u001b[0m             \u001b[0;31m# Make a high-level request to notify that we want updates\u001b[0m\u001b[0;34m\u001b[0m\u001b[0;34m\u001b[0m\u001b[0;34m\u001b[0m\u001b[0m\n\u001b[1;32m     30\u001b[0m             \u001b[0;32mawait\u001b[0m \u001b[0mself\u001b[0m\u001b[0;34m(\u001b[0m\u001b[0mfunctions\u001b[0m\u001b[0;34m.\u001b[0m\u001b[0mupdates\u001b[0m\u001b[0;34m.\u001b[0m\u001b[0mGetStateRequest\u001b[0m\u001b[0;34m(\u001b[0m\u001b[0;34m)\u001b[0m\u001b[0;34m)\u001b[0m\u001b[0;34m\u001b[0m\u001b[0;34m\u001b[0m\u001b[0m\n\u001b[0;32m---> 31\u001b[0;31m             \u001b[0;32mreturn\u001b[0m \u001b[0;32mawait\u001b[0m \u001b[0mself\u001b[0m\u001b[0;34m.\u001b[0m\u001b[0mdisconnected\u001b[0m\u001b[0;34m\u001b[0m\u001b[0;34m\u001b[0m\u001b[0m\n\u001b[0m\u001b[1;32m     32\u001b[0m         \u001b[0;32mexcept\u001b[0m \u001b[0mKeyboardInterrupt\u001b[0m\u001b[0;34m:\u001b[0m\u001b[0;34m\u001b[0m\u001b[0;34m\u001b[0m\u001b[0m\n\u001b[1;32m     33\u001b[0m             \u001b[0;32mpass\u001b[0m\u001b[0;34m\u001b[0m\u001b[0;34m\u001b[0m\u001b[0m\n",
      "\u001b[0;31mCancelledError\u001b[0m: "
     ]
    }
   ],
   "source": [
    "##### Start Listening to Messages ########\n",
    "async with client: \n",
    "    print('Now wating for new messages...')\n",
    "    await client.run_until_disconnected() "
   ]
  },
  {
   "cell_type": "code",
   "execution_count": null,
   "id": "cc5dfb21",
   "metadata": {},
   "outputs": [],
   "source": []
  },
  {
   "cell_type": "markdown",
   "id": "d3e15c3f",
   "metadata": {},
   "source": [
    "# Supplimentry Functions"
   ]
  },
  {
   "cell_type": "code",
   "execution_count": null,
   "id": "c267f2e8",
   "metadata": {
    "ExecuteTime": {
     "end_time": "2022-09-11T10:29:17.841071Z",
     "start_time": "2022-09-11T10:29:17.841045Z"
    }
   },
   "outputs": [],
   "source": [
    "### JOIN CHANNEL FROM TELEGRAM CLIENT (not from telepot BOT) ####\n",
    "# from telethon.tl.functions.channels import JoinChannelRequest\n",
    "# await client(JoinChannelRequest('https://t.me/INTRADAY_001'))\n",
    "\n",
    "#### TELEGRAM BOT #####\n",
    "# import telepot\n",
    "# bot_tkn = telegramAuth.bot_tkn\n",
    "# bt1 = telepot.Bot(bot_tkn)\n",
    "# response = bt1.getUpdates()\n",
    "# print(response)\n",
    "\n",
    "# #### GET FULL MESSAGE EVENT OBJECT in ASYNC MAnner #####\n",
    "# @client.on(events.NewMessage)\n",
    "# async def my_event_handler(event):\n",
    "#     print('{}'.format(event))\n",
    "# await client.start()\n",
    "# await client.run_until_disconnected()"
   ]
  },
  {
   "cell_type": "code",
   "execution_count": null,
   "id": "a4a393f7",
   "metadata": {},
   "outputs": [],
   "source": []
  },
  {
   "cell_type": "code",
   "execution_count": null,
   "id": "4174fd95",
   "metadata": {},
   "outputs": [],
   "source": []
  },
  {
   "cell_type": "code",
   "execution_count": null,
   "id": "3dc478fe",
   "metadata": {},
   "outputs": [],
   "source": []
  },
  {
   "cell_type": "code",
   "execution_count": null,
   "id": "f8c6d494",
   "metadata": {},
   "outputs": [],
   "source": []
  },
  {
   "cell_type": "code",
   "execution_count": null,
   "id": "14cf4cda",
   "metadata": {},
   "outputs": [],
   "source": []
  },
  {
   "cell_type": "code",
   "execution_count": null,
   "id": "615f3dd1",
   "metadata": {},
   "outputs": [],
   "source": []
  },
  {
   "cell_type": "code",
   "execution_count": null,
   "id": "1b53aa46",
   "metadata": {},
   "outputs": [],
   "source": []
  }
 ],
 "metadata": {
  "hide_input": false,
  "kernelspec": {
   "display_name": "python3.8",
   "language": "python",
   "name": "python3.8"
  },
  "language_info": {
   "codemirror_mode": {
    "name": "ipython",
    "version": 3
   },
   "file_extension": ".py",
   "mimetype": "text/x-python",
   "name": "python",
   "nbconvert_exporter": "python",
   "pygments_lexer": "ipython3",
   "version": "3.8.8"
  },
  "toc": {
   "base_numbering": 1,
   "nav_menu": {},
   "number_sections": true,
   "sideBar": true,
   "skip_h1_title": false,
   "title_cell": "Table of Contents",
   "title_sidebar": "Contents",
   "toc_cell": true,
   "toc_position": {
    "height": "calc(100% - 180px)",
    "left": "10px",
    "top": "150px",
    "width": "191px"
   },
   "toc_section_display": false,
   "toc_window_display": false
  },
  "varInspector": {
   "cols": {
    "lenName": 16,
    "lenType": 16,
    "lenVar": 40
   },
   "kernels_config": {
    "python": {
     "delete_cmd_postfix": "",
     "delete_cmd_prefix": "del ",
     "library": "var_list.py",
     "varRefreshCmd": "print(var_dic_list())"
    },
    "r": {
     "delete_cmd_postfix": ") ",
     "delete_cmd_prefix": "rm(",
     "library": "var_list.r",
     "varRefreshCmd": "cat(var_dic_list()) "
    }
   },
   "types_to_exclude": [
    "module",
    "function",
    "builtin_function_or_method",
    "instance",
    "_Feature"
   ],
   "window_display": false
  },
  "vscode": {
   "interpreter": {
    "hash": "54d4b493398c0ed0029d0b30035bee5cba81f47cee1d5a50f694b38eb38bcdb4"
   }
  }
 },
 "nbformat": 4,
 "nbformat_minor": 5
}
