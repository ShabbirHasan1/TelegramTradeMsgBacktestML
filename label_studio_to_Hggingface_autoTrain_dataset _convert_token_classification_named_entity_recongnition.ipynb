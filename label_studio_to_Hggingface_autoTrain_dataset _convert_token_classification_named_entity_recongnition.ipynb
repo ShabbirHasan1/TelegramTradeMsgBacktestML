{
 "cells": [
  {
   "cell_type": "markdown",
   "id": "1a27b20c",
   "metadata": {
    "toc": true
   },
   "source": [
    "<h1>Table of Contents<span class=\"tocSkip\"></span></h1>\n",
    "<div class=\"toc\"><ul class=\"toc-item\"><li><span><a href=\"#Convert-Label-Studio-CSV-to-Huggingface-autoTrain-Token-Classification-Training-File\" data-toc-modified-id=\"Convert-Label-Studio-CSV-to-Huggingface-autoTrain-Token-Classification-Training-File-1\"><span class=\"toc-item-num\">1&nbsp;&nbsp;</span>Convert Label-Studio CSV to Huggingface autoTrain Token Classification Training File</a></span></li><li><span><a href=\"#Define-Predict-Function-Using-Trained-Model-From-AutoTrain-Huggingface-Returns-Dictionary-With-Data\" data-toc-modified-id=\"Define-Predict-Function-Using-Trained-Model-From-AutoTrain-Huggingface-Returns-Dictionary-With-Data-2\"><span class=\"toc-item-num\">2&nbsp;&nbsp;</span>Define Predict Function Using Trained Model From AutoTrain Huggingface Returns Dictionary With Data</a></span></li><li><span><a href=\"#Make-list_of_predictions-using-HuggingFace-autoTrain-model\" data-toc-modified-id=\"Make-list_of_predictions-using-HuggingFace-autoTrain-model-3\"><span class=\"toc-item-num\">3&nbsp;&nbsp;</span>Make list_of_predictions using HuggingFace autoTrain model</a></span></li><li><span><a href=\"#Interactively-Curate-True-and-Falsified-Predictions-and-store-to-joblib-file\" data-toc-modified-id=\"Interactively-Curate-True-and-Falsified-Predictions-and-store-to-joblib-file-4\"><span class=\"toc-item-num\">4&nbsp;&nbsp;</span>Interactively Curate True and Falsified Predictions and store to joblib file</a></span></li><li><span><a href=\"#Backtest-agaist-real-data\" data-toc-modified-id=\"Backtest-agaist-real-data-5\"><span class=\"toc-item-num\">5&nbsp;&nbsp;</span>Backtest agaist real data</a></span></li><li><span><a href=\"#Listen-to-Telegram-Channel-for-messages-and-predict-tokens\" data-toc-modified-id=\"Listen-to-Telegram-Channel-for-messages-and-predict-tokens-6\"><span class=\"toc-item-num\">6&nbsp;&nbsp;</span>Listen to Telegram Channel for messages and predict tokens</a></span></li><li><span><a href=\"#Supplimentry-Functions\" data-toc-modified-id=\"Supplimentry-Functions-7\"><span class=\"toc-item-num\">7&nbsp;&nbsp;</span>Supplimentry Functions</a></span></li></ul></div>"
   ]
  },
  {
   "cell_type": "markdown",
   "id": "cb5dce30",
   "metadata": {},
   "source": [
    "TODO:  \n",
    "1 : make pytohn api for web interaction    \n",
    "2 : test against other groups data than ratnakar  \n",
    "3 : "
   ]
  },
  {
   "cell_type": "markdown",
   "id": "d65e9a72",
   "metadata": {},
   "source": [
    "# Convert Label-Studio CSV to Huggingface autoTrain Token Classification Training File"
   ]
  },
  {
   "cell_type": "code",
   "execution_count": null,
   "id": "50c202bc",
   "metadata": {
    "ExecuteTime": {
     "end_time": "2022-09-30T08:28:51.044792Z",
     "start_time": "2022-09-30T08:28:50.652617Z"
    }
   },
   "outputs": [],
   "source": [
    "import pandas as pd\n",
    "import ast\n",
    "from tqdm import  tqdm\n",
    "import math\n",
    "import re\n",
    "import numpy as np\n",
    "import ipywidgets as widgets\n",
    "from functools import partial\n",
    "from IPython.display import clear_output\n",
    "import joblib\n",
    "import telegramAuth"
   ]
  },
  {
   "cell_type": "markdown",
   "id": "1ef80bc1",
   "metadata": {},
   "source": [
    "##### Load Local saved Label-studio CSV export file"
   ]
  },
  {
   "cell_type": "code",
   "execution_count": 9,
   "id": "7b6fdc49",
   "metadata": {},
   "outputs": [],
   "source": [
    "# pip install joblib"
   ]
  },
  {
   "cell_type": "code",
   "execution_count": 10,
   "id": "8d11e862",
   "metadata": {
    "ExecuteTime": {
     "end_time": "2022-09-19T18:52:31.630105Z",
     "start_time": "2022-09-19T18:52:31.580135Z"
    },
    "scrolled": false
   },
   "outputs": [
    {
     "data": {
      "text/html": [
       "<div>\n",
       "<style scoped>\n",
       "    .dataframe tbody tr th:only-of-type {\n",
       "        vertical-align: middle;\n",
       "    }\n",
       "\n",
       "    .dataframe tbody tr th {\n",
       "        vertical-align: top;\n",
       "    }\n",
       "\n",
       "    .dataframe thead th {\n",
       "        text-align: right;\n",
       "    }\n",
       "</style>\n",
       "<table border=\"1\" class=\"dataframe\">\n",
       "  <thead>\n",
       "    <tr style=\"text-align: right;\">\n",
       "      <th></th>\n",
       "      <th>text</th>\n",
       "      <th>id</th>\n",
       "      <th>label</th>\n",
       "      <th>annotator</th>\n",
       "      <th>annotation_id</th>\n",
       "      <th>created_at</th>\n",
       "      <th>updated_at</th>\n",
       "      <th>lead_time</th>\n",
       "    </tr>\n",
       "  </thead>\n",
       "  <tbody>\n",
       "    <tr>\n",
       "      <th>0</th>\n",
       "      <td>MAHSEAMLES GIVEN AT 587 FOR DELIVERY  TOUCHED ...</td>\n",
       "      <td>1127</td>\n",
       "      <td>[{\"start\": 0, \"end\": 10, \"text\": \"MAHSEAMLES\",...</td>\n",
       "      <td>1</td>\n",
       "      <td>1132</td>\n",
       "      <td>2022-09-15T17:30:47.590855Z</td>\n",
       "      <td>2022-09-15T17:30:47.590917Z</td>\n",
       "      <td>19.475</td>\n",
       "    </tr>\n",
       "    <tr>\n",
       "      <th>1</th>\n",
       "      <td>NIFTY FUTURES SUGGESTED AT 16390 ... TOUCHED 1...</td>\n",
       "      <td>1100</td>\n",
       "      <td>[{\"start\": 0, \"end\": 13, \"text\": \"NIFTY FUTURE...</td>\n",
       "      <td>1</td>\n",
       "      <td>1106</td>\n",
       "      <td>2022-09-14T17:19:43.922674Z</td>\n",
       "      <td>2022-09-15T17:30:12.437214Z</td>\n",
       "      <td>10.969</td>\n",
       "    </tr>\n",
       "    <tr>\n",
       "      <th>2</th>\n",
       "      <td>WATCHOUT.. FRIENDS...  OUR NIFTY FUTURES GIVEN...</td>\n",
       "      <td>1098</td>\n",
       "      <td>[{\"start\": 27, \"end\": 40, \"text\": \"NIFTY FUTUR...</td>\n",
       "      <td>1</td>\n",
       "      <td>1104</td>\n",
       "      <td>2022-09-14T17:19:24.141919Z</td>\n",
       "      <td>2022-09-15T17:30:07.481390Z</td>\n",
       "      <td>16.964</td>\n",
       "    </tr>\n",
       "    <tr>\n",
       "      <th>3</th>\n",
       "      <td>INTRADAY UPDATE  SELAN GIVEN ABOVE 202 TOUCHED...</td>\n",
       "      <td>1090</td>\n",
       "      <td>[{\"start\": 17, \"end\": 22, \"text\": \"SELAN\", \"la...</td>\n",
       "      <td>1</td>\n",
       "      <td>1096</td>\n",
       "      <td>2022-09-14T17:18:00.554760Z</td>\n",
       "      <td>2022-09-15T17:30:01.863693Z</td>\n",
       "      <td>11.138</td>\n",
       "    </tr>\n",
       "    <tr>\n",
       "      <th>4</th>\n",
       "      <td>WATCHOUT.. RELIANCE ABOVE 2776 TOUCHED 2785.80</td>\n",
       "      <td>1087</td>\n",
       "      <td>[{\"start\": 11, \"end\": 19, \"text\": \"RELIANCE\", ...</td>\n",
       "      <td>1</td>\n",
       "      <td>1093</td>\n",
       "      <td>2022-09-14T17:17:20.830008Z</td>\n",
       "      <td>2022-09-15T17:29:56.775820Z</td>\n",
       "      <td>9.455</td>\n",
       "    </tr>\n",
       "  </tbody>\n",
       "</table>\n",
       "</div>"
      ],
      "text/plain": [
       "                                                text    id  \\\n",
       "0  MAHSEAMLES GIVEN AT 587 FOR DELIVERY  TOUCHED ...  1127   \n",
       "1  NIFTY FUTURES SUGGESTED AT 16390 ... TOUCHED 1...  1100   \n",
       "2  WATCHOUT.. FRIENDS...  OUR NIFTY FUTURES GIVEN...  1098   \n",
       "3  INTRADAY UPDATE  SELAN GIVEN ABOVE 202 TOUCHED...  1090   \n",
       "4    WATCHOUT.. RELIANCE ABOVE 2776 TOUCHED 2785.80   1087   \n",
       "\n",
       "                                               label  annotator  \\\n",
       "0  [{\"start\": 0, \"end\": 10, \"text\": \"MAHSEAMLES\",...          1   \n",
       "1  [{\"start\": 0, \"end\": 13, \"text\": \"NIFTY FUTURE...          1   \n",
       "2  [{\"start\": 27, \"end\": 40, \"text\": \"NIFTY FUTUR...          1   \n",
       "3  [{\"start\": 17, \"end\": 22, \"text\": \"SELAN\", \"la...          1   \n",
       "4  [{\"start\": 11, \"end\": 19, \"text\": \"RELIANCE\", ...          1   \n",
       "\n",
       "   annotation_id                   created_at                   updated_at  \\\n",
       "0           1132  2022-09-15T17:30:47.590855Z  2022-09-15T17:30:47.590917Z   \n",
       "1           1106  2022-09-14T17:19:43.922674Z  2022-09-15T17:30:12.437214Z   \n",
       "2           1104  2022-09-14T17:19:24.141919Z  2022-09-15T17:30:07.481390Z   \n",
       "3           1096  2022-09-14T17:18:00.554760Z  2022-09-15T17:30:01.863693Z   \n",
       "4           1093  2022-09-14T17:17:20.830008Z  2022-09-15T17:29:56.775820Z   \n",
       "\n",
       "   lead_time  \n",
       "0     19.475  \n",
       "1     10.969  \n",
       "2     16.964  \n",
       "3     11.138  \n",
       "4      9.455  "
      ]
     },
     "execution_count": 10,
     "metadata": {},
     "output_type": "execute_result"
    }
   ],
   "source": [
    "csv_import = pd.read_csv('./project-1-at-2022-09-19-18-31-ecd4d830.csv')\n",
    "csv_import.head()"
   ]
  },
  {
   "cell_type": "code",
   "execution_count": 11,
   "id": "67807cb4",
   "metadata": {
    "ExecuteTime": {
     "end_time": "2022-09-19T18:52:31.794515Z",
     "start_time": "2022-09-19T18:52:31.790554Z"
    }
   },
   "outputs": [],
   "source": [
    "# convert_label_studio_to_hngFace_autoTrain_dataset(csv_import)"
   ]
  },
  {
   "cell_type": "code",
   "execution_count": 12,
   "id": "390189a8",
   "metadata": {
    "ExecuteTime": {
     "end_time": "2022-09-19T18:52:32.047591Z",
     "start_time": "2022-09-19T18:52:32.026711Z"
    }
   },
   "outputs": [],
   "source": [
    "def NEW_LOGIC_convert_label_studio_to_hngFace_autoTrain_dataset(csv_import) -> list:\n",
    "    '''Converts export file from Label-Studio to HuggingFace autoTrain trainable dataset\n",
    "    Example : \n",
    "    *****   INPUT of this function  **** (file : ../project-1-at-2022-09-13-06-14-0f0c0db3.csv))\n",
    "    text\tid\tannotator\tannotation_id\tcreated_at\tupdated_at\tlead_time\tlabel\n",
    "    KEEP   JAGSNPHARM ON RADAR... \t1001\t1\t1007\t2022-09-13T05:51:47.578986Z\t2022-09-13T05:51:47.579052Z\t4.298\t[{\"start\": 7, \"end\": 17, \"text\": \"JAGSNPHARM\", \"labels\": [\"symbol\"]}]\n",
    "    INTRADAY : BUY JAGSNPHARM ABOVE 306 SL 302 TARGET 312 - 316 - 320 \t1000\t1\t1006\t2022-09-13T05:51:41.795524Z\t2022-09-13T05:51:41.795587Z\t6.055\t[{\"start\": 15, \"end\": 25, \"text\": \"JAGSNPHARM\", \"labels\": [\"symbol\"]}, {\"start\": 32, \"end\": 35, \"text\": \"306\", \"labels\": [\"enter\"]}, {\"start\": 39, \"end\": 42, \"text\": \"302\", \"labels\": [\"sl\"]}, {\"start\": 50, \"end\": 53, \"text\": \"312\", \"labels\": [\"exit\"]}]\n",
    "    SUPER DUPER FUNDAMENTALS IN JAGSNPHARM... \t999\t1\t1005\t2022-09-13T05:51:34.283369Z\t2022-09-13T05:51:34.283431Z\t2.903\t[{\"start\": 28, \"end\": 38, \"text\": \"JAGSNPHARM\", \"labels\": [\"symbol\"]}]\n",
    "    *****   OUTPUT of this function  **** (file : ./dataset_for_huggingface_autoTrain_label_vlassification.csv)\n",
    "    text\tlabel\n",
    "    ['KEEP   ', 'JAGSNPHARM', ' ON RADAR... ']\t['NANA', 'symbol', 'NANA']\n",
    "    ['INTRADAY : BUY ', 'JAGSNPHARM', ' ABOVE ', '306', ' SL ', '302', ' TARGET ', '312', ' - 316 - 320 ']\t['NANA', 'symbol', 'NANA', 'enter', 'NANA', 'sl', 'NANA', 'exit', 'NANA']\n",
    "    ['JAGSNPHARM', '... ']\t['symbol', 'NANA']\n",
    "    '''\n",
    "    \n",
    "    final_dataset = []\n",
    "    for indx in csv_import.index:\n",
    "        this_label = csv_import.label[indx]\n",
    "        this_test_str = ''\n",
    "\n",
    "    #     print(f'{indx=}')\n",
    "    #     print(f'{this_label=}')\n",
    "\n",
    "    #     print(f'{type(this_test_str)=}')\n",
    "    #     print(f'{type(this_label)=}')\n",
    "\n",
    "        if(type(this_test_str) != type(this_label)):\n",
    "            if(np.isnan(this_label)):\n",
    "                final_dataset.append({'text':'','label':'NANA'})\n",
    "                continue\n",
    "\n",
    "        this_literal_list = ast.literal_eval(this_label)\n",
    "\n",
    "        start_pos_of_label__list = []\n",
    "        for ipdata in this_literal_list:\n",
    "            start_pos_of_label__list.append(ipdata['start'])\n",
    "        start_pos_of_label__list\n",
    "        start_pos_of_label__array = np.array(start_pos_of_label__list)\n",
    "        sort_index = np.argsort(start_pos_of_label__array)\n",
    "    #     print(start_pos_of_label__array)\n",
    "    #     print(sort_index)\n",
    "\n",
    "        this_text = csv_import.text[indx]\n",
    "\n",
    "        final_label_text = []\n",
    "        final_label_annotation = []\n",
    "        init_labeling = True\n",
    "        last_end_position = 0\n",
    "        for i in sort_index:\n",
    "        #     print(this_literal_list[i])\n",
    "            this_label_type = this_literal_list[i]['labels'][0]\n",
    "        #     print(f'{this_label_type=}')\n",
    "            this_label_start_position = this_literal_list[i]['start']\n",
    "            this_label_end_position = this_literal_list[i]['end']\n",
    "        #     print(f'{this_label_start_position=}')\n",
    "        #     print(f'{this_label_end_position=}')\n",
    "        #     print(f'{this_text=}')\n",
    "        #     print(f'{this_text[this_label_start_position:this_label_end_position]=}')\n",
    "        #     print()\n",
    "\n",
    "            if(init_labeling & this_label_start_position!=0):\n",
    "                final_label_text.append(this_text[0:this_label_start_position])\n",
    "                final_label_annotation.append('NANA')\n",
    "\n",
    "            final_label_text.append(this_text[this_label_start_position:this_label_end_position])\n",
    "            final_label_annotation.append(this_label_type)\n",
    "\n",
    "            if((i)<sort_index[-1]):\n",
    "                next_word_start_position = this_literal_list[i+1]['start']\n",
    "                if(this_label_end_position!=next_word_start_position):\n",
    "                    final_label_text.append(this_text[this_label_end_position:next_word_start_position])\n",
    "                    final_label_annotation.append('NANA')\n",
    "\n",
    "\n",
    "            last_end_position=this_label_end_position\n",
    "        #     print('==debug==')\n",
    "        #     print(f'{i=}')\n",
    "        #     print(f'{sort_index[-1]=}')\n",
    "        #     print(f'{this_label_end_position=}')\n",
    "        #     print(f'{len(this_text)=}')\n",
    "        #     print(f'{((i==sort_index[-1]) and this_label_end_position<len(this_text))=}')\n",
    "        #     print('==debug==')\n",
    "\n",
    "            if((i==sort_index[-1]) and this_label_end_position<len(this_text)):\n",
    "                final_label_text.append(this_text[this_label_end_position:])\n",
    "                final_label_annotation.append('NANA')\n",
    "\n",
    "\n",
    "            init_labeling = False\n",
    "        #     break\n",
    "\n",
    "        # print('--------------------')\n",
    "    #     display(f'{final_label_text=}')\n",
    "    #     display(f'{final_label_annotation=}')\n",
    "\n",
    "        final_dataset.append({'text':final_label_text,'label':final_label_annotation})\n",
    "    return final_dataset"
   ]
  },
  {
   "cell_type": "code",
   "execution_count": 13,
   "id": "4027a47d",
   "metadata": {
    "ExecuteTime": {
     "end_time": "2022-09-19T18:52:32.190890Z",
     "start_time": "2022-09-19T18:52:32.186858Z"
    }
   },
   "outputs": [],
   "source": [
    "# this_dataset_df = pd.DataFrame(NEW_LOGIC_convert_label_studio_to_hngFace_autoTrain_dataset(csv_import))\n",
    "# this_dataset_df.to_csv('./dataset_for_huggingface_autoTrain_label_vlassification_NEW_LOGIC.csv',index=False)\n",
    "# this_dataset_df"
   ]
  },
  {
   "cell_type": "code",
   "execution_count": 14,
   "id": "26263a32",
   "metadata": {
    "ExecuteTime": {
     "end_time": "2022-09-19T18:52:32.395177Z",
     "start_time": "2022-09-19T18:52:32.391235Z"
    }
   },
   "outputs": [],
   "source": [
    "# 192.168.227.62 - - [19/Sep/2022 18:09:36] \"GET /api/jobs/65320ac73a4847a2b5a7f8ddbd45b821 HTTP/1.1\" 200 -\n",
    "# 2022-09-19 18:09:37 sparsify.blueprints.jobs INFO     getting job 65320ac73a4847a2b5a7f8ddbd45b821\n",
    "# 2022-09-19 18:09:37 sparsify.blueprints.jobs INFO     retrieved job {'job': {'created': '2022-09-19T18:09:22.636614', 'worker_args': {'model_id': '5f276c2809654a24adb8d4ed4c3da3d7', 'profile_id': '4cbcefb9e2fe4a3fa7903604f72ea5a3', 'batch_size': 10, 'core_count': 8, 'pruning_estimations': True, 'quantized_estimations': False, 'iterations_per_check': 10, 'warmup_iterations_per_check': 5}, 'modified': '2022-09-19T18:09:36.205104', 'type_': 'CreatePerfProfileJobWorker', 'error': None, 'project_id': 'e1852305571c4f138149d12312acc30d', 'job_id': '65320ac73a4847a2b5a7f8ddbd45b821', 'progress': None, 'status': 'started'}}\n",
    "# 192.168.227.62 - - [19/Sep/2022 18:09:37] \"GET /api/jobs/65320ac73a4847a2b5a7f8ddbd45b821 HTTP/1.1\" 200 -\n",
    "# 2022-09-19 18:09:37 sparsify.workers.manager WARNING  Job 65320ac73a4847a2b5a7f8ddbd45b821 errored out Invalid input shape, cannot create a random input shape from: (None,)\n",
    "# 2022-09-19 18:09:37 sparsify.blueprints.jobs INFO     getting job 65320ac73a4847a2b5a7f8ddbd45b821\n",
    "# 2022-09-19 18:09:37 sparsify.blueprints.jobs INFO     retrieved job {'job': {'created': '2022-09-19T18:09:22.636614', 'worker_args': {'model_id': '5f276c2809654a24adb8d4ed4c3da3d7', 'profile_id': '4cbcefb9e2fe4a3fa7903604f72ea5a3', 'batch_size': 10, 'core_count': 8, 'pruning_estimations': True, 'quantized_estimations': False, 'iterations_per_check': 10, 'warmup_iterations_per_check': 5}, 'modified': '2022-09-19T18:09:37.427305', 'type_': 'CreatePerfProfileJobWorker', 'error': 'Invalid input shape, cannot create a random input shape from: (None,)', 'project_id': 'e1852305571c4f138149d12312acc30d', 'job_id': '65320ac73a4847a2b5a7f8ddbd45b821', 'progress': None, 'status': 'canceled'}}\n",
    "# 192.168.227.62 - - [19/Sep/2022 18:09:37] \"GET /api/jobs/65320ac73a4847a2b5a7f8ddbd45b821 HTTP/1.1\" 200 -\n"
   ]
  },
  {
   "cell_type": "markdown",
   "id": "f6b8df03",
   "metadata": {},
   "source": [
    "# Define Predict Function Using Trained Model From AutoTrain Huggingface Returns Dictionary With Data"
   ]
  },
  {
   "cell_type": "code",
   "execution_count": 15,
   "id": "3c608242",
   "metadata": {},
   "outputs": [],
   "source": [
    "# pip install PyTorch"
   ]
  },
  {
   "cell_type": "code",
   "execution_count": 16,
   "id": "8c1b053a",
   "metadata": {
    "ExecuteTime": {
     "end_time": "2022-09-19T18:52:52.647003Z",
     "start_time": "2022-09-19T18:52:34.216591Z"
    }
   },
   "outputs": [],
   "source": [
    "###### LOAD PRETRAINED MODEL FROM HUGGINGFACE autoTrain #################\n",
    "from transformers import AutoModelForTokenClassification, AutoTokenizer\n",
    "model = AutoModelForTokenClassification.from_pretrained(\"hemangjoshi37a/autotrain-ratnakar_1000_sample_curated-1474454086\", use_auth_token=True)\n",
    "tokenizer = AutoTokenizer.from_pretrained(\"hemangjoshi37a/autotrain-ratnakar_1000_sample_curated-1474454086\", use_auth_token=True)"
   ]
  },
  {
   "cell_type": "code",
   "execution_count": 17,
   "id": "ec679ebe",
   "metadata": {
    "ExecuteTime": {
     "end_time": "2022-09-19T18:52:52.903960Z",
     "start_time": "2022-09-19T18:52:52.900014Z"
    }
   },
   "outputs": [],
   "source": [
    "# #### EXPORT HUGGINFFACE MODEL TO ONNX TYPE MODEL #####\n",
    "# base_model=model\n",
    "\n",
    "# from transformers.models.distilbert import DistilBertConfig, DistilBertOnnxConfig\n",
    "\n",
    "# DistilBertOnnxConfig(base_model.config)\n",
    "\n",
    "# from pathlib import Path\n",
    "# from transformers.onnx import export\n",
    "# from transformers import AutoTokenizer, AutoModel\n",
    "\n",
    "# onnx_path = Path(\"./autotrain-ratnakar_1000_sample_curated-1474454086\")\n",
    "# # model_ckpt = \"distilbert-base-uncased\"\n",
    "# # base_model = AutoModel.from_pretrained(model_ckpt)\n",
    "# # tokenizer = AutoTokenizer.from_pretrained(model_ckpt)\n",
    "\n",
    "# onnx_inputs, onnx_outputs = export(tokenizer, base_model, DistilBertOnnxConfig(base_model.config), DistilBertOnnxConfig(base_model.config).default_onnx_opset, onnx_path)\n",
    "\n",
    "# from transformers import AutoConfig\n",
    "\n",
    "# config = AutoConfig.from_pretrained('hemangjoshi37a/autotrain-ratnakar_1000_sample_curated-1474454086')\n",
    "\n",
    "# tokenizer.save_pretrained('./model_files/')\n",
    "# config.save_pretrained('./model_files/')"
   ]
  },
  {
   "cell_type": "code",
   "execution_count": null,
   "id": "be6d3166",
   "metadata": {},
   "outputs": [],
   "source": []
  },
  {
   "cell_type": "code",
   "execution_count": 18,
   "id": "b2461f02",
   "metadata": {
    "ExecuteTime": {
     "end_time": "2022-09-19T18:52:53.024521Z",
     "start_time": "2022-09-19T18:52:53.018838Z"
    }
   },
   "outputs": [],
   "source": [
    "class_number_to_name_dict = {0 : '',\n",
    "                            1 : 'btst',\n",
    "                            2 : 'delivery',\n",
    "                            3 : 'enter',\n",
    "                            4 : 'momentum',\n",
    "                            5 : 'exit',\n",
    "                            6 : 'exit2',\n",
    "                            7 : 'exit3',\n",
    "                            8 : 'intraday',\n",
    "                            9 : 'sl',\n",
    "                            10 : 'symbol',\n",
    "                            11 : 'touched'}\n",
    "# class_number_to_name_dict"
   ]
  },
  {
   "cell_type": "code",
   "execution_count": 19,
   "id": "1ebb89ba",
   "metadata": {
    "ExecuteTime": {
     "end_time": "2022-09-19T18:52:53.164986Z",
     "start_time": "2022-09-19T18:52:53.146703Z"
    }
   },
   "outputs": [],
   "source": [
    "def get_class_map_from_message_NEW(input_message:str) -> dict:\n",
    "    ########### PREDICT TEXT AND CLASSIFY WORDS ##########\n",
    "    ip1 = tokenizer(input_message,return_tensors='pt')\n",
    "    op1 = model(**ip1)\n",
    "\n",
    "    current_word = ''\n",
    "    sentence = []\n",
    "    sentence_class= []\n",
    "    sentence_class_name= []\n",
    "    list_of_decoded_words = tokenizer.batch_decode(ip1['input_ids'][0])\n",
    "    last_word_contained_hash = False\n",
    "    last_classification_numner = 0\n",
    "    last_decoded_word = ''\n",
    "\n",
    "    for onet in range(len(ip1['input_ids'][0])):\n",
    "        this_token = ip1['input_ids'][0][onet]\n",
    "        this_classification = op1.logits[0][onet].tolist()\n",
    "        this_decoded_word = list_of_decoded_words[onet]\n",
    "        this_classification_number = np.argmax(this_classification)\n",
    "\n",
    "        if(this_decoded_word=='[CLS]' or this_decoded_word=='[SEP]'):\n",
    "            continue\n",
    "\n",
    "#         print(f'{this_decoded_word=}')\n",
    "# #         print(f'{this_classification=}')\n",
    "#         print(f'{this_classification_number=}')\n",
    "\n",
    "        this_word_contains_hash= '#' in this_decoded_word\n",
    "\n",
    "        if('#' in this_decoded_word):\n",
    "            hash_replaced_word = this_decoded_word.replace('#','')\n",
    "#             print(f'''{hash_replaced_word=}''')\n",
    "            current_word = current_word+hash_replaced_word\n",
    "#             print(f'{current_word=}')\n",
    "            last_word_contained_hash=True\n",
    "\n",
    "        elif((this_classification_number==last_classification_numner) and ((this_decoded_word=='.') or (last_decoded_word=='.'))):\n",
    "            last_classification_numner = this_classification_number\n",
    "            current_word = current_word+this_decoded_word\n",
    "                \n",
    "        else:\n",
    "#             print('========== insidious ===============')\n",
    "            sentence.append(current_word)\n",
    "            sentence_class.append(last_classification_numner)\n",
    "            sentence_class_name.append(class_number_to_name_dict[last_classification_numner])\n",
    "#             print(f'{current_word=}')\n",
    "#             print(f'{sentence=}')\n",
    "#             print(f'{last_classification_numner=}')\n",
    "#             print(f'{sentence_class=}')\n",
    "#             print(f'{current_word=}')\n",
    "            current_word=this_decoded_word\n",
    "            last_classification_numner = this_classification_number\n",
    "            \n",
    "            last_word_contained_hash=False\n",
    "        last_decoded_word = this_decoded_word\n",
    "\n",
    "\n",
    "#         print('======================================')\n",
    "\n",
    "    sentence.append(current_word)\n",
    "    sentence_class.append(last_classification_numner)\n",
    "    sentence_class_name.append(class_number_to_name_dict[last_classification_numner])\n",
    "    resultsdf = pd.DataFrame({'sentence':sentence,\n",
    "                        'sentence_class':sentence_class,\n",
    "                        'sentence_class_name':sentence_class_name,\n",
    "                       })\n",
    "    \n",
    "#     display(resultsdf)\n",
    "    return resultsdf"
   ]
  },
  {
   "cell_type": "code",
   "execution_count": 20,
   "id": "250e571b",
   "metadata": {
    "ExecuteTime": {
     "end_time": "2022-09-19T18:52:55.620238Z",
     "start_time": "2022-09-19T18:52:53.252214Z"
    },
    "scrolled": false
   },
   "outputs": [
    {
     "data": {
      "text/html": [
       "<div>\n",
       "<style scoped>\n",
       "    .dataframe tbody tr th:only-of-type {\n",
       "        vertical-align: middle;\n",
       "    }\n",
       "\n",
       "    .dataframe tbody tr th {\n",
       "        vertical-align: top;\n",
       "    }\n",
       "\n",
       "    .dataframe thead th {\n",
       "        text-align: right;\n",
       "    }\n",
       "</style>\n",
       "<table border=\"1\" class=\"dataframe\">\n",
       "  <thead>\n",
       "    <tr style=\"text-align: right;\">\n",
       "      <th></th>\n",
       "      <th>sentence</th>\n",
       "      <th>sentence_class</th>\n",
       "      <th>sentence_class_name</th>\n",
       "    </tr>\n",
       "  </thead>\n",
       "  <tbody>\n",
       "    <tr>\n",
       "      <th>0</th>\n",
       "      <td></td>\n",
       "      <td>0</td>\n",
       "      <td></td>\n",
       "    </tr>\n",
       "    <tr>\n",
       "      <th>1</th>\n",
       "      <td>[</td>\n",
       "      <td>0</td>\n",
       "      <td></td>\n",
       "    </tr>\n",
       "    <tr>\n",
       "      <th>2</th>\n",
       "      <td>Photo</td>\n",
       "      <td>0</td>\n",
       "      <td></td>\n",
       "    </tr>\n",
       "    <tr>\n",
       "      <th>3</th>\n",
       "      <td>]</td>\n",
       "      <td>0</td>\n",
       "      <td></td>\n",
       "    </tr>\n",
       "    <tr>\n",
       "      <th>4</th>\n",
       "      <td>FUNDAMENTALS</td>\n",
       "      <td>0</td>\n",
       "      <td></td>\n",
       "    </tr>\n",
       "  </tbody>\n",
       "</table>\n",
       "</div>"
      ],
      "text/plain": [
       "       sentence  sentence_class sentence_class_name\n",
       "0                             0                    \n",
       "1             [               0                    \n",
       "2         Photo               0                    \n",
       "3             ]               0                    \n",
       "4  FUNDAMENTALS               0                    "
      ]
     },
     "execution_count": 20,
     "metadata": {},
     "output_type": "execute_result"
    }
   ],
   "source": [
    "get_class_map_from_message_NEW('''[ Photo ]\n",
    "FUNDAMENTALS''')"
   ]
  },
  {
   "cell_type": "markdown",
   "id": "db3ee5da",
   "metadata": {},
   "source": [
    "# Make list_of_predictions using HuggingFace autoTrain model"
   ]
  },
  {
   "cell_type": "code",
   "execution_count": 23,
   "id": "c7f495fd",
   "metadata": {
    "ExecuteTime": {
     "end_time": "2022-09-19T18:52:55.722566Z",
     "start_time": "2022-09-19T18:52:55.719508Z"
    }
   },
   "outputs": [],
   "source": [
    "list_of_predictions = joblib.load('./list_of_predictions.p')\n",
    "# list_len = len(list_of_predictions)\n",
    "# # len_of_messagedf = len(messagedf.index)\n",
    "# print(f'{list_len=}')\n",
    "# # print(f'{len_of_messagedf=}')"
   ]
  },
  {
   "cell_type": "code",
   "execution_count": 24,
   "id": "912b2a3c",
   "metadata": {
    "ExecuteTime": {
     "end_time": "2022-09-19T18:52:55.809680Z",
     "start_time": "2022-09-19T18:52:55.806865Z"
    }
   },
   "outputs": [],
   "source": [
    "# list_of_predictions = []\n",
    "# for one_message in tqdm(messagesdf.message):\n",
    "# #     print(one_message)\n",
    "#     this_pred = get_class_map_from_message_NEW(one_message)\n",
    "#     list_of_predictions.append(this_pred)\n",
    "# #     print(list_of_predictions)\n",
    "# #     break"
   ]
  },
  {
   "cell_type": "code",
   "execution_count": 25,
   "id": "b516ae47",
   "metadata": {
    "ExecuteTime": {
     "end_time": "2022-09-19T18:52:55.901468Z",
     "start_time": "2022-09-19T18:52:55.898815Z"
    }
   },
   "outputs": [],
   "source": [
    "# joblib.dump(list_of_predictions,'./list_of_predictions.p')"
   ]
  },
  {
   "cell_type": "code",
   "execution_count": null,
   "id": "57ca58d2",
   "metadata": {},
   "outputs": [],
   "source": []
  },
  {
   "cell_type": "markdown",
   "id": "6afdae1e",
   "metadata": {},
   "source": [
    "# Interactively Curate True and Falsified Predictions and store to joblib file"
   ]
  },
  {
   "cell_type": "code",
   "execution_count": 26,
   "id": "0cbe5206",
   "metadata": {
    "ExecuteTime": {
     "end_time": "2022-09-19T18:52:57.156211Z",
     "start_time": "2022-09-19T18:52:55.990295Z"
    }
   },
   "outputs": [
    {
     "data": {
      "text/html": [
       "<div>\n",
       "<style scoped>\n",
       "    .dataframe tbody tr th:only-of-type {\n",
       "        vertical-align: middle;\n",
       "    }\n",
       "\n",
       "    .dataframe tbody tr th {\n",
       "        vertical-align: top;\n",
       "    }\n",
       "\n",
       "    .dataframe thead th {\n",
       "        text-align: right;\n",
       "    }\n",
       "</style>\n",
       "<table border=\"1\" class=\"dataframe\">\n",
       "  <thead>\n",
       "    <tr style=\"text-align: right;\">\n",
       "      <th></th>\n",
       "      <th>time</th>\n",
       "      <th>message</th>\n",
       "      <th>symbol</th>\n",
       "      <th>predictions</th>\n",
       "      <th>isPredAccurate</th>\n",
       "    </tr>\n",
       "  </thead>\n",
       "  <tbody>\n",
       "    <tr>\n",
       "      <th>0</th>\n",
       "      <td>2022-09-08 06:50:40</td>\n",
       "      <td>FRIENDS..\\n\\nANYTIME MOMENTUM CAN COME IN DCMN...</td>\n",
       "      <td>DCMNVL</td>\n",
       "      <td>0                     \n",
       "1     FRIENDS..ANYTIME\n",
       "...</td>\n",
       "      <td>True</td>\n",
       "    </tr>\n",
       "    <tr>\n",
       "      <th>1</th>\n",
       "      <td>2022-09-08 06:42:16</td>\n",
       "      <td>KEEP DCMNVL ON RADAR\\n\\nAND WAIT TILL THERE IS...</td>\n",
       "      <td>DCMNVL</td>\n",
       "      <td>0           \n",
       "1       KEEP\n",
       "2     DCMNVL\n",
       "3      ...</td>\n",
       "      <td>True</td>\n",
       "    </tr>\n",
       "    <tr>\n",
       "      <th>2</th>\n",
       "      <td>2022-09-08 06:35:28</td>\n",
       "      <td>DCMNVL... DCM Nouvelle Ltd\\n\\nHUGE MOMENTUM AB...</td>\n",
       "      <td>DCMNVL</td>\n",
       "      <td>0                  \n",
       "1            DCMNVL\n",
       "2     ...</td>\n",
       "      <td>True</td>\n",
       "    </tr>\n",
       "    <tr>\n",
       "      <th>3</th>\n",
       "      <td>2022-09-08 06:33:50</td>\n",
       "      <td>SUPER DUPER FUNDAMENTALS</td>\n",
       "      <td>SUPER</td>\n",
       "      <td>0                \n",
       "1           SUPER\n",
       "2         ...</td>\n",
       "      <td>True</td>\n",
       "    </tr>\n",
       "    <tr>\n",
       "      <th>4</th>\n",
       "      <td>2022-09-08 06:32:47</td>\n",
       "      <td>DELIVERY\\n\\nBUY DCMNVL CMP 202.70 SL 175 TARGE...</td>\n",
       "      <td>DCMNVL</td>\n",
       "      <td>0             \n",
       "1     DELIVERY\n",
       "2          BUY\n",
       "3...</td>\n",
       "      <td>False</td>\n",
       "    </tr>\n",
       "    <tr>\n",
       "      <th>...</th>\n",
       "      <td>...</td>\n",
       "      <td>...</td>\n",
       "      <td>...</td>\n",
       "      <td>...</td>\n",
       "      <td>...</td>\n",
       "    </tr>\n",
       "    <tr>\n",
       "      <th>11719</th>\n",
       "      <td>2019-04-04 04:17:21</td>\n",
       "      <td>INTRADAY : BUY GUJGASLTD ABOVE 153 SL 150  TAR...</td>\n",
       "      <td>GUJGASLTD</td>\n",
       "      <td>0              \n",
       "1      INTRADAY\n",
       "2             ...</td>\n",
       "      <td>NaN</td>\n",
       "    </tr>\n",
       "    <tr>\n",
       "      <th>11720</th>\n",
       "      <td>2019-04-04 04:12:08</td>\n",
       "      <td>DELIVERY : BUY BOMDYEING CMP 144.85 SL 134 TAR...</td>\n",
       "      <td>BOMDYEING</td>\n",
       "      <td>0              \n",
       "1      DELIVERY\n",
       "2             ...</td>\n",
       "      <td>NaN</td>\n",
       "    </tr>\n",
       "    <tr>\n",
       "      <th>11721</th>\n",
       "      <td>2019-04-03 09:58:55</td>\n",
       "      <td>BTST : MMTC CMP 29.25</td>\n",
       "      <td>MMTC</td>\n",
       "      <td>0         \n",
       "1     BTST\n",
       "2        :\n",
       "3     MMTC\n",
       "4 ...</td>\n",
       "      <td>NaN</td>\n",
       "    </tr>\n",
       "    <tr>\n",
       "      <th>11722</th>\n",
       "      <td>2019-04-03 09:55:59</td>\n",
       "      <td>BTST : EMKAY CMP 110</td>\n",
       "      <td>EMKAY</td>\n",
       "      <td>0         \n",
       "1     BTST\n",
       "2        :\n",
       "3    EMKAY\n",
       "4 ...</td>\n",
       "      <td>NaN</td>\n",
       "    </tr>\n",
       "    <tr>\n",
       "      <th>11723</th>\n",
       "      <td>2019-04-03 08:07:28</td>\n",
       "      <td>None</td>\n",
       "      <td>NaN</td>\n",
       "      <td>0        \n",
       "1    None\n",
       "Name: sentence, dtype: object</td>\n",
       "      <td>True</td>\n",
       "    </tr>\n",
       "  </tbody>\n",
       "</table>\n",
       "<p>11724 rows × 5 columns</p>\n",
       "</div>"
      ],
      "text/plain": [
       "                     time                                            message  \\\n",
       "0     2022-09-08 06:50:40  FRIENDS..\\n\\nANYTIME MOMENTUM CAN COME IN DCMN...   \n",
       "1     2022-09-08 06:42:16  KEEP DCMNVL ON RADAR\\n\\nAND WAIT TILL THERE IS...   \n",
       "2     2022-09-08 06:35:28  DCMNVL... DCM Nouvelle Ltd\\n\\nHUGE MOMENTUM AB...   \n",
       "3     2022-09-08 06:33:50                          SUPER DUPER FUNDAMENTALS    \n",
       "4     2022-09-08 06:32:47  DELIVERY\\n\\nBUY DCMNVL CMP 202.70 SL 175 TARGE...   \n",
       "...                   ...                                                ...   \n",
       "11719 2019-04-04 04:17:21  INTRADAY : BUY GUJGASLTD ABOVE 153 SL 150  TAR...   \n",
       "11720 2019-04-04 04:12:08  DELIVERY : BUY BOMDYEING CMP 144.85 SL 134 TAR...   \n",
       "11721 2019-04-03 09:58:55                             BTST : MMTC CMP 29.25    \n",
       "11722 2019-04-03 09:55:59                              BTST : EMKAY CMP 110    \n",
       "11723 2019-04-03 08:07:28                                              None    \n",
       "\n",
       "          symbol                                        predictions  \\\n",
       "0         DCMNVL  0                     \n",
       "1     FRIENDS..ANYTIME\n",
       "...   \n",
       "1         DCMNVL  0           \n",
       "1       KEEP\n",
       "2     DCMNVL\n",
       "3      ...   \n",
       "2         DCMNVL  0                  \n",
       "1            DCMNVL\n",
       "2     ...   \n",
       "3          SUPER  0                \n",
       "1           SUPER\n",
       "2         ...   \n",
       "4         DCMNVL  0             \n",
       "1     DELIVERY\n",
       "2          BUY\n",
       "3...   \n",
       "...          ...                                                ...   \n",
       "11719  GUJGASLTD  0              \n",
       "1      INTRADAY\n",
       "2             ...   \n",
       "11720  BOMDYEING  0              \n",
       "1      DELIVERY\n",
       "2             ...   \n",
       "11721       MMTC  0         \n",
       "1     BTST\n",
       "2        :\n",
       "3     MMTC\n",
       "4 ...   \n",
       "11722      EMKAY  0         \n",
       "1     BTST\n",
       "2        :\n",
       "3    EMKAY\n",
       "4 ...   \n",
       "11723        NaN  0        \n",
       "1    None\n",
       "Name: sentence, dtype: object   \n",
       "\n",
       "      isPredAccurate  \n",
       "0               True  \n",
       "1               True  \n",
       "2               True  \n",
       "3               True  \n",
       "4              False  \n",
       "...              ...  \n",
       "11719            NaN  \n",
       "11720            NaN  \n",
       "11721            NaN  \n",
       "11722            NaN  \n",
       "11723           True  \n",
       "\n",
       "[11724 rows x 5 columns]"
      ]
     },
     "execution_count": 26,
     "metadata": {},
     "output_type": "execute_result"
    }
   ],
   "source": [
    "##### Load messagedf using joblib #######\n",
    "messagesdf = joblib.load('./curated_predictions.p')\n",
    "# joblib.dump(messagesdf,'./curated_predictions.p')\n",
    "sample_number = joblib.load('./sample_number.p')['sample_number'][0]\n",
    "# joblib.dump(pd.DataFrame({'sample_number':sample_number},index=[0]),'./sample_number.p')\n",
    "messagesdf"
   ]
  },
  {
   "cell_type": "code",
   "execution_count": 27,
   "id": "918d72e2",
   "metadata": {
    "ExecuteTime": {
     "end_time": "2022-09-19T18:52:57.316958Z",
     "start_time": "2022-09-19T18:52:57.300232Z"
    }
   },
   "outputs": [],
   "source": [
    "#### Sample Number Selector Carousal Widget ###\n",
    "def carousel_box_color(i,sample_number) -> str:\n",
    "    if(i==sample_number):\n",
    "        return 'danger'\n",
    "    else:\n",
    "        return 'warning'\n",
    "def carousel_on_sample_number_click(widget_data):\n",
    "    global sample_number\n",
    "    clear_output(wait=True)\n",
    "#     print(widget_data)\n",
    "#     print(int(widget_data.description))\n",
    "    sample_number = int(widget_data.description)\n",
    "#     print(f'{sample_number=}')\n",
    "    display_annotations()\n",
    "    display_common_widget()\n",
    "    sample_number+=1\n",
    "    \n",
    "def carousal_number_range(sample_number) -> range:\n",
    "    if(sample_number>40):\n",
    "        return range(sample_number-20,sample_number+20)\n",
    "    else:\n",
    "        return range(50)\n",
    "\n",
    "def display_sample_number_selector_carousal(sample_number):\n",
    "    item_layout = widgets.Layout(height='25px', min_width='60px')\n",
    "    items = [widgets.Button(layout=item_layout, description=str(i), button_style=carousel_box_color(i,sample_number)) for i in carousal_number_range(sample_number)]\n",
    "    box_layout = widgets.Layout(overflow='scroll hidden',\n",
    "                        border='3px solid black',\n",
    "                        width='700px',\n",
    "                        height='',\n",
    "                        flex_flow='row',\n",
    "                        display='flex')\n",
    "    sample_number_selector_carousel = widgets.Box(children=items, layout=box_layout,)\n",
    "    for each_item in  items:\n",
    "        each_item.on_click(partial(carousel_on_sample_number_click))\n",
    "    display(sample_number_selector_carousel)\n",
    "\n",
    "# display_sample_number_selector_carousal(sample_number)"
   ]
  },
  {
   "cell_type": "code",
   "execution_count": 30,
   "id": "f7c985f2",
   "metadata": {
    "ExecuteTime": {
     "end_time": "2022-09-19T19:22:17.711961Z",
     "start_time": "2022-09-19T19:22:17.694773Z"
    }
   },
   "outputs": [],
   "source": [
    "####### Fx for displaying widget and predicted annotations #########\n",
    "def display_annotations():\n",
    "    global messagesdf\n",
    "    print(messagesdf.message[sample_number])\n",
    "    \n",
    "    this_predictions=list_of_predictions[sample_number]\n",
    "    # this_predictions = get_class_map_from_message_NEW(messagesdf.message[sample_number])\n",
    "    ## inserting value in cell [index(messagedf_index),prediction(coumn_name)]\n",
    "    messagesdf.iloc[sample_number,3]=this_predictions\n",
    "    joblib.dump(messagesdf,'./curated_predictions.p')\n",
    "    joblib.dump(pd.DataFrame({'sample_number':sample_number},index=[0]),'./sample_number.p')\n",
    "    display(this_predictions)\n",
    "\n",
    "def display_common_widget():\n",
    "    print(f'----- {sample_number} -----')\n",
    "    display(widgets.HBox([previous_button,false_pred_button,true_pred_button, next_button]))\n",
    "    if(sample_number<=5):\n",
    "        display(messagesdf.head(9))\n",
    "    if(sample_number>5):\n",
    "        display(messagesdf[sample_number-4:sample_number+5])\n",
    "    display_sample_number_selector_carousal(sample_number)\n",
    "\n",
    "####### Define onClick functions for buttons #########\n",
    "def true_prediction_onclick(ipip):\n",
    "    global sample_number,messagesdf\n",
    "    clear_output(wait=True)\n",
    "    messagesdf.iloc[sample_number,4]=True\n",
    "    sample_number+=1\n",
    "    ## inserting value in cell [index(messagedf_index),isPredAccurate(coumn_name)]\n",
    "    display_annotations()\n",
    "    display_common_widget()\n",
    "    \n",
    "def false_prediction_onclick(ipip):\n",
    "    global sample_number,messagesdf\n",
    "    clear_output(wait=True)\n",
    "    messagesdf.iloc[sample_number,4]=False\n",
    "    sample_number+=1\n",
    "    ## inserting value in cell [index(messagedf_index),isPredAccurate(coumn_name)]\n",
    "    display_annotations()\n",
    "    display_common_widget()\n",
    "    \n",
    "def previous_button_onclick(ipip):\n",
    "    global sample_number\n",
    "    sample_number-=1\n",
    "    clear_output(wait=True)\n",
    "    display_annotations()\n",
    "    display_common_widget()\n",
    "\n",
    "def next_button_onclick(ipip):\n",
    "    global sample_number\n",
    "    sample_number+=1\n",
    "    clear_output(wait=True)\n",
    "    display_annotations()\n",
    "    display_common_widget()"
   ]
  },
  {
   "cell_type": "code",
   "execution_count": 31,
   "id": "2f6c5385",
   "metadata": {
    "ExecuteTime": {
     "end_time": "2022-09-19T19:22:20.212327Z",
     "start_time": "2022-09-19T19:22:18.491939Z"
    }
   },
   "outputs": [
    {
     "name": "stdout",
     "output_type": "stream",
     "text": [
      "REFEX IS TRYING TO BREAKOUT\n",
      "\n",
      "OPEN - LOW IS SAME.. WHICH IS A BULLISH SIGN \n"
     ]
    },
    {
     "data": {
      "text/html": [
       "<div>\n",
       "<style scoped>\n",
       "    .dataframe tbody tr th:only-of-type {\n",
       "        vertical-align: middle;\n",
       "    }\n",
       "\n",
       "    .dataframe tbody tr th {\n",
       "        vertical-align: top;\n",
       "    }\n",
       "\n",
       "    .dataframe thead th {\n",
       "        text-align: right;\n",
       "    }\n",
       "</style>\n",
       "<table border=\"1\" class=\"dataframe\">\n",
       "  <thead>\n",
       "    <tr style=\"text-align: right;\">\n",
       "      <th></th>\n",
       "      <th>sentence</th>\n",
       "      <th>sentence_class</th>\n",
       "      <th>sentence_class_name</th>\n",
       "    </tr>\n",
       "  </thead>\n",
       "  <tbody>\n",
       "    <tr>\n",
       "      <th>0</th>\n",
       "      <td></td>\n",
       "      <td>0</td>\n",
       "      <td></td>\n",
       "    </tr>\n",
       "    <tr>\n",
       "      <th>1</th>\n",
       "      <td>REFEX</td>\n",
       "      <td>10</td>\n",
       "      <td>symbol</td>\n",
       "    </tr>\n",
       "    <tr>\n",
       "      <th>2</th>\n",
       "      <td>IS</td>\n",
       "      <td>0</td>\n",
       "      <td></td>\n",
       "    </tr>\n",
       "    <tr>\n",
       "      <th>3</th>\n",
       "      <td>TRYING</td>\n",
       "      <td>0</td>\n",
       "      <td></td>\n",
       "    </tr>\n",
       "    <tr>\n",
       "      <th>4</th>\n",
       "      <td>TO</td>\n",
       "      <td>0</td>\n",
       "      <td></td>\n",
       "    </tr>\n",
       "    <tr>\n",
       "      <th>5</th>\n",
       "      <td>BREAKOUT</td>\n",
       "      <td>0</td>\n",
       "      <td></td>\n",
       "    </tr>\n",
       "    <tr>\n",
       "      <th>6</th>\n",
       "      <td>OPEN</td>\n",
       "      <td>0</td>\n",
       "      <td></td>\n",
       "    </tr>\n",
       "    <tr>\n",
       "      <th>7</th>\n",
       "      <td>-</td>\n",
       "      <td>0</td>\n",
       "      <td></td>\n",
       "    </tr>\n",
       "    <tr>\n",
       "      <th>8</th>\n",
       "      <td>LOW</td>\n",
       "      <td>0</td>\n",
       "      <td></td>\n",
       "    </tr>\n",
       "    <tr>\n",
       "      <th>9</th>\n",
       "      <td>IS</td>\n",
       "      <td>0</td>\n",
       "      <td></td>\n",
       "    </tr>\n",
       "    <tr>\n",
       "      <th>10</th>\n",
       "      <td>SAME..WHICH</td>\n",
       "      <td>0</td>\n",
       "      <td></td>\n",
       "    </tr>\n",
       "    <tr>\n",
       "      <th>11</th>\n",
       "      <td>IS</td>\n",
       "      <td>0</td>\n",
       "      <td></td>\n",
       "    </tr>\n",
       "    <tr>\n",
       "      <th>12</th>\n",
       "      <td>A</td>\n",
       "      <td>0</td>\n",
       "      <td></td>\n",
       "    </tr>\n",
       "    <tr>\n",
       "      <th>13</th>\n",
       "      <td>BULLISH</td>\n",
       "      <td>0</td>\n",
       "      <td></td>\n",
       "    </tr>\n",
       "    <tr>\n",
       "      <th>14</th>\n",
       "      <td>SIGN</td>\n",
       "      <td>0</td>\n",
       "      <td></td>\n",
       "    </tr>\n",
       "  </tbody>\n",
       "</table>\n",
       "</div>"
      ],
      "text/plain": [
       "       sentence  sentence_class sentence_class_name\n",
       "0                             0                    \n",
       "1         REFEX              10              symbol\n",
       "2            IS               0                    \n",
       "3        TRYING               0                    \n",
       "4            TO               0                    \n",
       "5      BREAKOUT               0                    \n",
       "6          OPEN               0                    \n",
       "7             -               0                    \n",
       "8           LOW               0                    \n",
       "9            IS               0                    \n",
       "10  SAME..WHICH               0                    \n",
       "11           IS               0                    \n",
       "12            A               0                    \n",
       "13      BULLISH               0                    \n",
       "14         SIGN               0                    "
      ]
     },
     "metadata": {},
     "output_type": "display_data"
    },
    {
     "name": "stdout",
     "output_type": "stream",
     "text": [
      "----- 297 -----\n"
     ]
    },
    {
     "data": {
      "application/vnd.jupyter.widget-view+json": {
       "model_id": "68fc3130e0c446cb99280bcee61330cb",
       "version_major": 2,
       "version_minor": 0
      },
      "text/plain": [
       "HBox(children=(Button(button_style='info', description='⏮️ Previous', style=ButtonStyle(), tooltip='Click me')…"
      ]
     },
     "metadata": {},
     "output_type": "display_data"
    },
    {
     "data": {
      "text/html": [
       "<div>\n",
       "<style scoped>\n",
       "    .dataframe tbody tr th:only-of-type {\n",
       "        vertical-align: middle;\n",
       "    }\n",
       "\n",
       "    .dataframe tbody tr th {\n",
       "        vertical-align: top;\n",
       "    }\n",
       "\n",
       "    .dataframe thead th {\n",
       "        text-align: right;\n",
       "    }\n",
       "</style>\n",
       "<table border=\"1\" class=\"dataframe\">\n",
       "  <thead>\n",
       "    <tr style=\"text-align: right;\">\n",
       "      <th></th>\n",
       "      <th>time</th>\n",
       "      <th>message</th>\n",
       "      <th>symbol</th>\n",
       "      <th>predictions</th>\n",
       "      <th>isPredAccurate</th>\n",
       "    </tr>\n",
       "  </thead>\n",
       "  <tbody>\n",
       "    <tr>\n",
       "      <th>293</th>\n",
       "      <td>2022-08-26 06:46:30</td>\n",
       "      <td>DON'T MISS</td>\n",
       "      <td>NaN</td>\n",
       "      <td>[, DON, ', T, MISS]</td>\n",
       "      <td>True</td>\n",
       "    </tr>\n",
       "    <tr>\n",
       "      <th>294</th>\n",
       "      <td>2022-08-26 06:46:25</td>\n",
       "      <td>AUSOMENT...</td>\n",
       "      <td>AUSOMENT</td>\n",
       "      <td>[, AUSOMENT, ...]</td>\n",
       "      <td>True</td>\n",
       "    </tr>\n",
       "    <tr>\n",
       "      <th>295</th>\n",
       "      <td>2022-08-26 06:43:34</td>\n",
       "      <td>FRIENDS.. EYES ON AUSOMENT \\n\\nABOVE 82 IS A F...</td>\n",
       "      <td>AUSOMENT</td>\n",
       "      <td>[, FRIENDS..EYES, ON, AUSOMENT, ABOVE, 82, IS,...</td>\n",
       "      <td>True</td>\n",
       "    </tr>\n",
       "    <tr>\n",
       "      <th>296</th>\n",
       "      <td>2022-08-26 06:39:54</td>\n",
       "      <td>WATCHOUT FRIENDS...\\n\\nREFEX GIVEN FOR BUY AT ...</td>\n",
       "      <td>REFEX</td>\n",
       "      <td>[, WATCHOUT, FRIENDS..., REFEX, GIVEN, FOR, BU...</td>\n",
       "      <td>False</td>\n",
       "    </tr>\n",
       "    <tr>\n",
       "      <th>297</th>\n",
       "      <td>2022-08-26 06:22:48</td>\n",
       "      <td>REFEX IS TRYING TO BREAKOUT\\n\\nOPEN - LOW IS S...</td>\n",
       "      <td>REFEX</td>\n",
       "      <td>[, REFEX, IS, TRYING, TO, BREAKOUT, OPEN, -, L...</td>\n",
       "      <td>NaN</td>\n",
       "    </tr>\n",
       "    <tr>\n",
       "      <th>298</th>\n",
       "      <td>2022-08-26 06:16:16</td>\n",
       "      <td>FLAG BREAKOUT\\n\\nINTRADAY  :BUY REFEX ABOVE 13...</td>\n",
       "      <td>REFEX</td>\n",
       "      <td>0             \n",
       "1         FLAG\n",
       "2     BREAKOUT\n",
       "3...</td>\n",
       "      <td>NaN</td>\n",
       "    </tr>\n",
       "    <tr>\n",
       "      <th>299</th>\n",
       "      <td>2022-08-26 05:58:44</td>\n",
       "      <td>ZUARI : SAME PATTERN AS KUANTUM AND SEE IT DID...</td>\n",
       "      <td>ZUARI</td>\n",
       "      <td>0              \n",
       "1         ZUARI\n",
       "2             ...</td>\n",
       "      <td>NaN</td>\n",
       "    </tr>\n",
       "    <tr>\n",
       "      <th>300</th>\n",
       "      <td>2022-08-26 05:50:32</td>\n",
       "      <td>IF IT SUSTAINS ABOVE 93 THEN CAN MOVE UPTO 104...</td>\n",
       "      <td>NaN</td>\n",
       "      <td>0             \n",
       "1           IF\n",
       "2           IT\n",
       "3...</td>\n",
       "      <td>NaN</td>\n",
       "    </tr>\n",
       "    <tr>\n",
       "      <th>301</th>\n",
       "      <td>2022-08-26 05:46:42</td>\n",
       "      <td>PATTERN OF INVERTED H&amp;S\\n\\nA CLOSE ABOVE 93 LE...</td>\n",
       "      <td>NaN</td>\n",
       "      <td>0                \n",
       "1         PATTERN\n",
       "2         ...</td>\n",
       "      <td>NaN</td>\n",
       "    </tr>\n",
       "  </tbody>\n",
       "</table>\n",
       "</div>"
      ],
      "text/plain": [
       "                   time                                            message  \\\n",
       "293 2022-08-26 06:46:30                                        DON'T MISS    \n",
       "294 2022-08-26 06:46:25                                       AUSOMENT...    \n",
       "295 2022-08-26 06:43:34  FRIENDS.. EYES ON AUSOMENT \\n\\nABOVE 82 IS A F...   \n",
       "296 2022-08-26 06:39:54  WATCHOUT FRIENDS...\\n\\nREFEX GIVEN FOR BUY AT ...   \n",
       "297 2022-08-26 06:22:48  REFEX IS TRYING TO BREAKOUT\\n\\nOPEN - LOW IS S...   \n",
       "298 2022-08-26 06:16:16  FLAG BREAKOUT\\n\\nINTRADAY  :BUY REFEX ABOVE 13...   \n",
       "299 2022-08-26 05:58:44  ZUARI : SAME PATTERN AS KUANTUM AND SEE IT DID...   \n",
       "300 2022-08-26 05:50:32  IF IT SUSTAINS ABOVE 93 THEN CAN MOVE UPTO 104...   \n",
       "301 2022-08-26 05:46:42  PATTERN OF INVERTED H&S\\n\\nA CLOSE ABOVE 93 LE...   \n",
       "\n",
       "       symbol                                        predictions  \\\n",
       "293       NaN                                [, DON, ', T, MISS]   \n",
       "294  AUSOMENT                                  [, AUSOMENT, ...]   \n",
       "295  AUSOMENT  [, FRIENDS..EYES, ON, AUSOMENT, ABOVE, 82, IS,...   \n",
       "296     REFEX  [, WATCHOUT, FRIENDS..., REFEX, GIVEN, FOR, BU...   \n",
       "297     REFEX  [, REFEX, IS, TRYING, TO, BREAKOUT, OPEN, -, L...   \n",
       "298     REFEX  0             \n",
       "1         FLAG\n",
       "2     BREAKOUT\n",
       "3...   \n",
       "299     ZUARI  0              \n",
       "1         ZUARI\n",
       "2             ...   \n",
       "300       NaN  0             \n",
       "1           IF\n",
       "2           IT\n",
       "3...   \n",
       "301       NaN  0                \n",
       "1         PATTERN\n",
       "2         ...   \n",
       "\n",
       "    isPredAccurate  \n",
       "293           True  \n",
       "294           True  \n",
       "295           True  \n",
       "296          False  \n",
       "297            NaN  \n",
       "298            NaN  \n",
       "299            NaN  \n",
       "300            NaN  \n",
       "301            NaN  "
      ]
     },
     "metadata": {},
     "output_type": "display_data"
    },
    {
     "data": {
      "application/vnd.jupyter.widget-view+json": {
       "model_id": "387f5bd6523045e588927fa9b0a44d8d",
       "version_major": 2,
       "version_minor": 0
      },
      "text/plain": [
       "Box(children=(Button(button_style='warning', description='277', layout=Layout(height='25px', min_width='60px')…"
      ]
     },
     "metadata": {},
     "output_type": "display_data"
    }
   ],
   "source": [
    "####### Define button instances ########\n",
    "true_pred_button = widgets.Button(\n",
    "    description='True Prediction',\n",
    "    disabled=False,\n",
    "    button_style='success',\n",
    "    tooltip='Click me',\n",
    "    icon='check'\n",
    ")\n",
    "true_pred_button.on_click(partial(true_prediction_onclick))\n",
    "\n",
    "false_pred_button = widgets.Button(\n",
    "    description='False Prediction',\n",
    "    disabled=False,\n",
    "    button_style='danger',\n",
    "    tooltip='Click me',\n",
    "    icon='close'\n",
    ")\n",
    "false_pred_button.on_click(partial(false_prediction_onclick))\n",
    "\n",
    "previous_button = widgets.Button(\n",
    "    description='⏮️ Previous',\n",
    "    disabled=False,\n",
    "    button_style='info', \n",
    "    tooltip='Click me',\n",
    ")\n",
    "previous_button.on_click(partial(previous_button_onclick))\n",
    "\n",
    "\n",
    "next_button = widgets.Button(\n",
    "    description='Next ⏭️',\n",
    "    disabled=False,\n",
    "    button_style='info',\n",
    "    tooltip='Click me',\n",
    ")\n",
    "next_button.on_click(partial(next_button_onclick))\n",
    "\n",
    "display_annotations()\n",
    "display_common_widget()"
   ]
  },
  {
   "cell_type": "code",
   "execution_count": 37,
   "id": "02e6f48c",
   "metadata": {},
   "outputs": [
    {
     "name": "stdout",
     "output_type": "stream",
     "text": [
      "huggingface/tokenizers: The current process just got forked, after parallelism has already been used. Disabling parallelism to avoid deadlocks...\n",
      "To disable this warning, you can either:\n",
      "\t- Avoid using `tokenizers` before the fork if possible\n",
      "\t- Explicitly set the environment variable TOKENIZERS_PARALLELISM=(true | false)\n",
      "Collecting pyotp\n",
      "  Downloading pyotp-2.7.0-py3-none-any.whl (12 kB)\n",
      "Installing collected packages: pyotp\n",
      "Successfully installed pyotp-2.7.0\n",
      "Note: you may need to restart the kernel to use updated packages.\n"
     ]
    }
   ],
   "source": [
    "# pip install pyotp"
   ]
  },
  {
   "cell_type": "markdown",
   "id": "69fa5582",
   "metadata": {},
   "source": [
    "# Backtest agaist real data"
   ]
  },
  {
   "cell_type": "code",
   "execution_count": 38,
   "id": "faab7eab",
   "metadata": {
    "ExecuteTime": {
     "end_time": "2022-09-19T04:32:41.802436Z",
     "start_time": "2022-09-19T04:32:38.830094Z"
    }
   },
   "outputs": [
    {
     "name": "stdout",
     "output_type": "stream",
     "text": [
      "Incorrect `api_key` or `access_token`.\n"
     ]
    },
    {
     "data": {
      "text/plain": [
       "'Hemang Atulkumar Joshi'"
      ]
     },
     "metadata": {},
     "output_type": "display_data"
    },
    {
     "data": {
      "text/plain": [
       "'Hemang Atulkumar Joshi'"
      ]
     },
     "metadata": {},
     "output_type": "display_data"
    }
   ],
   "source": [
    "########### IMPORT LIBRARIES ##############\n",
    "import datetime\n",
    "# pd.set_option('plotting.backend', 'pandas_bokeh')\n",
    "# import pandas_bokeh\n",
    "# pandas_bokeh.output_notebook()\n",
    "from kiteconnect import  exceptions\n",
    "import login_new\n",
    "kite = joblib.load('./kitefile.p')\n",
    "try:\n",
    "    display(kite.profile()['user_name'])\n",
    "except Exception as tknxcp:\n",
    "    print(tknxcp)\n",
    "    kite = login_new.login_haj_new()\n",
    "    display(kite.profile()['user_name'])"
   ]
  },
  {
   "cell_type": "code",
   "execution_count": null,
   "id": "441e6628",
   "metadata": {
    "ExecuteTime": {
     "end_time": "2022-09-19T04:32:47.556839Z",
     "start_time": "2022-09-19T04:32:47.513123Z"
    }
   },
   "outputs": [],
   "source": [
    "droppedna = messagesdf.dropna()\n",
    "true_predictions_df = droppedna.loc[droppedna.isPredAccurate]\n",
    "#### Time correct Time column\n",
    "true_predictions_df.time =  true_predictions_df.time + datetime.timedelta(minutes=29, hours=5)\n",
    "true_predictions_df"
   ]
  },
  {
   "cell_type": "code",
   "execution_count": null,
   "id": "63541627",
   "metadata": {
    "ExecuteTime": {
     "end_time": "2022-09-19T04:33:08.008895Z",
     "start_time": "2022-09-19T04:32:57.484973Z"
    },
    "scrolled": true
   },
   "outputs": [],
   "source": [
    "#### extracting onyl those rows data which has all 4 values in predictions\n",
    "#### 1:symbol, 2:enter, 3:sl, 4:exit\n",
    "timeOfPredToClassDataList = [] # list to create time based dataframe of classification\n",
    "for index,data in tqdm(true_predictions_df.iterrows()):\n",
    "#     print(index)\n",
    "    this_prediction = get_class_map_from_message_NEW(data.message)\n",
    "#     display(this_prediction)\n",
    "    check_if_all_val_available_in_prediction = set([2,3,5,9,10]).issubset(set(this_prediction.sentence_class.tolist())) or   set([8,3,5,9,10]).issubset(set(this_prediction.sentence_class.tolist())) \n",
    "#     print(check_if_all_val_available_in_prediction)\n",
    "    if(check_if_all_val_available_in_prediction):\n",
    "        this_symbol = this_prediction.loc[this_prediction['sentence_class_name'] == 'symbol']['sentence'].tolist()[0]\n",
    "        this_enter = float(this_prediction.loc[this_prediction['sentence_class_name'] == 'enter']['sentence'].tolist()[0])\n",
    "        this_sl = float(this_prediction.loc[this_prediction['sentence_class_name'] == 'sl']['sentence'].tolist()[0])\n",
    "        this_exit = float(this_prediction.loc[this_prediction['sentence_class_name'] == 'exit']['sentence'].tolist()[0])\n",
    "        print(f'''Entry time = {data['time']}''')\n",
    "        print(f'{this_symbol=}')\n",
    "        print(f'{this_enter=}')\n",
    "        print(f'{this_sl=}')\n",
    "        print(f'{this_exit=}')\n",
    "        try:\n",
    "            this_insttkn = kite.ltp(f'NSE:{this_symbol}')[f'NSE:{this_symbol}']['instrument_token']\n",
    "            timeOfPredToClassDataList.append({'time':data['time'],\n",
    "                                              'symbol':this_symbol,\n",
    "                                              'insttkn':this_insttkn,\n",
    "                                              'enter': this_enter,\n",
    "                                              'sl':this_sl,\n",
    "                                              'exit':this_exit\n",
    "                                             })\n",
    "        except KeyError as ke:\n",
    "            print(f'key error for : {this_symbol} : {ke}')"
   ]
  },
  {
   "cell_type": "code",
   "execution_count": null,
   "id": "f7c301b0",
   "metadata": {
    "ExecuteTime": {
     "end_time": "2022-09-18T13:56:37.561771Z",
     "start_time": "2022-09-18T13:56:37.536697Z"
    }
   },
   "outputs": [],
   "source": [
    "extracted_data_df = pd.DataFrame(timeOfPredToClassDataList)\n",
    "extracted_data_df"
   ]
  },
  {
   "cell_type": "code",
   "execution_count": null,
   "id": "b4ad66a0",
   "metadata": {
    "ExecuteTime": {
     "end_time": "2022-09-18T13:56:41.286604Z",
     "start_time": "2022-09-18T13:56:41.283280Z"
    }
   },
   "outputs": [],
   "source": [
    "# # extracted_data_df = extracted_data_df.loc[::-1, :] # reverse row order\n",
    "# extracted_data_df"
   ]
  },
  {
   "cell_type": "code",
   "execution_count": null,
   "id": "3d6e0e6c",
   "metadata": {
    "ExecuteTime": {
     "end_time": "2022-09-18T18:25:31.152316Z",
     "start_time": "2022-09-18T18:25:31.092156Z"
    }
   },
   "outputs": [],
   "source": [
    "extracted_data_df['exit_time_in_backtest'] = datetime.datetime.now()\n",
    "extracted_data_df['exit_type_in_backtest'] = 'not_yet'\n",
    "extracted_data_df['exit_val_in_backtest'] = 0.0\n",
    "extracted_data_df['enter_val_in_backtest'] = 0.0\n",
    "extracted_data_df['enter_time_in_backtest'] = 0.0\n",
    "extracted_data_df['gained_percent'] = 0.0\n",
    "extracted_data_df"
   ]
  },
  {
   "cell_type": "code",
   "execution_count": null,
   "id": "2e1dd6bd",
   "metadata": {
    "ExecuteTime": {
     "end_time": "2022-09-18T18:40:04.275888Z",
     "start_time": "2022-09-18T18:38:32.652954Z"
    },
    "scrolled": true
   },
   "outputs": [],
   "source": [
    "##### Determine exit types (SL or TGT) if exited and plot gained_percent graph ####\n",
    "pd.options.mode.chained_assignment = None  # default='warn'\n",
    "\n",
    "nest = []\n",
    "nest_symbol_list = []\n",
    "for indx,data in  tqdm(extracted_data_df.iterrows()):\n",
    "    ### getting historical data ###\n",
    "    hist_raw_data = kite.historical_data(data['insttkn'],data['time'],data['time']+datetime.timedelta(days=60),'minute')\n",
    "    histdf = pd.DataFrame(hist_raw_data)\n",
    "    histdf.date=histdf.date.dt.tz_localize(None)\n",
    "#     print(data['symbol'])\n",
    "\n",
    "    histdf_from_message_date = histdf.loc[pd.to_datetime(histdf['date']).dt.date==data['time'].date()]\n",
    "    enterdf = histdf_from_message_date.loc[histdf_from_message_date['high']>data['enter']]\n",
    "\n",
    "    if(enterdf.empty!=True):\n",
    "        enter_price = enterdf.close.tolist()[0]\n",
    "        enter_time = enterdf.date.tolist()[0]\n",
    "#         print(f'{enter_price=}')\n",
    "#         print(f'{enter_time=}')\n",
    "        extracted_data_df['enter_val_in_backtest'][indx] = enter_price\n",
    "        extracted_data_df['enter_time_in_backtest'][indx] = enter_time\n",
    "\n",
    "        ##### determining when TGT and SL hit ####\n",
    "        final_exit_time = datetime.datetime.now()\n",
    "        tgt_exit_time = datetime.datetime.now()\n",
    "        sl_exit_time = datetime.datetime.now()\n",
    "        final_exit_type = 'not_exited_yet'\n",
    "        tgt_exit_val = 0.0\n",
    "        sl_exit_val = 0.0\n",
    "        final_exit_val = 0.0\n",
    "\n",
    "        try:\n",
    "            tgt_exit_df = histdf.loc[histdf.close>data['exit']]\n",
    "            tgt_exit_time = tgt_exit_df.iloc[0]['date']\n",
    "            tgt_exit_val = tgt_exit_df.close.iloc[-1]\n",
    "    #         print(f'{tgt_exit_time=}')\n",
    "    #         print(f'{tgt_exit_val=}')\n",
    "        except IndexError as ie:\n",
    "            pass\n",
    "\n",
    "        try:\n",
    "            sl_exit_df = histdf.loc[histdf.close<data['sl']]\n",
    "            sl_exit_time = sl_exit_df.iloc[0]['date']\n",
    "            sl_exit_val = sl_exit_df.close.iloc[-1]\n",
    "    #         print(f'{sl_exit_time=}')\n",
    "    #         print(f'{sl_exit_val=}')\n",
    "        except IndexError as ie:\n",
    "            pass\n",
    "\n",
    "        ##### determining if exited with TGT or SL by comparing what occured earlier ###\n",
    "        if(tgt_exit_time<sl_exit_time):\n",
    "            final_exit_time = tgt_exit_time\n",
    "            final_exit_type = 'tgt'\n",
    "            final_exit_val = tgt_exit_val\n",
    "        else:\n",
    "            final_exit_time = sl_exit_time\n",
    "            final_exit_type = 'sl'\n",
    "            final_exit_val = sl_exit_val\n",
    "\n",
    "        ### storing final values in extracted_data_df ###\n",
    "        extracted_data_df['exit_time_in_backtest'][indx] = final_exit_time\n",
    "        extracted_data_df['exit_type_in_backtest'][indx] = final_exit_type\n",
    "        extracted_data_df['exit_val_in_backtest'][indx] = final_exit_val\n",
    "\n",
    "    #     print(f'{final_exit_time=}')\n",
    "        final_histdf = histdf.loc[histdf.date<final_exit_time]\n",
    "\n",
    "        if(final_histdf.empty != True):\n",
    "            #### determining percent gained ###\n",
    "            final_histdf['percent_gain'] = 100*(final_histdf.close-enter_price)/enter_price\n",
    "\n",
    "            nest.append(final_histdf.percent_gain.tolist())\n",
    "            nest_symbol_list.append(data['symbol'])\n",
    "\n",
    "            final_percent_gained = final_histdf['percent_gain'].tolist()[-1]\n",
    "            extracted_data_df['gained_percent'][indx] = final_percent_gained\n",
    "        #     histdf[['date','percent_gain']].plot_bokeh(x='date')\n",
    "extracted_data_df"
   ]
  },
  {
   "cell_type": "code",
   "execution_count": null,
   "id": "80879045",
   "metadata": {},
   "outputs": [],
   "source": []
  },
  {
   "cell_type": "code",
   "execution_count": null,
   "id": "770e1c08",
   "metadata": {},
   "outputs": [],
   "source": []
  },
  {
   "cell_type": "code",
   "execution_count": null,
   "id": "ceb28808",
   "metadata": {
    "ExecuteTime": {
     "end_time": "2022-09-18T19:00:02.091704Z",
     "start_time": "2022-09-18T19:00:01.991798Z"
    }
   },
   "outputs": [],
   "source": [
    "import matplotlib as pyplot"
   ]
  },
  {
   "cell_type": "code",
   "execution_count": null,
   "id": "3c87683d",
   "metadata": {
    "ExecuteTime": {
     "end_time": "2022-09-18T18:36:20.780367Z",
     "start_time": "2022-09-18T18:36:18.009364Z"
    },
    "scrolled": true
   },
   "outputs": [],
   "source": [
    "#### Compare gains to Nifty 50 ####\n",
    "nifty_raw = kite.historical_data(256265,extracted_data_df.time.iloc[-1],extracted_data_df.time.iloc[-1]+datetime.timedelta(days=60),'minute')\n",
    "nifty_df = pd.DataFrame(nifty_raw)\n",
    "nifty_gained_percent_in_60days =  100*(nifty_df.close.iloc[-1] - nifty_df.close[0])/nifty_df.close[0]\n",
    "print(f'{nifty_gained_percent_in_60days=}')\n",
    "\n",
    "total_gained_percent_by_all_trades = extracted_data_df.gained_percent.sum()\n",
    "print(f'{total_gained_percent_by_all_trades=}')\n",
    "total_number_of_trades_done = 2*len(extracted_data_df.index)\n",
    "print(f'{total_number_of_trades_done=}')\n",
    "\n",
    "### Calculate compunded gains ####\n",
    "init_percent = 100.0\n",
    "list_map = []\n",
    "for one_percent in extracted_data_df.gained_percent.tolist()[::-1]:\n",
    "    init_percent = init_percent*((100+one_percent)/100)\n",
    "    list_map.append({'init_percent':init_percent,'one_percent':one_percent})\n",
    "#     print(one_percent)\n",
    "compounded_gains = init_percent-100\n",
    "print(f'{compounded_gains=}')\n",
    "pd.DataFrame(list_map).plot()"
   ]
  },
  {
   "cell_type": "code",
   "execution_count": null,
   "id": "b9745c59",
   "metadata": {
    "ExecuteTime": {
     "end_time": "2022-09-18T19:00:09.405105Z",
     "start_time": "2022-09-18T19:00:09.226407Z"
    }
   },
   "outputs": [],
   "source": [
    "pd.DataFrame(list_map).plot()"
   ]
  },
  {
   "cell_type": "code",
   "execution_count": null,
   "id": "500ebf22",
   "metadata": {
    "ExecuteTime": {
     "end_time": "2022-09-18T19:00:12.748463Z",
     "start_time": "2022-09-18T19:00:12.587900Z"
    },
    "scrolled": true
   },
   "outputs": [],
   "source": [
    "extracted_data_df['gained_percent'].plot.bar()"
   ]
  },
  {
   "cell_type": "code",
   "execution_count": null,
   "id": "cb0ad278",
   "metadata": {
    "ExecuteTime": {
     "end_time": "2022-09-18T13:58:32.816098Z",
     "start_time": "2022-09-18T13:58:32.413739Z"
    }
   },
   "outputs": [],
   "source": [
    "final_percent_gain_df = pd.DataFrame(nest, nest_symbol_list).T\n",
    "final_percent_gain_df"
   ]
  },
  {
   "cell_type": "code",
   "execution_count": null,
   "id": "68760fe1",
   "metadata": {
    "ExecuteTime": {
     "end_time": "2022-09-18T13:58:37.449473Z",
     "start_time": "2022-09-18T13:58:37.398784Z"
    },
    "scrolled": true
   },
   "outputs": [],
   "source": [
    "### add counter number at last in repeating column names\n",
    "new_column_name_list = []\n",
    "counter = 0\n",
    "for one_name in final_percent_gain_df.keys().tolist():\n",
    "    if(one_name not in new_column_name_list):\n",
    "        new_column_name_list.append(one_name)\n",
    "    else:\n",
    "        new_column_name_list.append(one_name+'_'+str(counter))\n",
    "        counter+=1\n",
    "        \n",
    "final_percent_gain_df.columns = new_column_name_list\n",
    "final_percent_gain_df"
   ]
  },
  {
   "cell_type": "code",
   "execution_count": null,
   "id": "1696231b",
   "metadata": {},
   "outputs": [],
   "source": []
  },
  {
   "cell_type": "code",
   "execution_count": null,
   "id": "bf0c2ea1",
   "metadata": {},
   "outputs": [],
   "source": []
  },
  {
   "cell_type": "markdown",
   "id": "55894b53",
   "metadata": {},
   "source": [
    "# Listen to Telegram Channel for messages and predict tokens"
   ]
  },
  {
   "cell_type": "code",
   "execution_count": null,
   "id": "6989b2b1",
   "metadata": {
    "ExecuteTime": {
     "end_time": "2022-09-15T19:14:43.480500Z",
     "start_time": "2022-09-15T19:14:42.311460Z"
    }
   },
   "outputs": [],
   "source": [
    "# Code from  https://python.plainenglish.io/telegram-channel-listener-with-python-8176ebe3c89b\n",
    "import configparser\n",
    "import json\n",
    "import re\n",
    "from telethon.errors import SessionPasswordNeededError\n",
    "from telethon import TelegramClient, events, sync\n",
    "from telethon.tl.functions.messages import (GetHistoryRequest)\n",
    "from telethon.tl.types import (PeerChannel)\n",
    "\n",
    "api_id = telegramAuth.api_id\n",
    "api_hash = telegramAuth.api_hash\n",
    "phone = telegramAuth.phone\n",
    "\n",
    "user_input_channel = 'https://t.me/testchannelnottaken'\n",
    "\n",
    "client = TelegramClient(phone, api_id, api_hash)\n",
    "\n",
    "await client.connect()\n",
    "\n",
    "if not await client.is_user_authorized():\n",
    "    await client.send_code_request(phone)\n",
    "    await client.sign_in(phone, input('Enter the code: '))\n",
    "else :\n",
    "    print('Autorised')\n",
    "\n",
    "# Listen to messages from target channel \n",
    "\n",
    "@client.on(events.NewMessage()) \n",
    "async def newMessageListener(event):\n",
    "    # Get message text \n",
    "    newMessage = event.message.message \n",
    "    classified_dict =  get_class_map_from_message_NEW(newMessage)\n",
    "    print(classified_dict)\n",
    "# #### GET FULL MESSAGE EVENT OBJECT in ASYNC MAnner #####\n",
    "# @client.on(events.NewMessage)\n",
    "# async def my_event_handler(event):\n",
    "#     print('{}'.format(event))"
   ]
  },
  {
   "cell_type": "code",
   "execution_count": null,
   "id": "5dfb22b5",
   "metadata": {
    "ExecuteTime": {
     "end_time": "2022-09-15T19:26:11.709270Z",
     "start_time": "2022-09-15T19:14:43.524952Z"
    }
   },
   "outputs": [],
   "source": [
    "##### Start Listening to Messages ########\n",
    "async with client: \n",
    "    print('Now wating for new messages...')\n",
    "    await client.run_until_disconnected() "
   ]
  },
  {
   "cell_type": "code",
   "execution_count": null,
   "id": "cc5dfb21",
   "metadata": {},
   "outputs": [],
   "source": []
  },
  {
   "cell_type": "markdown",
   "id": "d3e15c3f",
   "metadata": {},
   "source": [
    "# Supplimentry Functions"
   ]
  },
  {
   "cell_type": "code",
   "execution_count": null,
   "id": "c267f2e8",
   "metadata": {
    "ExecuteTime": {
     "end_time": "2022-09-11T10:29:17.841071Z",
     "start_time": "2022-09-11T10:29:17.841045Z"
    }
   },
   "outputs": [],
   "source": [
    "### JOIN CHANNEL FROM TELEGRAM CLIENT (not from telepot BOT) ####\n",
    "# from telethon.tl.functions.channels import JoinChannelRequest\n",
    "# await client(JoinChannelRequest('https://t.me/INTRADAY_001'))\n",
    "\n",
    "#### TELEGRAM BOT #####\n",
    "# import telepot\n",
    "# bot_tkn = telegramAuth.bot_tkn\n",
    "# bt1 = telepot.Bot(bot_tkn)\n",
    "# response = bt1.getUpdates()\n",
    "# print(response)\n",
    "\n",
    "# #### GET FULL MESSAGE EVENT OBJECT in ASYNC MAnner #####\n",
    "# @client.on(events.NewMessage)\n",
    "# async def my_event_handler(event):\n",
    "#     print('{}'.format(event))\n",
    "# await client.start()\n",
    "# await client.run_until_disconnected()"
   ]
  },
  {
   "cell_type": "code",
   "execution_count": null,
   "id": "a4a393f7",
   "metadata": {},
   "outputs": [],
   "source": []
  }
 ],
 "metadata": {
  "hide_input": false,
  "kernelspec": {
   "display_name": "Python 3 (ipykernel)",
   "language": "python",
   "name": "python3"
  },
  "language_info": {
   "codemirror_mode": {
    "name": "ipython",
    "version": 3
   },
   "file_extension": ".py",
   "mimetype": "text/x-python",
   "name": "python",
   "nbconvert_exporter": "python",
   "pygments_lexer": "ipython3",
   "version": "3.10.7"
  },
  "toc": {
   "base_numbering": 1,
   "nav_menu": {},
   "number_sections": true,
   "sideBar": true,
   "skip_h1_title": false,
   "title_cell": "Table of Contents",
   "title_sidebar": "Contents",
   "toc_cell": true,
   "toc_position": {
    "height": "calc(100% - 180px)",
    "left": "10px",
    "top": "150px",
    "width": "191px"
   },
   "toc_section_display": false,
   "toc_window_display": false
  },
  "varInspector": {
   "cols": {
    "lenName": 16,
    "lenType": 16,
    "lenVar": 40
   },
   "kernels_config": {
    "python": {
     "delete_cmd_postfix": "",
     "delete_cmd_prefix": "del ",
     "library": "var_list.py",
     "varRefreshCmd": "print(var_dic_list())"
    },
    "r": {
     "delete_cmd_postfix": ") ",
     "delete_cmd_prefix": "rm(",
     "library": "var_list.r",
     "varRefreshCmd": "cat(var_dic_list()) "
    }
   },
   "types_to_exclude": [
    "module",
    "function",
    "builtin_function_or_method",
    "instance",
    "_Feature"
   ],
   "window_display": false
  },
  "vscode": {
   "interpreter": {
    "hash": "54d4b493398c0ed0029d0b30035bee5cba81f47cee1d5a50f694b38eb38bcdb4"
   }
  }
 },
 "nbformat": 4,
 "nbformat_minor": 5
}
