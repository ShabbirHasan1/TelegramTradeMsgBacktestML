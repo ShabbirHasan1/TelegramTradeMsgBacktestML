{
 "cells": [
  {
   "cell_type": "markdown",
   "id": "ced71359",
   "metadata": {
    "toc": true
   },
   "source": [
    "<h1>Table of Contents<span class=\"tocSkip\"></span></h1>\n",
    "<div class=\"toc\"><ul class=\"toc-item\"><li><span><a href=\"#Serve-machine-learning-models-for-Stock-market-messages-classification\" data-toc-modified-id=\"Serve-machine-learning-models-for-Stock-market-messages-classification-1\"><span class=\"toc-item-num\">1&nbsp;&nbsp;</span>Serve machine learning models for Stock market messages classification</a></span><ul class=\"toc-item\"><li><span><a href=\"#Run-API-Back-end\" data-toc-modified-id=\"Run-API-Back-end-1.1\"><span class=\"toc-item-num\">1.1&nbsp;&nbsp;</span>Run API Back-end</a></span></li><li><span><a href=\"#Test-API\" data-toc-modified-id=\"Test-API-1.2\"><span class=\"toc-item-num\">1.2&nbsp;&nbsp;</span>Test API</a></span></li></ul></li></ul></div>"
   ]
  },
  {
   "cell_type": "markdown",
   "id": "fc3eb74f",
   "metadata": {},
   "source": [
    "# Serve machine learning models for Stock market messages classification"
   ]
  },
  {
   "cell_type": "markdown",
   "id": "2bc7523c",
   "metadata": {},
   "source": [
    "## Run API Back-end"
   ]
  },
  {
   "cell_type": "code",
   "execution_count": null,
   "id": "8ae637ea",
   "metadata": {
    "ExecuteTime": {
     "end_time": "2022-09-19T09:43:57.556302Z",
     "start_time": "2022-09-19T09:43:57.545225Z"
    },
    "scrolled": true
   },
   "outputs": [],
   "source": [
    "# from flask import Flask, jsonify\n",
    "# from flask_restful import Api, Resource, reqparse\n",
    "# import pickle\n",
    "# import pandas as pd\n",
    "# import numpy as np\n",
    "# import json\n",
    "# from transformers import AutoModelForTokenClassification, AutoTokenizer\n",
    "\n",
    "# def get_class_map_from_message_NEW(input_message:str) -> dict:\n",
    "\n",
    "#     class_number_to_name_dict = {0 : '',\n",
    "#                                 1 : 'btst',\n",
    "#                                 2 : 'delivery',\n",
    "#                                 3 : 'enter',\n",
    "#                                 4 : 'momentum',\n",
    "#                                 5 : 'exit',\n",
    "#                                 6 : 'exit2',\n",
    "#                                 7 : 'exit3',\n",
    "#                                 8 : 'intraday',\n",
    "#                                 9 : 'sl',\n",
    "#                                 10 : 'symbol',\n",
    "#                                 11 : 'momentum'}\n",
    "#     # class_number_to_name_dict\n",
    "\n",
    "#     ########### PREDICT TEXT AND CLASSIFY WORDS ##########\n",
    "#     print(input_message)\n",
    "#     print(type(input_message))\n",
    "#     input_message = str(input_message)\n",
    "#     print(input_message)\n",
    "#     print(type(input_message))\n",
    "    \n",
    "#     ip1 = tokenizer(input_message,return_tensors='pt')\n",
    "#     op1 = model(**ip1)\n",
    "\n",
    "#     current_word = ''\n",
    "#     sentence = []\n",
    "#     sentence_class= []\n",
    "#     sentence_class_name= []\n",
    "#     list_of_decoded_words = tokenizer.batch_decode(ip1['input_ids'][0])\n",
    "#     last_word_contained_hash = False\n",
    "#     last_classification_numner = 0\n",
    "#     last_decoded_word = ''\n",
    "\n",
    "#     for onet in range(len(ip1['input_ids'][0])):\n",
    "#         this_token = ip1['input_ids'][0][onet]\n",
    "#         this_classification = op1.logits[0][onet].tolist()\n",
    "#         this_decoded_word = list_of_decoded_words[onet]\n",
    "#         this_classification_number = np.argmax(this_classification)\n",
    "\n",
    "#         if(this_decoded_word=='[CLS]' or this_decoded_word=='[SEP]'):\n",
    "#             continue\n",
    "\n",
    "# #         print(f'{this_decoded_word=}')\n",
    "# # #         print(f'{this_classification=}')\n",
    "# #         print(f'{this_classification_number=}')\n",
    "\n",
    "#         this_word_contains_hash= '#' in this_decoded_word\n",
    "\n",
    "#         if('#' in this_decoded_word):\n",
    "#             hash_replaced_word = this_decoded_word.replace('#','')\n",
    "# #             print(f'''{hash_replaced_word=}''')\n",
    "#             current_word = current_word+hash_replaced_word\n",
    "# #             print(f'{current_word=}')\n",
    "#             last_word_contained_hash=True\n",
    "\n",
    "#         elif((this_classification_number==last_classification_numner) and ((this_decoded_word=='.') or (last_decoded_word=='.'))):\n",
    "#             last_classification_numner = this_classification_number\n",
    "#             current_word = current_word+this_decoded_word\n",
    "                \n",
    "#         else:\n",
    "# #             print('========== insidious ===============')\n",
    "#             sentence.append(current_word)\n",
    "#             sentence_class.append(last_classification_numner)\n",
    "#             sentence_class_name.append(class_number_to_name_dict[last_classification_numner])\n",
    "# #             print(f'{current_word=}')\n",
    "# #             print(f'{sentence=}')\n",
    "# #             print(f'{last_classification_numner=}')\n",
    "# #             print(f'{sentence_class=}')\n",
    "# #             print(f'{current_word=}')\n",
    "#             current_word=this_decoded_word\n",
    "#             last_classification_numner = this_classification_number\n",
    "            \n",
    "#             last_word_contained_hash=False\n",
    "#         last_decoded_word = this_decoded_word\n",
    "\n",
    "\n",
    "# #         print('======================================')\n",
    "\n",
    "#     sentence.append(current_word)\n",
    "#     sentence_class.append((last_classification_numner))\n",
    "#     sentence_class_name.append(class_number_to_name_dict[last_classification_numner])\n",
    "#     results_json = {'sentence':str(sentence),\n",
    "#                         'sentence_class':str(sentence_class),\n",
    "#                         'sentence_class_name':str(sentence_class_name),\n",
    "#                        }\n",
    "#     #resultsdf = pd.DataFrame(results_json)\n",
    "    \n",
    "# #     display(resultsdf)\n",
    "#     return results_json\n",
    "\n",
    "\n",
    "# app = Flask(__name__)\n",
    "# api = Api(app)\n",
    "\n",
    "# # Create parser for the payload data\n",
    "# parser = reqparse.RequestParser()\n",
    "# parser.add_argument('data')\n",
    "# def convert(o):\n",
    "#     if isinstance(o, np.generic): return o.item()  \n",
    "#     raise TypeError\n",
    "# # Define how the api will respond to the post requests\n",
    "# class MessageNER(Resource):\n",
    "\n",
    "#     def post(self):\n",
    "#         args = parser.parse_args()\n",
    "#         X = np.array(json.loads(args['data']))\n",
    "#         prediction = get_class_map_from_message_NEW(X)\n",
    "#         return jsonify(prediction)\n",
    "#         #return prediction\n",
    "\n",
    "# api.add_resource(MessageNER, '/classifyner')\n",
    "\n",
    "# if __name__ == '__main__':\n",
    "#     ###### LOAD PRETRAINED MODEL FROM HUGGINGFACE autoTrain #################\n",
    "#     model = AutoModelForTokenClassification.from_pretrained(\"hemangjoshi37a/autotrain-ratnakar_1000_sample_curated-1474454086\", use_auth_token=True)\n",
    "#     tokenizer = AutoTokenizer.from_pretrained(\"hemangjoshi37a/autotrain-ratnakar_1000_sample_curated-1474454086\", use_auth_token=True)\n",
    "\n",
    "#     app.run(debug=True,port=3737)"
   ]
  },
  {
   "cell_type": "code",
   "execution_count": null,
   "id": "fb11f515",
   "metadata": {
    "ExecuteTime": {
     "end_time": "2022-09-19T07:10:50.453849Z",
     "start_time": "2022-09-19T07:10:50.453782Z"
    }
   },
   "outputs": [],
   "source": [
    "# app.run(debug=True,port=1212)"
   ]
  },
  {
   "cell_type": "code",
   "execution_count": null,
   "id": "a5a9abc8",
   "metadata": {},
   "outputs": [],
   "source": []
  },
  {
   "cell_type": "markdown",
   "id": "920dbc38",
   "metadata": {},
   "source": [
    "## Test API"
   ]
  },
  {
   "cell_type": "code",
   "execution_count": null,
   "id": "circular-enzyme",
   "metadata": {
    "ExecuteTime": {
     "end_time": "2022-09-30T18:40:58.727590Z",
     "start_time": "2022-09-30T18:40:56.666457Z"
    }
   },
   "outputs": [],
   "source": [
    "import numpy as np\n",
    "import matplotlib.pyplot as plt\n",
    "import pandas as pd\n",
    "import requests\n",
    "import json\n",
    "\n",
    "from sklearn.datasets import load_iris\n",
    "from sklearn.model_selection import train_test_split\n",
    "from sklearn.metrics import confusion_matrix, ConfusionMatrixDisplay"
   ]
  },
  {
   "cell_type": "code",
   "execution_count": null,
   "id": "3ccc2150",
   "metadata": {
    "ExecuteTime": {
     "end_time": "2022-09-30T18:41:14.705199Z",
     "start_time": "2022-09-30T18:40:58.745930Z"
    },
    "scrolled": true
   },
   "outputs": [
    {
     "data": {
      "text/plain": [
       "array({'sentence': \"['', 'DELIVERY', 'buy', 'HEAMGNSTOCK', ':', 'cmp', '123', 'SL', '120', 'target', '150', '-', '155', '-', '160']\", 'sentence_class': '[0, 2, 0, 0, 0, 0, 3, 0, 9, 0, 5, 0, 6, 0, 7]', 'sentence_class_name': \"['', 'delivery', '', '', '', '', 'enter', '', 'sl', '', 'exit', '', 'exit2', '', 'exit3']\"},\n",
       "      dtype=object)"
      ]
     },
     "execution_count": 2,
     "metadata": {},
     "output_type": "execute_result"
    }
   ],
   "source": [
    "msg_str = 'DELIVERY buy HEAMGNSTOCK : cmp 123 SL 120 target 150-155-160'\n",
    "\n",
    "# Serialize the data into json and send the request to the model\n",
    "payload = {'data': json.dumps(msg_str)}\n",
    "y_predict = requests.post('http://127.0.0.1:3737/classifyner', data=payload).json()\n",
    "\n",
    "# Make array from the list\n",
    "y_predict = np.array(y_predict)\n",
    "y_predict"
   ]
  },
  {
   "cell_type": "code",
   "execution_count": null,
   "id": "f7158219",
   "metadata": {
    "ExecuteTime": {
     "end_time": "2022-09-30T18:41:18.144494Z",
     "start_time": "2022-09-30T18:41:18.138146Z"
    }
   },
   "outputs": [
    {
     "data": {
      "text/plain": [
       "\"['', 'DELIVERY', 'buy', 'HEAMGNSTOCK', ':', 'cmp', '123', 'SL', '120', 'target', '150', '-', '155', '-', '160']\""
      ]
     },
     "execution_count": 3,
     "metadata": {},
     "output_type": "execute_result"
    }
   ],
   "source": [
    "y_predict.all()['sentence']"
   ]
  },
  {
   "cell_type": "code",
   "execution_count": null,
   "id": "91127854",
   "metadata": {},
   "outputs": [],
   "source": []
  },
  {
   "cell_type": "code",
   "execution_count": null,
   "id": "886326e4",
   "metadata": {},
   "outputs": [],
   "source": []
  },
  {
   "cell_type": "code",
   "execution_count": null,
   "id": "12f0c17c",
   "metadata": {},
   "outputs": [],
   "source": []
  },
  {
   "cell_type": "code",
   "execution_count": null,
   "id": "3092495b",
   "metadata": {},
   "outputs": [],
   "source": []
  },
  {
   "cell_type": "code",
   "execution_count": null,
   "id": "c1cbc98a",
   "metadata": {},
   "outputs": [],
   "source": []
  },
  {
   "cell_type": "code",
   "execution_count": null,
   "id": "d788a177",
   "metadata": {},
   "outputs": [],
   "source": []
  },
  {
   "cell_type": "code",
   "execution_count": null,
   "id": "fcb43ddc",
   "metadata": {},
   "outputs": [],
   "source": []
  },
  {
   "cell_type": "code",
   "execution_count": null,
   "id": "f669d159",
   "metadata": {},
   "outputs": [],
   "source": []
  },
  {
   "cell_type": "code",
   "execution_count": null,
   "id": "1f5cc2fa",
   "metadata": {},
   "outputs": [],
   "source": []
  },
  {
   "cell_type": "code",
   "execution_count": null,
   "id": "f8f54883",
   "metadata": {},
   "outputs": [],
   "source": []
  },
  {
   "cell_type": "code",
   "execution_count": null,
   "id": "28b5a498",
   "metadata": {},
   "outputs": [],
   "source": []
  }
 ],
 "metadata": {
  "hide_input": false,
  "kernelspec": {
   "display_name": "Python 3 (ipykernel)",
   "language": "python",
   "name": "python3"
  },
  "language_info": {
   "codemirror_mode": {
    "name": "ipython",
    "version": 3
   },
   "file_extension": ".py",
   "mimetype": "text/x-python",
   "name": "python",
   "nbconvert_exporter": "python",
   "pygments_lexer": "ipython3",
   "version": "3.8.8"
  },
  "toc": {
   "base_numbering": 1,
   "nav_menu": {},
   "number_sections": true,
   "sideBar": true,
   "skip_h1_title": false,
   "title_cell": "Table of Contents",
   "title_sidebar": "Contents",
   "toc_cell": true,
   "toc_position": {},
   "toc_section_display": false,
   "toc_window_display": false
  },
  "varInspector": {
   "cols": {
    "lenName": 16,
    "lenType": 16,
    "lenVar": 40
   },
   "kernels_config": {
    "python": {
     "delete_cmd_postfix": "",
     "delete_cmd_prefix": "del ",
     "library": "var_list.py",
     "varRefreshCmd": "print(var_dic_list())"
    },
    "r": {
     "delete_cmd_postfix": ") ",
     "delete_cmd_prefix": "rm(",
     "library": "var_list.r",
     "varRefreshCmd": "cat(var_dic_list()) "
    }
   },
   "types_to_exclude": [
    "module",
    "function",
    "builtin_function_or_method",
    "instance",
    "_Feature"
   ],
   "window_display": false
  }
 },
 "nbformat": 4,
 "nbformat_minor": 5
}
