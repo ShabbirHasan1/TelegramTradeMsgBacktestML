{
 "cells": [
  {
   "cell_type": "code",
   "execution_count": null,
   "id": "b12ef36a",
   "metadata": {
    "ExecuteTime": {
     "end_time": "2022-09-19T12:03:17.930529Z",
     "start_time": "2022-09-19T12:03:17.926061Z"
    }
   },
   "outputs": [],
   "source": [
    "## !!!!!!!!!! CRASHING LAPTOP !!!!!!!!!!!!!!!!!\n",
    "## !!!!!!!!!! RUN WITH ALL OTERH WINDOWS CLOSED !!!!!\n",
    "from deepsparse.transformers import pipeline\n",
    "token_pipeline = pipeline(\n",
    "    task=\"token-classification\",\n",
    "    model_path= \"./__autotrain-ratnakar_1000_sample_curated-1474454086__\",\n",
    ")\n",
    "token_classes = token_pipeline([\"DeepSparse is the fastest inference engine on CPUs\"])\n",
    "print(token_classes)"
   ]
  },
  {
   "cell_type": "code",
   "execution_count": null,
   "id": "22d46cd6",
   "metadata": {
    "ExecuteTime": {
     "end_time": "2022-09-19T11:41:59.292652Z",
     "start_time": "2022-09-19T11:41:59.292581Z"
    }
   },
   "outputs": [],
   "source": [
    "# from optimum.onnxruntime import "
   ]
  },
  {
   "cell_type": "code",
   "execution_count": null,
   "id": "014c02e2",
   "metadata": {},
   "outputs": [],
   "source": []
  }
 ],
 "metadata": {
  "hide_input": false,
  "kernelspec": {
   "display_name": "Python 3 (ipykernel)",
   "language": "python",
   "name": "python3"
  },
  "language_info": {
   "codemirror_mode": {
    "name": "ipython",
    "version": 3
   },
   "file_extension": ".py",
   "mimetype": "text/x-python",
   "name": "python",
   "nbconvert_exporter": "python",
   "pygments_lexer": "ipython3",
   "version": "3.10.7"
  },
  "toc": {
   "base_numbering": 1,
   "nav_menu": {},
   "number_sections": false,
   "sideBar": false,
   "skip_h1_title": false,
   "title_cell": "Table of Contents",
   "title_sidebar": "Contents",
   "toc_cell": false,
   "toc_position": {},
   "toc_section_display": false,
   "toc_window_display": false
  },
  "varInspector": {
   "cols": {
    "lenName": 16,
    "lenType": 16,
    "lenVar": 40
   },
   "kernels_config": {
    "python": {
     "delete_cmd_postfix": "",
     "delete_cmd_prefix": "del ",
     "library": "var_list.py",
     "varRefreshCmd": "print(var_dic_list())"
    },
    "r": {
     "delete_cmd_postfix": ") ",
     "delete_cmd_prefix": "rm(",
     "library": "var_list.r",
     "varRefreshCmd": "cat(var_dic_list()) "
    }
   },
   "types_to_exclude": [
    "module",
    "function",
    "builtin_function_or_method",
    "instance",
    "_Feature"
   ],
   "window_display": false
  }
 },
 "nbformat": 4,
 "nbformat_minor": 5
}
